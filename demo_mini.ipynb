{
 "cells": [
  {
   "cell_type": "code",
   "execution_count": 1,
   "id": "87569c4d",
   "metadata": {},
   "outputs": [],
   "source": [
    "import numpy as np"
   ]
  },
  {
   "cell_type": "code",
   "execution_count": 2,
   "id": "6bebadc7",
   "metadata": {},
   "outputs": [],
   "source": [
    "from src.engine import Value\n",
    "from src.graph import draw_dot\n",
    "from graphviz import Digraph\n",
    "import matplotlib.pyplot as plt"
   ]
  },
  {
   "cell_type": "code",
   "execution_count": 3,
   "id": "1adc5270",
   "metadata": {},
   "outputs": [],
   "source": [
    "a = Value(3.0)"
   ]
  },
  {
   "cell_type": "code",
   "execution_count": 4,
   "id": "4fdadf0f",
   "metadata": {},
   "outputs": [
    {
     "data": {
      "text/plain": [
       "Value(data=3.0, grad=0.0)"
      ]
     },
     "execution_count": 4,
     "metadata": {},
     "output_type": "execute_result"
    }
   ],
   "source": [
    "a"
   ]
  },
  {
   "cell_type": "code",
   "execution_count": 5,
   "id": "348ed832",
   "metadata": {},
   "outputs": [],
   "source": [
    "b = Value(2.0)"
   ]
  },
  {
   "cell_type": "code",
   "execution_count": 6,
   "id": "a6afeafb",
   "metadata": {},
   "outputs": [
    {
     "data": {
      "text/plain": [
       "Value(data=9.0, grad=0.0)"
      ]
     },
     "execution_count": 6,
     "metadata": {},
     "output_type": "execute_result"
    }
   ],
   "source": [
    "a * 3"
   ]
  },
  {
   "cell_type": "code",
   "execution_count": 7,
   "id": "474c7608",
   "metadata": {},
   "outputs": [
    {
     "data": {
      "text/plain": [
       "Value(data=0.0, grad=0.0)"
      ]
     },
     "execution_count": 7,
     "metadata": {},
     "output_type": "execute_result"
    }
   ],
   "source": [
    "a - 3"
   ]
  },
  {
   "cell_type": "code",
   "execution_count": 8,
   "id": "24b122a9",
   "metadata": {},
   "outputs": [
    {
     "data": {
      "text/plain": [
       "Value(data=9.0, grad=0.0)"
      ]
     },
     "execution_count": 8,
     "metadata": {},
     "output_type": "execute_result"
    }
   ],
   "source": [
    "a * 3"
   ]
  },
  {
   "cell_type": "code",
   "execution_count": 9,
   "id": "e32d67c3",
   "metadata": {},
   "outputs": [
    {
     "data": {
      "text/plain": [
       "Value(data=9.0, grad=0.0)"
      ]
     },
     "execution_count": 9,
     "metadata": {},
     "output_type": "execute_result"
    }
   ],
   "source": [
    "3 * a"
   ]
  },
  {
   "cell_type": "code",
   "execution_count": 10,
   "id": "e1bdb4d4",
   "metadata": {},
   "outputs": [
    {
     "data": {
      "text/plain": [
       "Value(data=-3.0, grad=0.0)"
      ]
     },
     "execution_count": 10,
     "metadata": {},
     "output_type": "execute_result"
    }
   ],
   "source": [
    "a * -1"
   ]
  },
  {
   "cell_type": "code",
   "execution_count": 11,
   "id": "1fc93971",
   "metadata": {},
   "outputs": [
    {
     "data": {
      "text/plain": [
       "Value(data=-3.0, grad=0.0)"
      ]
     },
     "execution_count": 11,
     "metadata": {},
     "output_type": "execute_result"
    }
   ],
   "source": [
    "-1 * a"
   ]
  },
  {
   "cell_type": "code",
   "execution_count": 12,
   "id": "17f052ec",
   "metadata": {},
   "outputs": [
    {
     "data": {
      "text/plain": [
       "Value(data=-3.0, grad=0.0)"
      ]
     },
     "execution_count": 12,
     "metadata": {},
     "output_type": "execute_result"
    }
   ],
   "source": [
    "-a"
   ]
  },
  {
   "cell_type": "code",
   "execution_count": 13,
   "id": "bcf6990d",
   "metadata": {},
   "outputs": [
    {
     "data": {
      "text/plain": [
       "Value(data=0.75, grad=0.0)"
      ]
     },
     "execution_count": 13,
     "metadata": {},
     "output_type": "execute_result"
    }
   ],
   "source": [
    "a / 4"
   ]
  },
  {
   "cell_type": "code",
   "execution_count": 14,
   "id": "331698e2",
   "metadata": {},
   "outputs": [
    {
     "data": {
      "text/plain": [
       "Value(data=6.0, grad=0.0)"
      ]
     },
     "execution_count": 14,
     "metadata": {},
     "output_type": "execute_result"
    }
   ],
   "source": [
    "a + 3"
   ]
  },
  {
   "cell_type": "code",
   "execution_count": 15,
   "id": "7f12db9f",
   "metadata": {},
   "outputs": [
    {
     "data": {
      "text/plain": [
       "Value(data=6.0, grad=0.0)"
      ]
     },
     "execution_count": 15,
     "metadata": {},
     "output_type": "execute_result"
    }
   ],
   "source": [
    "3 + a"
   ]
  },
  {
   "cell_type": "code",
   "execution_count": 16,
   "id": "b1f9b101",
   "metadata": {},
   "outputs": [
    {
     "data": {
      "text/plain": [
       "Value(data=-3.0, grad=0.0)"
      ]
     },
     "execution_count": 16,
     "metadata": {},
     "output_type": "execute_result"
    }
   ],
   "source": [
    "-a"
   ]
  },
  {
   "cell_type": "code",
   "execution_count": 17,
   "id": "1bd0beb2",
   "metadata": {},
   "outputs": [
    {
     "data": {
      "text/plain": [
       "Value(data=0.0, grad=0.0)"
      ]
     },
     "execution_count": 17,
     "metadata": {},
     "output_type": "execute_result"
    }
   ],
   "source": [
    "3 -a"
   ]
  },
  {
   "cell_type": "code",
   "execution_count": 18,
   "id": "e3535ca5",
   "metadata": {},
   "outputs": [
    {
     "data": {
      "text/plain": [
       "Value(data=1.0, grad=0.0)"
      ]
     },
     "execution_count": 18,
     "metadata": {},
     "output_type": "execute_result"
    }
   ],
   "source": [
    "3/a"
   ]
  },
  {
   "cell_type": "code",
   "execution_count": 19,
   "id": "60573786",
   "metadata": {},
   "outputs": [
    {
     "data": {
      "text/plain": [
       "Value(data=1.0, grad=0.0)"
      ]
     },
     "execution_count": 19,
     "metadata": {},
     "output_type": "execute_result"
    }
   ],
   "source": [
    "a/3"
   ]
  },
  {
   "cell_type": "code",
   "execution_count": 20,
   "id": "0c0bc0b3",
   "metadata": {},
   "outputs": [],
   "source": [
    "x = lambda: None"
   ]
  },
  {
   "cell_type": "code",
   "execution_count": 21,
   "id": "8b5946d2",
   "metadata": {},
   "outputs": [
    {
     "data": {
      "text/plain": [
       "<function __main__.<lambda>()>"
      ]
     },
     "execution_count": 21,
     "metadata": {},
     "output_type": "execute_result"
    }
   ],
   "source": [
    "x"
   ]
  },
  {
   "cell_type": "code",
   "execution_count": 22,
   "id": "2b83f97a",
   "metadata": {},
   "outputs": [
    {
     "data": {
      "text/plain": [
       "function"
      ]
     },
     "execution_count": 22,
     "metadata": {},
     "output_type": "execute_result"
    }
   ],
   "source": [
    "type(x)"
   ]
  },
  {
   "cell_type": "code",
   "execution_count": 23,
   "id": "6ddedfb1",
   "metadata": {},
   "outputs": [
    {
     "data": {
      "text/plain": [
       "False"
      ]
     },
     "execution_count": 23,
     "metadata": {},
     "output_type": "execute_result"
    }
   ],
   "source": [
    "x is None"
   ]
  },
  {
   "cell_type": "code",
   "execution_count": 24,
   "id": "b49b895a",
   "metadata": {},
   "outputs": [],
   "source": [
    "a, b = Value(3.0), Value(5.0),"
   ]
  },
  {
   "cell_type": "code",
   "execution_count": 25,
   "id": "190927f1",
   "metadata": {},
   "outputs": [],
   "source": [
    "y = 10*a + 20*b + 30"
   ]
  },
  {
   "cell_type": "code",
   "execution_count": 26,
   "id": "18319b2f",
   "metadata": {},
   "outputs": [],
   "source": [
    "z = a**2"
   ]
  },
  {
   "cell_type": "code",
   "execution_count": 27,
   "id": "43020259",
   "metadata": {},
   "outputs": [
    {
     "data": {
      "image/svg+xml": "<?xml version=\"1.0\" encoding=\"UTF-8\" standalone=\"no\"?>\n<!DOCTYPE svg PUBLIC \"-//W3C//DTD SVG 1.1//EN\"\n \"http://www.w3.org/Graphics/SVG/1.1/DTD/svg11.dtd\">\n<!-- Generated by graphviz version 7.0.5 (20221223.1930)\n -->\n<!-- Pages: 1 -->\n<svg width=\"1083pt\" height=\"210pt\"\n viewBox=\"0.00 0.00 1083.00 210.00\" xmlns=\"http://www.w3.org/2000/svg\" xmlns:xlink=\"http://www.w3.org/1999/xlink\">\n<g id=\"graph0\" class=\"graph\" transform=\"scale(1 1) rotate(0) translate(4 206)\">\n<polygon fill=\"white\" stroke=\"none\" points=\"-4,4 -4,-206 1079,-206 1079,4 -4,4\"/>\n<!-- 4588292608 -->\n<g id=\"node1\" class=\"node\">\n<title>4588292608</title>\n<polygon fill=\"none\" stroke=\"black\" points=\"3.5,-165.5 3.5,-201.5 165.5,-201.5 165.5,-165.5 3.5,-165.5\"/>\n<text text-anchor=\"middle\" x=\"43.5\" y=\"-179.8\" font-family=\"Times,serif\" font-size=\"14.00\">data 5.0000</text>\n<polyline fill=\"none\" stroke=\"black\" points=\"83.5,-165.5 83.5,-201.5\"/>\n<text text-anchor=\"middle\" x=\"124.5\" y=\"-179.8\" font-family=\"Times,serif\" font-size=\"14.00\">grad 0.0000</text>\n</g>\n<!-- 4588295488* -->\n<g id=\"node8\" class=\"node\">\n<title>4588295488*</title>\n<ellipse fill=\"none\" stroke=\"black\" cx=\"232\" cy=\"-128.5\" rx=\"27\" ry=\"18\"/>\n<text text-anchor=\"middle\" x=\"232\" y=\"-124.8\" font-family=\"Times,serif\" font-size=\"14.00\">*</text>\n</g>\n<!-- 4588292608&#45;&gt;4588295488* -->\n<g id=\"edge9\" class=\"edge\">\n<title>4588292608&#45;&gt;4588295488*</title>\n<path fill=\"none\" stroke=\"black\" d=\"M143.74,-165.59C152.27,-162.7 160.9,-159.63 169,-156.5 178.93,-152.67 189.55,-148.06 199.14,-143.71\"/>\n<polygon fill=\"black\" stroke=\"black\" points=\"200.46,-146.95 208.07,-139.58 197.52,-140.6 200.46,-146.95\"/>\n</g>\n<!-- 4588295728 -->\n<g id=\"node2\" class=\"node\">\n<title>4588295728</title>\n<polygon fill=\"none\" stroke=\"black\" points=\"597,-82.5 597,-118.5 773,-118.5 773,-82.5 597,-82.5\"/>\n<text text-anchor=\"middle\" x=\"644\" y=\"-96.8\" font-family=\"Times,serif\" font-size=\"14.00\">data 130.0000</text>\n<polyline fill=\"none\" stroke=\"black\" points=\"691,-82.5 691,-118.5\"/>\n<text text-anchor=\"middle\" x=\"732\" y=\"-96.8\" font-family=\"Times,serif\" font-size=\"14.00\">grad 0.0000</text>\n</g>\n<!-- 4588296064+ -->\n<g id=\"node10\" class=\"node\">\n<title>4588296064+</title>\n<ellipse fill=\"none\" stroke=\"black\" cx=\"836\" cy=\"-72.5\" rx=\"27\" ry=\"18\"/>\n<text text-anchor=\"middle\" x=\"836\" y=\"-68.8\" font-family=\"Times,serif\" font-size=\"14.00\">+</text>\n</g>\n<!-- 4588295728&#45;&gt;4588296064+ -->\n<g id=\"edge5\" class=\"edge\">\n<title>4588295728&#45;&gt;4588296064+</title>\n<path fill=\"none\" stroke=\"black\" d=\"M772.67,-84.21C781.71,-82.51 790.49,-80.86 798.49,-79.36\"/>\n<polygon fill=\"black\" stroke=\"black\" points=\"798.89,-82.85 808.07,-77.56 797.6,-75.97 798.89,-82.85\"/>\n</g>\n<!-- 4588295728+ -->\n<g id=\"node3\" class=\"node\">\n<title>4588295728+</title>\n<ellipse fill=\"none\" stroke=\"black\" cx=\"534\" cy=\"-100.5\" rx=\"27\" ry=\"18\"/>\n<text text-anchor=\"middle\" x=\"534\" y=\"-96.8\" font-family=\"Times,serif\" font-size=\"14.00\">+</text>\n</g>\n<!-- 4588295728+&#45;&gt;4588295728 -->\n<g id=\"edge1\" class=\"edge\">\n<title>4588295728+&#45;&gt;4588295728</title>\n<path fill=\"none\" stroke=\"black\" d=\"M561.3,-100.5C568.58,-100.5 576.94,-100.5 585.8,-100.5\"/>\n<polygon fill=\"black\" stroke=\"black\" points=\"585.74,-104 595.74,-100.5 585.74,-97 585.74,-104\"/>\n</g>\n<!-- 4588294864 -->\n<g id=\"node4\" class=\"node\">\n<title>4588294864</title>\n<polygon fill=\"none\" stroke=\"black\" points=\"3.5,-55.5 3.5,-91.5 165.5,-91.5 165.5,-55.5 3.5,-55.5\"/>\n<text text-anchor=\"middle\" x=\"43.5\" y=\"-69.8\" font-family=\"Times,serif\" font-size=\"14.00\">data 3.0000</text>\n<polyline fill=\"none\" stroke=\"black\" points=\"83.5,-55.5 83.5,-91.5\"/>\n<text text-anchor=\"middle\" x=\"124.5\" y=\"-69.8\" font-family=\"Times,serif\" font-size=\"14.00\">grad 0.0000</text>\n</g>\n<!-- 4588295152* -->\n<g id=\"node13\" class=\"node\">\n<title>4588295152*</title>\n<ellipse fill=\"none\" stroke=\"black\" cx=\"232\" cy=\"-73.5\" rx=\"27\" ry=\"18\"/>\n<text text-anchor=\"middle\" x=\"232\" y=\"-69.8\" font-family=\"Times,serif\" font-size=\"14.00\">*</text>\n</g>\n<!-- 4588294864&#45;&gt;4588295152* -->\n<g id=\"edge12\" class=\"edge\">\n<title>4588294864&#45;&gt;4588295152*</title>\n<path fill=\"none\" stroke=\"black\" d=\"M165.49,-73.5C175.09,-73.5 184.53,-73.5 193.11,-73.5\"/>\n<polygon fill=\"black\" stroke=\"black\" points=\"193.1,-77 203.1,-73.5 193.1,-70 193.1,-77\"/>\n</g>\n<!-- 4588295392 -->\n<g id=\"node5\" class=\"node\">\n<title>4588295392</title>\n<polygon fill=\"none\" stroke=\"black\" points=\"0,-110.5 0,-146.5 169,-146.5 169,-110.5 0,-110.5\"/>\n<text text-anchor=\"middle\" x=\"43.5\" y=\"-124.8\" font-family=\"Times,serif\" font-size=\"14.00\">data 20.0000</text>\n<polyline fill=\"none\" stroke=\"black\" points=\"87,-110.5 87,-146.5\"/>\n<text text-anchor=\"middle\" x=\"128\" y=\"-124.8\" font-family=\"Times,serif\" font-size=\"14.00\">grad 0.0000</text>\n</g>\n<!-- 4588295392&#45;&gt;4588295488* -->\n<g id=\"edge7\" class=\"edge\">\n<title>4588295392&#45;&gt;4588295488*</title>\n<path fill=\"none\" stroke=\"black\" d=\"M168.87,-128.5C177.37,-128.5 185.68,-128.5 193.3,-128.5\"/>\n<polygon fill=\"black\" stroke=\"black\" points=\"193.15,-132 203.15,-128.5 193.15,-125 193.15,-132\"/>\n</g>\n<!-- 4588295968 -->\n<g id=\"node6\" class=\"node\">\n<title>4588295968</title>\n<polygon fill=\"none\" stroke=\"black\" points=\"600.5,-27.5 600.5,-63.5 769.5,-63.5 769.5,-27.5 600.5,-27.5\"/>\n<text text-anchor=\"middle\" x=\"644\" y=\"-41.8\" font-family=\"Times,serif\" font-size=\"14.00\">data 30.0000</text>\n<polyline fill=\"none\" stroke=\"black\" points=\"687.5,-27.5 687.5,-63.5\"/>\n<text text-anchor=\"middle\" x=\"728.5\" y=\"-41.8\" font-family=\"Times,serif\" font-size=\"14.00\">grad 0.0000</text>\n</g>\n<!-- 4588295968&#45;&gt;4588296064+ -->\n<g id=\"edge8\" class=\"edge\">\n<title>4588295968&#45;&gt;4588296064+</title>\n<path fill=\"none\" stroke=\"black\" d=\"M769.21,-60.58C779.41,-62.43 789.39,-64.23 798.36,-65.86\"/>\n<polygon fill=\"black\" stroke=\"black\" points=\"797.57,-69.27 808.03,-67.61 798.82,-62.39 797.57,-69.27\"/>\n</g>\n<!-- 4588295488 -->\n<g id=\"node7\" class=\"node\">\n<title>4588295488</title>\n<polygon fill=\"none\" stroke=\"black\" points=\"295,-110.5 295,-146.5 471,-146.5 471,-110.5 295,-110.5\"/>\n<text text-anchor=\"middle\" x=\"342\" y=\"-124.8\" font-family=\"Times,serif\" font-size=\"14.00\">data 100.0000</text>\n<polyline fill=\"none\" stroke=\"black\" points=\"389,-110.5 389,-146.5\"/>\n<text text-anchor=\"middle\" x=\"430\" y=\"-124.8\" font-family=\"Times,serif\" font-size=\"14.00\">grad 0.0000</text>\n</g>\n<!-- 4588295488&#45;&gt;4588295728+ -->\n<g id=\"edge10\" class=\"edge\">\n<title>4588295488&#45;&gt;4588295728+</title>\n<path fill=\"none\" stroke=\"black\" d=\"M470.67,-112.21C479.71,-110.51 488.49,-108.86 496.49,-107.36\"/>\n<polygon fill=\"black\" stroke=\"black\" points=\"496.89,-110.85 506.07,-105.56 495.6,-103.97 496.89,-110.85\"/>\n</g>\n<!-- 4588295488*&#45;&gt;4588295488 -->\n<g id=\"edge2\" class=\"edge\">\n<title>4588295488*&#45;&gt;4588295488</title>\n<path fill=\"none\" stroke=\"black\" d=\"M259.3,-128.5C266.58,-128.5 274.94,-128.5 283.8,-128.5\"/>\n<polygon fill=\"black\" stroke=\"black\" points=\"283.74,-132 293.74,-128.5 283.74,-125 283.74,-132\"/>\n</g>\n<!-- 4588296064 -->\n<g id=\"node9\" class=\"node\">\n<title>4588296064</title>\n<polygon fill=\"none\" stroke=\"black\" points=\"899,-54.5 899,-90.5 1075,-90.5 1075,-54.5 899,-54.5\"/>\n<text text-anchor=\"middle\" x=\"946\" y=\"-68.8\" font-family=\"Times,serif\" font-size=\"14.00\">data 160.0000</text>\n<polyline fill=\"none\" stroke=\"black\" points=\"993,-54.5 993,-90.5\"/>\n<text text-anchor=\"middle\" x=\"1034\" y=\"-68.8\" font-family=\"Times,serif\" font-size=\"14.00\">grad 0.0000</text>\n</g>\n<!-- 4588296064+&#45;&gt;4588296064 -->\n<g id=\"edge3\" class=\"edge\">\n<title>4588296064+&#45;&gt;4588296064</title>\n<path fill=\"none\" stroke=\"black\" d=\"M863.3,-72.5C870.58,-72.5 878.94,-72.5 887.8,-72.5\"/>\n<polygon fill=\"black\" stroke=\"black\" points=\"887.74,-76 897.74,-72.5 887.74,-69 887.74,-76\"/>\n</g>\n<!-- 4588295104 -->\n<g id=\"node11\" class=\"node\">\n<title>4588295104</title>\n<polygon fill=\"none\" stroke=\"black\" points=\"0,-0.5 0,-36.5 169,-36.5 169,-0.5 0,-0.5\"/>\n<text text-anchor=\"middle\" x=\"43.5\" y=\"-14.8\" font-family=\"Times,serif\" font-size=\"14.00\">data 10.0000</text>\n<polyline fill=\"none\" stroke=\"black\" points=\"87,-0.5 87,-36.5\"/>\n<text text-anchor=\"middle\" x=\"128\" y=\"-14.8\" font-family=\"Times,serif\" font-size=\"14.00\">grad 0.0000</text>\n</g>\n<!-- 4588295104&#45;&gt;4588295152* -->\n<g id=\"edge6\" class=\"edge\">\n<title>4588295104&#45;&gt;4588295152*</title>\n<path fill=\"none\" stroke=\"black\" d=\"M140.99,-36.35C150.39,-39.59 160.01,-43.04 169,-46.5 178.79,-50.27 189.3,-54.69 198.84,-58.86\"/>\n<polygon fill=\"black\" stroke=\"black\" points=\"197.15,-61.94 207.71,-62.79 199.99,-55.54 197.15,-61.94\"/>\n</g>\n<!-- 4588295152 -->\n<g id=\"node12\" class=\"node\">\n<title>4588295152</title>\n<polygon fill=\"none\" stroke=\"black\" points=\"298.5,-55.5 298.5,-91.5 467.5,-91.5 467.5,-55.5 298.5,-55.5\"/>\n<text text-anchor=\"middle\" x=\"342\" y=\"-69.8\" font-family=\"Times,serif\" font-size=\"14.00\">data 30.0000</text>\n<polyline fill=\"none\" stroke=\"black\" points=\"385.5,-55.5 385.5,-91.5\"/>\n<text text-anchor=\"middle\" x=\"426.5\" y=\"-69.8\" font-family=\"Times,serif\" font-size=\"14.00\">grad 0.0000</text>\n</g>\n<!-- 4588295152&#45;&gt;4588295728+ -->\n<g id=\"edge11\" class=\"edge\">\n<title>4588295152&#45;&gt;4588295728+</title>\n<path fill=\"none\" stroke=\"black\" d=\"M467.21,-88.58C477.41,-90.43 487.39,-92.23 496.36,-93.86\"/>\n<polygon fill=\"black\" stroke=\"black\" points=\"495.57,-97.27 506.03,-95.61 496.82,-90.39 495.57,-97.27\"/>\n</g>\n<!-- 4588295152*&#45;&gt;4588295152 -->\n<g id=\"edge4\" class=\"edge\">\n<title>4588295152*&#45;&gt;4588295152</title>\n<path fill=\"none\" stroke=\"black\" d=\"M259.3,-73.5C267.58,-73.5 277.25,-73.5 287.47,-73.5\"/>\n<polygon fill=\"black\" stroke=\"black\" points=\"287.22,-77 297.22,-73.5 287.22,-70 287.22,-77\"/>\n</g>\n</g>\n</svg>\n",
      "text/plain": [
       "<graphviz.graphs.Digraph at 0x1117bd8d0>"
      ]
     },
     "execution_count": 27,
     "metadata": {},
     "output_type": "execute_result"
    }
   ],
   "source": [
    "draw_dot(y)"
   ]
  },
  {
   "cell_type": "code",
   "execution_count": 28,
   "id": "9649e8d8",
   "metadata": {},
   "outputs": [
    {
     "data": {
      "text/plain": [
       "Value(data=9.0, grad=0.0)"
      ]
     },
     "execution_count": 28,
     "metadata": {},
     "output_type": "execute_result"
    }
   ],
   "source": [
    "z"
   ]
  },
  {
   "cell_type": "code",
   "execution_count": 29,
   "id": "ac08687d",
   "metadata": {},
   "outputs": [
    {
     "data": {
      "text/plain": [
       "src.engine.Value"
      ]
     },
     "execution_count": 29,
     "metadata": {},
     "output_type": "execute_result"
    }
   ],
   "source": [
    "type(z)"
   ]
  },
  {
   "cell_type": "code",
   "execution_count": 30,
   "id": "4e8fe8f5",
   "metadata": {},
   "outputs": [
    {
     "data": {
      "text/plain": [
       "Value(data=9.0, grad=0.0)"
      ]
     },
     "execution_count": 30,
     "metadata": {},
     "output_type": "execute_result"
    }
   ],
   "source": [
    "z"
   ]
  },
  {
   "cell_type": "code",
   "execution_count": 31,
   "id": "09f1b600",
   "metadata": {},
   "outputs": [
    {
     "data": {
      "image/svg+xml": "<?xml version=\"1.0\" encoding=\"UTF-8\" standalone=\"no\"?>\n<!DOCTYPE svg PUBLIC \"-//W3C//DTD SVG 1.1//EN\"\n \"http://www.w3.org/Graphics/SVG/1.1/DTD/svg11.dtd\">\n<!-- Generated by graphviz version 7.0.5 (20221223.1930)\n -->\n<!-- Pages: 1 -->\n<svg width=\"458pt\" height=\"45pt\"\n viewBox=\"0.00 0.00 458.00 45.00\" xmlns=\"http://www.w3.org/2000/svg\" xmlns:xlink=\"http://www.w3.org/1999/xlink\">\n<g id=\"graph0\" class=\"graph\" transform=\"scale(1 1) rotate(0) translate(4 41)\">\n<polygon fill=\"white\" stroke=\"none\" points=\"-4,4 -4,-41 454,-41 454,4 -4,4\"/>\n<!-- 4588294864 -->\n<g id=\"node1\" class=\"node\">\n<title>4588294864</title>\n<polygon fill=\"none\" stroke=\"black\" points=\"0,-0.5 0,-36.5 162,-36.5 162,-0.5 0,-0.5\"/>\n<text text-anchor=\"middle\" x=\"40\" y=\"-14.8\" font-family=\"Times,serif\" font-size=\"14.00\">data 3.0000</text>\n<polyline fill=\"none\" stroke=\"black\" points=\"80,-0.5 80,-36.5\"/>\n<text text-anchor=\"middle\" x=\"121\" y=\"-14.8\" font-family=\"Times,serif\" font-size=\"14.00\">grad 0.0000</text>\n</g>\n<!-- 4588296160** -->\n<g id=\"node3\" class=\"node\">\n<title>4588296160**</title>\n<ellipse fill=\"none\" stroke=\"black\" cx=\"225\" cy=\"-18.5\" rx=\"27\" ry=\"18\"/>\n<text text-anchor=\"middle\" x=\"225\" y=\"-14.8\" font-family=\"Times,serif\" font-size=\"14.00\">**</text>\n</g>\n<!-- 4588294864&#45;&gt;4588296160** -->\n<g id=\"edge2\" class=\"edge\">\n<title>4588294864&#45;&gt;4588296160**</title>\n<path fill=\"none\" stroke=\"black\" d=\"M161.72,-18.5C170.18,-18.5 178.48,-18.5 186.11,-18.5\"/>\n<polygon fill=\"black\" stroke=\"black\" points=\"185.99,-22 195.99,-18.5 185.99,-15 185.99,-22\"/>\n</g>\n<!-- 4588296160 -->\n<g id=\"node2\" class=\"node\">\n<title>4588296160</title>\n<polygon fill=\"none\" stroke=\"black\" points=\"288,-0.5 288,-36.5 450,-36.5 450,-0.5 288,-0.5\"/>\n<text text-anchor=\"middle\" x=\"328\" y=\"-14.8\" font-family=\"Times,serif\" font-size=\"14.00\">data 9.0000</text>\n<polyline fill=\"none\" stroke=\"black\" points=\"368,-0.5 368,-36.5\"/>\n<text text-anchor=\"middle\" x=\"409\" y=\"-14.8\" font-family=\"Times,serif\" font-size=\"14.00\">grad 0.0000</text>\n</g>\n<!-- 4588296160**&#45;&gt;4588296160 -->\n<g id=\"edge1\" class=\"edge\">\n<title>4588296160**&#45;&gt;4588296160</title>\n<path fill=\"none\" stroke=\"black\" d=\"M252.38,-18.5C259.65,-18.5 267.98,-18.5 276.75,-18.5\"/>\n<polygon fill=\"black\" stroke=\"black\" points=\"276.55,-22 286.55,-18.5 276.55,-15 276.55,-22\"/>\n</g>\n</g>\n</svg>\n",
      "text/plain": [
       "<graphviz.graphs.Digraph at 0x1117bd990>"
      ]
     },
     "execution_count": 31,
     "metadata": {},
     "output_type": "execute_result"
    }
   ],
   "source": [
    "draw_dot(z)"
   ]
  },
  {
   "cell_type": "code",
   "execution_count": 32,
   "id": "876cca90",
   "metadata": {},
   "outputs": [],
   "source": [
    "z = 3*a + 2"
   ]
  },
  {
   "cell_type": "code",
   "execution_count": 33,
   "id": "47ddf90c",
   "metadata": {},
   "outputs": [
    {
     "data": {
      "image/svg+xml": "<?xml version=\"1.0\" encoding=\"UTF-8\" standalone=\"no\"?>\n<!DOCTYPE svg PUBLIC \"-//W3C//DTD SVG 1.1//EN\"\n \"http://www.w3.org/Graphics/SVG/1.1/DTD/svg11.dtd\">\n<!-- Generated by graphviz version 7.0.5 (20221223.1930)\n -->\n<!-- Pages: 1 -->\n<svg width=\"753pt\" height=\"128pt\"\n viewBox=\"0.00 0.00 753.00 128.00\" xmlns=\"http://www.w3.org/2000/svg\" xmlns:xlink=\"http://www.w3.org/1999/xlink\">\n<g id=\"graph0\" class=\"graph\" transform=\"scale(1 1) rotate(0) translate(4 124)\">\n<polygon fill=\"white\" stroke=\"none\" points=\"-4,4 -4,-124 749,-124 749,4 -4,4\"/>\n<!-- 4588296832 -->\n<g id=\"node1\" class=\"node\">\n<title>4588296832</title>\n<polygon fill=\"none\" stroke=\"black\" points=\"0,-83.5 0,-119.5 162,-119.5 162,-83.5 0,-83.5\"/>\n<text text-anchor=\"middle\" x=\"40\" y=\"-97.8\" font-family=\"Times,serif\" font-size=\"14.00\">data 3.0000</text>\n<polyline fill=\"none\" stroke=\"black\" points=\"80,-83.5 80,-119.5\"/>\n<text text-anchor=\"middle\" x=\"121\" y=\"-97.8\" font-family=\"Times,serif\" font-size=\"14.00\">grad 0.0000</text>\n</g>\n<!-- 4588296496* -->\n<g id=\"node4\" class=\"node\">\n<title>4588296496*</title>\n<ellipse fill=\"none\" stroke=\"black\" cx=\"225\" cy=\"-73.5\" rx=\"27\" ry=\"18\"/>\n<text text-anchor=\"middle\" x=\"225\" y=\"-69.8\" font-family=\"Times,serif\" font-size=\"14.00\">*</text>\n</g>\n<!-- 4588296832&#45;&gt;4588296496* -->\n<g id=\"edge5\" class=\"edge\">\n<title>4588296832&#45;&gt;4588296496*</title>\n<path fill=\"none\" stroke=\"black\" d=\"M161.72,-85.78C170.72,-84.01 179.54,-82.27 187.57,-80.68\"/>\n<polygon fill=\"black\" stroke=\"black\" points=\"188.09,-84.15 197.23,-78.78 186.74,-77.28 188.09,-84.15\"/>\n</g>\n<!-- 4588294864 -->\n<g id=\"node2\" class=\"node\">\n<title>4588294864</title>\n<polygon fill=\"none\" stroke=\"black\" points=\"0,-28.5 0,-64.5 162,-64.5 162,-28.5 0,-28.5\"/>\n<text text-anchor=\"middle\" x=\"40\" y=\"-42.8\" font-family=\"Times,serif\" font-size=\"14.00\">data 3.0000</text>\n<polyline fill=\"none\" stroke=\"black\" points=\"80,-28.5 80,-64.5\"/>\n<text text-anchor=\"middle\" x=\"121\" y=\"-42.8\" font-family=\"Times,serif\" font-size=\"14.00\">grad 0.0000</text>\n</g>\n<!-- 4588294864&#45;&gt;4588296496* -->\n<g id=\"edge4\" class=\"edge\">\n<title>4588294864&#45;&gt;4588296496*</title>\n<path fill=\"none\" stroke=\"black\" d=\"M161.72,-61.66C170.72,-63.37 179.54,-65.05 187.57,-66.57\"/>\n<polygon fill=\"black\" stroke=\"black\" points=\"186.75,-69.98 197.23,-68.41 188.06,-63.1 186.75,-69.98\"/>\n</g>\n<!-- 4588296496 -->\n<g id=\"node3\" class=\"node\">\n<title>4588296496</title>\n<polygon fill=\"none\" stroke=\"black\" points=\"288,-55.5 288,-91.5 450,-91.5 450,-55.5 288,-55.5\"/>\n<text text-anchor=\"middle\" x=\"328\" y=\"-69.8\" font-family=\"Times,serif\" font-size=\"14.00\">data 9.0000</text>\n<polyline fill=\"none\" stroke=\"black\" points=\"368,-55.5 368,-91.5\"/>\n<text text-anchor=\"middle\" x=\"409\" y=\"-69.8\" font-family=\"Times,serif\" font-size=\"14.00\">grad 0.0000</text>\n</g>\n<!-- 4588297168+ -->\n<g id=\"node7\" class=\"node\">\n<title>4588297168+</title>\n<ellipse fill=\"none\" stroke=\"black\" cx=\"513\" cy=\"-45.5\" rx=\"27\" ry=\"18\"/>\n<text text-anchor=\"middle\" x=\"513\" y=\"-41.8\" font-family=\"Times,serif\" font-size=\"14.00\">+</text>\n</g>\n<!-- 4588296496&#45;&gt;4588297168+ -->\n<g id=\"edge3\" class=\"edge\">\n<title>4588296496&#45;&gt;4588297168+</title>\n<path fill=\"none\" stroke=\"black\" d=\"M449.72,-57.78C458.72,-56.01 467.54,-54.27 475.57,-52.68\"/>\n<polygon fill=\"black\" stroke=\"black\" points=\"476.09,-56.15 485.23,-50.78 474.74,-49.28 476.09,-56.15\"/>\n</g>\n<!-- 4588296496*&#45;&gt;4588296496 -->\n<g id=\"edge1\" class=\"edge\">\n<title>4588296496*&#45;&gt;4588296496</title>\n<path fill=\"none\" stroke=\"black\" d=\"M252.38,-73.5C259.65,-73.5 267.98,-73.5 276.75,-73.5\"/>\n<polygon fill=\"black\" stroke=\"black\" points=\"276.55,-77 286.55,-73.5 276.55,-70 276.55,-77\"/>\n</g>\n<!-- 4588297120 -->\n<g id=\"node5\" class=\"node\">\n<title>4588297120</title>\n<polygon fill=\"none\" stroke=\"black\" points=\"288,-0.5 288,-36.5 450,-36.5 450,-0.5 288,-0.5\"/>\n<text text-anchor=\"middle\" x=\"328\" y=\"-14.8\" font-family=\"Times,serif\" font-size=\"14.00\">data 2.0000</text>\n<polyline fill=\"none\" stroke=\"black\" points=\"368,-0.5 368,-36.5\"/>\n<text text-anchor=\"middle\" x=\"409\" y=\"-14.8\" font-family=\"Times,serif\" font-size=\"14.00\">grad 0.0000</text>\n</g>\n<!-- 4588297120&#45;&gt;4588297168+ -->\n<g id=\"edge6\" class=\"edge\">\n<title>4588297120&#45;&gt;4588297168+</title>\n<path fill=\"none\" stroke=\"black\" d=\"M449.72,-33.66C458.72,-35.37 467.54,-37.05 475.57,-38.57\"/>\n<polygon fill=\"black\" stroke=\"black\" points=\"474.75,-41.98 485.23,-40.41 476.06,-35.1 474.75,-41.98\"/>\n</g>\n<!-- 4588297168 -->\n<g id=\"node6\" class=\"node\">\n<title>4588297168</title>\n<polygon fill=\"none\" stroke=\"black\" points=\"576,-27.5 576,-63.5 745,-63.5 745,-27.5 576,-27.5\"/>\n<text text-anchor=\"middle\" x=\"619.5\" y=\"-41.8\" font-family=\"Times,serif\" font-size=\"14.00\">data 11.0000</text>\n<polyline fill=\"none\" stroke=\"black\" points=\"663,-27.5 663,-63.5\"/>\n<text text-anchor=\"middle\" x=\"704\" y=\"-41.8\" font-family=\"Times,serif\" font-size=\"14.00\">grad 0.0000</text>\n</g>\n<!-- 4588297168+&#45;&gt;4588297168 -->\n<g id=\"edge2\" class=\"edge\">\n<title>4588297168+&#45;&gt;4588297168</title>\n<path fill=\"none\" stroke=\"black\" d=\"M540.35,-45.5C547.6,-45.5 555.92,-45.5 564.7,-45.5\"/>\n<polygon fill=\"black\" stroke=\"black\" points=\"564.53,-49 574.53,-45.5 564.53,-42 564.53,-49\"/>\n</g>\n</g>\n</svg>\n",
      "text/plain": [
       "<graphviz.graphs.Digraph at 0x1117bde40>"
      ]
     },
     "execution_count": 33,
     "metadata": {},
     "output_type": "execute_result"
    }
   ],
   "source": [
    "draw_dot(z)"
   ]
  },
  {
   "cell_type": "code",
   "execution_count": 34,
   "id": "6d6844a9",
   "metadata": {},
   "outputs": [
    {
     "data": {
      "text/plain": [
       "<function src.engine.Value.__add__.<locals>._backward()>"
      ]
     },
     "execution_count": 34,
     "metadata": {},
     "output_type": "execute_result"
    }
   ],
   "source": [
    "z._backward"
   ]
  },
  {
   "cell_type": "code",
   "execution_count": 35,
   "id": "4782e847",
   "metadata": {},
   "outputs": [
    {
     "data": {
      "image/svg+xml": "<?xml version=\"1.0\" encoding=\"UTF-8\" standalone=\"no\"?>\n<!DOCTYPE svg PUBLIC \"-//W3C//DTD SVG 1.1//EN\"\n \"http://www.w3.org/Graphics/SVG/1.1/DTD/svg11.dtd\">\n<!-- Generated by graphviz version 7.0.5 (20221223.1930)\n -->\n<!-- Pages: 1 -->\n<svg width=\"753pt\" height=\"128pt\"\n viewBox=\"0.00 0.00 753.00 128.00\" xmlns=\"http://www.w3.org/2000/svg\" xmlns:xlink=\"http://www.w3.org/1999/xlink\">\n<g id=\"graph0\" class=\"graph\" transform=\"scale(1 1) rotate(0) translate(4 124)\">\n<polygon fill=\"white\" stroke=\"none\" points=\"-4,4 -4,-124 749,-124 749,4 -4,4\"/>\n<!-- 4588296832 -->\n<g id=\"node1\" class=\"node\">\n<title>4588296832</title>\n<polygon fill=\"none\" stroke=\"black\" points=\"0,-83.5 0,-119.5 162,-119.5 162,-83.5 0,-83.5\"/>\n<text text-anchor=\"middle\" x=\"40\" y=\"-97.8\" font-family=\"Times,serif\" font-size=\"14.00\">data 3.0000</text>\n<polyline fill=\"none\" stroke=\"black\" points=\"80,-83.5 80,-119.5\"/>\n<text text-anchor=\"middle\" x=\"121\" y=\"-97.8\" font-family=\"Times,serif\" font-size=\"14.00\">grad 0.0000</text>\n</g>\n<!-- 4588296496* -->\n<g id=\"node4\" class=\"node\">\n<title>4588296496*</title>\n<ellipse fill=\"none\" stroke=\"black\" cx=\"225\" cy=\"-73.5\" rx=\"27\" ry=\"18\"/>\n<text text-anchor=\"middle\" x=\"225\" y=\"-69.8\" font-family=\"Times,serif\" font-size=\"14.00\">*</text>\n</g>\n<!-- 4588296832&#45;&gt;4588296496* -->\n<g id=\"edge5\" class=\"edge\">\n<title>4588296832&#45;&gt;4588296496*</title>\n<path fill=\"none\" stroke=\"black\" d=\"M161.72,-85.78C170.72,-84.01 179.54,-82.27 187.57,-80.68\"/>\n<polygon fill=\"black\" stroke=\"black\" points=\"188.09,-84.15 197.23,-78.78 186.74,-77.28 188.09,-84.15\"/>\n</g>\n<!-- 4588294864 -->\n<g id=\"node2\" class=\"node\">\n<title>4588294864</title>\n<polygon fill=\"none\" stroke=\"black\" points=\"0,-28.5 0,-64.5 162,-64.5 162,-28.5 0,-28.5\"/>\n<text text-anchor=\"middle\" x=\"40\" y=\"-42.8\" font-family=\"Times,serif\" font-size=\"14.00\">data 3.0000</text>\n<polyline fill=\"none\" stroke=\"black\" points=\"80,-28.5 80,-64.5\"/>\n<text text-anchor=\"middle\" x=\"121\" y=\"-42.8\" font-family=\"Times,serif\" font-size=\"14.00\">grad 0.0000</text>\n</g>\n<!-- 4588294864&#45;&gt;4588296496* -->\n<g id=\"edge4\" class=\"edge\">\n<title>4588294864&#45;&gt;4588296496*</title>\n<path fill=\"none\" stroke=\"black\" d=\"M161.72,-61.66C170.72,-63.37 179.54,-65.05 187.57,-66.57\"/>\n<polygon fill=\"black\" stroke=\"black\" points=\"186.75,-69.98 197.23,-68.41 188.06,-63.1 186.75,-69.98\"/>\n</g>\n<!-- 4588296496 -->\n<g id=\"node3\" class=\"node\">\n<title>4588296496</title>\n<polygon fill=\"none\" stroke=\"black\" points=\"288,-55.5 288,-91.5 450,-91.5 450,-55.5 288,-55.5\"/>\n<text text-anchor=\"middle\" x=\"328\" y=\"-69.8\" font-family=\"Times,serif\" font-size=\"14.00\">data 9.0000</text>\n<polyline fill=\"none\" stroke=\"black\" points=\"368,-55.5 368,-91.5\"/>\n<text text-anchor=\"middle\" x=\"409\" y=\"-69.8\" font-family=\"Times,serif\" font-size=\"14.00\">grad 0.0000</text>\n</g>\n<!-- 4588297168+ -->\n<g id=\"node7\" class=\"node\">\n<title>4588297168+</title>\n<ellipse fill=\"none\" stroke=\"black\" cx=\"513\" cy=\"-45.5\" rx=\"27\" ry=\"18\"/>\n<text text-anchor=\"middle\" x=\"513\" y=\"-41.8\" font-family=\"Times,serif\" font-size=\"14.00\">+</text>\n</g>\n<!-- 4588296496&#45;&gt;4588297168+ -->\n<g id=\"edge3\" class=\"edge\">\n<title>4588296496&#45;&gt;4588297168+</title>\n<path fill=\"none\" stroke=\"black\" d=\"M449.72,-57.78C458.72,-56.01 467.54,-54.27 475.57,-52.68\"/>\n<polygon fill=\"black\" stroke=\"black\" points=\"476.09,-56.15 485.23,-50.78 474.74,-49.28 476.09,-56.15\"/>\n</g>\n<!-- 4588296496*&#45;&gt;4588296496 -->\n<g id=\"edge1\" class=\"edge\">\n<title>4588296496*&#45;&gt;4588296496</title>\n<path fill=\"none\" stroke=\"black\" d=\"M252.38,-73.5C259.65,-73.5 267.98,-73.5 276.75,-73.5\"/>\n<polygon fill=\"black\" stroke=\"black\" points=\"276.55,-77 286.55,-73.5 276.55,-70 276.55,-77\"/>\n</g>\n<!-- 4588297120 -->\n<g id=\"node5\" class=\"node\">\n<title>4588297120</title>\n<polygon fill=\"none\" stroke=\"black\" points=\"288,-0.5 288,-36.5 450,-36.5 450,-0.5 288,-0.5\"/>\n<text text-anchor=\"middle\" x=\"328\" y=\"-14.8\" font-family=\"Times,serif\" font-size=\"14.00\">data 2.0000</text>\n<polyline fill=\"none\" stroke=\"black\" points=\"368,-0.5 368,-36.5\"/>\n<text text-anchor=\"middle\" x=\"409\" y=\"-14.8\" font-family=\"Times,serif\" font-size=\"14.00\">grad 0.0000</text>\n</g>\n<!-- 4588297120&#45;&gt;4588297168+ -->\n<g id=\"edge6\" class=\"edge\">\n<title>4588297120&#45;&gt;4588297168+</title>\n<path fill=\"none\" stroke=\"black\" d=\"M449.72,-33.66C458.72,-35.37 467.54,-37.05 475.57,-38.57\"/>\n<polygon fill=\"black\" stroke=\"black\" points=\"474.75,-41.98 485.23,-40.41 476.06,-35.1 474.75,-41.98\"/>\n</g>\n<!-- 4588297168 -->\n<g id=\"node6\" class=\"node\">\n<title>4588297168</title>\n<polygon fill=\"none\" stroke=\"black\" points=\"576,-27.5 576,-63.5 745,-63.5 745,-27.5 576,-27.5\"/>\n<text text-anchor=\"middle\" x=\"619.5\" y=\"-41.8\" font-family=\"Times,serif\" font-size=\"14.00\">data 11.0000</text>\n<polyline fill=\"none\" stroke=\"black\" points=\"663,-27.5 663,-63.5\"/>\n<text text-anchor=\"middle\" x=\"704\" y=\"-41.8\" font-family=\"Times,serif\" font-size=\"14.00\">grad 0.0000</text>\n</g>\n<!-- 4588297168+&#45;&gt;4588297168 -->\n<g id=\"edge2\" class=\"edge\">\n<title>4588297168+&#45;&gt;4588297168</title>\n<path fill=\"none\" stroke=\"black\" d=\"M540.35,-45.5C547.6,-45.5 555.92,-45.5 564.7,-45.5\"/>\n<polygon fill=\"black\" stroke=\"black\" points=\"564.53,-49 574.53,-45.5 564.53,-42 564.53,-49\"/>\n</g>\n</g>\n</svg>\n",
      "text/plain": [
       "<graphviz.graphs.Digraph at 0x1117bdc60>"
      ]
     },
     "execution_count": 35,
     "metadata": {},
     "output_type": "execute_result"
    }
   ],
   "source": [
    "draw_dot(z)"
   ]
  },
  {
   "cell_type": "code",
   "execution_count": 36,
   "id": "f4470285",
   "metadata": {},
   "outputs": [],
   "source": [
    "z.grad = 1.0"
   ]
  },
  {
   "cell_type": "code",
   "execution_count": 37,
   "id": "2f5be21a",
   "metadata": {},
   "outputs": [
    {
     "data": {
      "text/plain": [
       "<function src.engine.Value.__add__.<locals>._backward()>"
      ]
     },
     "execution_count": 37,
     "metadata": {},
     "output_type": "execute_result"
    }
   ],
   "source": [
    "z._backward"
   ]
  },
  {
   "cell_type": "code",
   "execution_count": 38,
   "id": "b440c7d9",
   "metadata": {},
   "outputs": [
    {
     "data": {
      "image/svg+xml": "<?xml version=\"1.0\" encoding=\"UTF-8\" standalone=\"no\"?>\n<!DOCTYPE svg PUBLIC \"-//W3C//DTD SVG 1.1//EN\"\n \"http://www.w3.org/Graphics/SVG/1.1/DTD/svg11.dtd\">\n<!-- Generated by graphviz version 7.0.5 (20221223.1930)\n -->\n<!-- Pages: 1 -->\n<svg width=\"753pt\" height=\"128pt\"\n viewBox=\"0.00 0.00 753.00 128.00\" xmlns=\"http://www.w3.org/2000/svg\" xmlns:xlink=\"http://www.w3.org/1999/xlink\">\n<g id=\"graph0\" class=\"graph\" transform=\"scale(1 1) rotate(0) translate(4 124)\">\n<polygon fill=\"white\" stroke=\"none\" points=\"-4,4 -4,-124 749,-124 749,4 -4,4\"/>\n<!-- 4588296832 -->\n<g id=\"node1\" class=\"node\">\n<title>4588296832</title>\n<polygon fill=\"none\" stroke=\"black\" points=\"0,-83.5 0,-119.5 162,-119.5 162,-83.5 0,-83.5\"/>\n<text text-anchor=\"middle\" x=\"40\" y=\"-97.8\" font-family=\"Times,serif\" font-size=\"14.00\">data 3.0000</text>\n<polyline fill=\"none\" stroke=\"black\" points=\"80,-83.5 80,-119.5\"/>\n<text text-anchor=\"middle\" x=\"121\" y=\"-97.8\" font-family=\"Times,serif\" font-size=\"14.00\">grad 0.0000</text>\n</g>\n<!-- 4588296496* -->\n<g id=\"node4\" class=\"node\">\n<title>4588296496*</title>\n<ellipse fill=\"none\" stroke=\"black\" cx=\"225\" cy=\"-73.5\" rx=\"27\" ry=\"18\"/>\n<text text-anchor=\"middle\" x=\"225\" y=\"-69.8\" font-family=\"Times,serif\" font-size=\"14.00\">*</text>\n</g>\n<!-- 4588296832&#45;&gt;4588296496* -->\n<g id=\"edge5\" class=\"edge\">\n<title>4588296832&#45;&gt;4588296496*</title>\n<path fill=\"none\" stroke=\"black\" d=\"M161.72,-85.78C170.72,-84.01 179.54,-82.27 187.57,-80.68\"/>\n<polygon fill=\"black\" stroke=\"black\" points=\"188.09,-84.15 197.23,-78.78 186.74,-77.28 188.09,-84.15\"/>\n</g>\n<!-- 4588294864 -->\n<g id=\"node2\" class=\"node\">\n<title>4588294864</title>\n<polygon fill=\"none\" stroke=\"black\" points=\"0,-28.5 0,-64.5 162,-64.5 162,-28.5 0,-28.5\"/>\n<text text-anchor=\"middle\" x=\"40\" y=\"-42.8\" font-family=\"Times,serif\" font-size=\"14.00\">data 3.0000</text>\n<polyline fill=\"none\" stroke=\"black\" points=\"80,-28.5 80,-64.5\"/>\n<text text-anchor=\"middle\" x=\"121\" y=\"-42.8\" font-family=\"Times,serif\" font-size=\"14.00\">grad 0.0000</text>\n</g>\n<!-- 4588294864&#45;&gt;4588296496* -->\n<g id=\"edge4\" class=\"edge\">\n<title>4588294864&#45;&gt;4588296496*</title>\n<path fill=\"none\" stroke=\"black\" d=\"M161.72,-61.66C170.72,-63.37 179.54,-65.05 187.57,-66.57\"/>\n<polygon fill=\"black\" stroke=\"black\" points=\"186.75,-69.98 197.23,-68.41 188.06,-63.1 186.75,-69.98\"/>\n</g>\n<!-- 4588296496 -->\n<g id=\"node3\" class=\"node\">\n<title>4588296496</title>\n<polygon fill=\"none\" stroke=\"black\" points=\"288,-55.5 288,-91.5 450,-91.5 450,-55.5 288,-55.5\"/>\n<text text-anchor=\"middle\" x=\"328\" y=\"-69.8\" font-family=\"Times,serif\" font-size=\"14.00\">data 9.0000</text>\n<polyline fill=\"none\" stroke=\"black\" points=\"368,-55.5 368,-91.5\"/>\n<text text-anchor=\"middle\" x=\"409\" y=\"-69.8\" font-family=\"Times,serif\" font-size=\"14.00\">grad 0.0000</text>\n</g>\n<!-- 4588297168+ -->\n<g id=\"node7\" class=\"node\">\n<title>4588297168+</title>\n<ellipse fill=\"none\" stroke=\"black\" cx=\"513\" cy=\"-45.5\" rx=\"27\" ry=\"18\"/>\n<text text-anchor=\"middle\" x=\"513\" y=\"-41.8\" font-family=\"Times,serif\" font-size=\"14.00\">+</text>\n</g>\n<!-- 4588296496&#45;&gt;4588297168+ -->\n<g id=\"edge3\" class=\"edge\">\n<title>4588296496&#45;&gt;4588297168+</title>\n<path fill=\"none\" stroke=\"black\" d=\"M449.72,-57.78C458.72,-56.01 467.54,-54.27 475.57,-52.68\"/>\n<polygon fill=\"black\" stroke=\"black\" points=\"476.09,-56.15 485.23,-50.78 474.74,-49.28 476.09,-56.15\"/>\n</g>\n<!-- 4588296496*&#45;&gt;4588296496 -->\n<g id=\"edge1\" class=\"edge\">\n<title>4588296496*&#45;&gt;4588296496</title>\n<path fill=\"none\" stroke=\"black\" d=\"M252.38,-73.5C259.65,-73.5 267.98,-73.5 276.75,-73.5\"/>\n<polygon fill=\"black\" stroke=\"black\" points=\"276.55,-77 286.55,-73.5 276.55,-70 276.55,-77\"/>\n</g>\n<!-- 4588297120 -->\n<g id=\"node5\" class=\"node\">\n<title>4588297120</title>\n<polygon fill=\"none\" stroke=\"black\" points=\"288,-0.5 288,-36.5 450,-36.5 450,-0.5 288,-0.5\"/>\n<text text-anchor=\"middle\" x=\"328\" y=\"-14.8\" font-family=\"Times,serif\" font-size=\"14.00\">data 2.0000</text>\n<polyline fill=\"none\" stroke=\"black\" points=\"368,-0.5 368,-36.5\"/>\n<text text-anchor=\"middle\" x=\"409\" y=\"-14.8\" font-family=\"Times,serif\" font-size=\"14.00\">grad 0.0000</text>\n</g>\n<!-- 4588297120&#45;&gt;4588297168+ -->\n<g id=\"edge6\" class=\"edge\">\n<title>4588297120&#45;&gt;4588297168+</title>\n<path fill=\"none\" stroke=\"black\" d=\"M449.72,-33.66C458.72,-35.37 467.54,-37.05 475.57,-38.57\"/>\n<polygon fill=\"black\" stroke=\"black\" points=\"474.75,-41.98 485.23,-40.41 476.06,-35.1 474.75,-41.98\"/>\n</g>\n<!-- 4588297168 -->\n<g id=\"node6\" class=\"node\">\n<title>4588297168</title>\n<polygon fill=\"none\" stroke=\"black\" points=\"576,-27.5 576,-63.5 745,-63.5 745,-27.5 576,-27.5\"/>\n<text text-anchor=\"middle\" x=\"619.5\" y=\"-41.8\" font-family=\"Times,serif\" font-size=\"14.00\">data 11.0000</text>\n<polyline fill=\"none\" stroke=\"black\" points=\"663,-27.5 663,-63.5\"/>\n<text text-anchor=\"middle\" x=\"704\" y=\"-41.8\" font-family=\"Times,serif\" font-size=\"14.00\">grad 1.0000</text>\n</g>\n<!-- 4588297168+&#45;&gt;4588297168 -->\n<g id=\"edge2\" class=\"edge\">\n<title>4588297168+&#45;&gt;4588297168</title>\n<path fill=\"none\" stroke=\"black\" d=\"M540.35,-45.5C547.6,-45.5 555.92,-45.5 564.7,-45.5\"/>\n<polygon fill=\"black\" stroke=\"black\" points=\"564.53,-49 574.53,-45.5 564.53,-42 564.53,-49\"/>\n</g>\n</g>\n</svg>\n",
      "text/plain": [
       "<graphviz.graphs.Digraph at 0x1117bdf30>"
      ]
     },
     "execution_count": 38,
     "metadata": {},
     "output_type": "execute_result"
    }
   ],
   "source": [
    "draw_dot(z)"
   ]
  },
  {
   "cell_type": "code",
   "execution_count": 39,
   "id": "3f0504fd",
   "metadata": {},
   "outputs": [],
   "source": [
    "z._backward()"
   ]
  },
  {
   "cell_type": "code",
   "execution_count": 40,
   "id": "24e2e8a7",
   "metadata": {},
   "outputs": [
    {
     "data": {
      "image/svg+xml": "<?xml version=\"1.0\" encoding=\"UTF-8\" standalone=\"no\"?>\n<!DOCTYPE svg PUBLIC \"-//W3C//DTD SVG 1.1//EN\"\n \"http://www.w3.org/Graphics/SVG/1.1/DTD/svg11.dtd\">\n<!-- Generated by graphviz version 7.0.5 (20221223.1930)\n -->\n<!-- Pages: 1 -->\n<svg width=\"753pt\" height=\"128pt\"\n viewBox=\"0.00 0.00 753.00 128.00\" xmlns=\"http://www.w3.org/2000/svg\" xmlns:xlink=\"http://www.w3.org/1999/xlink\">\n<g id=\"graph0\" class=\"graph\" transform=\"scale(1 1) rotate(0) translate(4 124)\">\n<polygon fill=\"white\" stroke=\"none\" points=\"-4,4 -4,-124 749,-124 749,4 -4,4\"/>\n<!-- 4588296832 -->\n<g id=\"node1\" class=\"node\">\n<title>4588296832</title>\n<polygon fill=\"none\" stroke=\"black\" points=\"0,-83.5 0,-119.5 162,-119.5 162,-83.5 0,-83.5\"/>\n<text text-anchor=\"middle\" x=\"40\" y=\"-97.8\" font-family=\"Times,serif\" font-size=\"14.00\">data 3.0000</text>\n<polyline fill=\"none\" stroke=\"black\" points=\"80,-83.5 80,-119.5\"/>\n<text text-anchor=\"middle\" x=\"121\" y=\"-97.8\" font-family=\"Times,serif\" font-size=\"14.00\">grad 0.0000</text>\n</g>\n<!-- 4588296496* -->\n<g id=\"node4\" class=\"node\">\n<title>4588296496*</title>\n<ellipse fill=\"none\" stroke=\"black\" cx=\"225\" cy=\"-73.5\" rx=\"27\" ry=\"18\"/>\n<text text-anchor=\"middle\" x=\"225\" y=\"-69.8\" font-family=\"Times,serif\" font-size=\"14.00\">*</text>\n</g>\n<!-- 4588296832&#45;&gt;4588296496* -->\n<g id=\"edge5\" class=\"edge\">\n<title>4588296832&#45;&gt;4588296496*</title>\n<path fill=\"none\" stroke=\"black\" d=\"M161.72,-85.78C170.72,-84.01 179.54,-82.27 187.57,-80.68\"/>\n<polygon fill=\"black\" stroke=\"black\" points=\"188.09,-84.15 197.23,-78.78 186.74,-77.28 188.09,-84.15\"/>\n</g>\n<!-- 4588294864 -->\n<g id=\"node2\" class=\"node\">\n<title>4588294864</title>\n<polygon fill=\"none\" stroke=\"black\" points=\"0,-28.5 0,-64.5 162,-64.5 162,-28.5 0,-28.5\"/>\n<text text-anchor=\"middle\" x=\"40\" y=\"-42.8\" font-family=\"Times,serif\" font-size=\"14.00\">data 3.0000</text>\n<polyline fill=\"none\" stroke=\"black\" points=\"80,-28.5 80,-64.5\"/>\n<text text-anchor=\"middle\" x=\"121\" y=\"-42.8\" font-family=\"Times,serif\" font-size=\"14.00\">grad 0.0000</text>\n</g>\n<!-- 4588294864&#45;&gt;4588296496* -->\n<g id=\"edge4\" class=\"edge\">\n<title>4588294864&#45;&gt;4588296496*</title>\n<path fill=\"none\" stroke=\"black\" d=\"M161.72,-61.66C170.72,-63.37 179.54,-65.05 187.57,-66.57\"/>\n<polygon fill=\"black\" stroke=\"black\" points=\"186.75,-69.98 197.23,-68.41 188.06,-63.1 186.75,-69.98\"/>\n</g>\n<!-- 4588296496 -->\n<g id=\"node3\" class=\"node\">\n<title>4588296496</title>\n<polygon fill=\"none\" stroke=\"black\" points=\"288,-55.5 288,-91.5 450,-91.5 450,-55.5 288,-55.5\"/>\n<text text-anchor=\"middle\" x=\"328\" y=\"-69.8\" font-family=\"Times,serif\" font-size=\"14.00\">data 9.0000</text>\n<polyline fill=\"none\" stroke=\"black\" points=\"368,-55.5 368,-91.5\"/>\n<text text-anchor=\"middle\" x=\"409\" y=\"-69.8\" font-family=\"Times,serif\" font-size=\"14.00\">grad 1.0000</text>\n</g>\n<!-- 4588297168+ -->\n<g id=\"node7\" class=\"node\">\n<title>4588297168+</title>\n<ellipse fill=\"none\" stroke=\"black\" cx=\"513\" cy=\"-45.5\" rx=\"27\" ry=\"18\"/>\n<text text-anchor=\"middle\" x=\"513\" y=\"-41.8\" font-family=\"Times,serif\" font-size=\"14.00\">+</text>\n</g>\n<!-- 4588296496&#45;&gt;4588297168+ -->\n<g id=\"edge3\" class=\"edge\">\n<title>4588296496&#45;&gt;4588297168+</title>\n<path fill=\"none\" stroke=\"black\" d=\"M449.72,-57.78C458.72,-56.01 467.54,-54.27 475.57,-52.68\"/>\n<polygon fill=\"black\" stroke=\"black\" points=\"476.09,-56.15 485.23,-50.78 474.74,-49.28 476.09,-56.15\"/>\n</g>\n<!-- 4588296496*&#45;&gt;4588296496 -->\n<g id=\"edge1\" class=\"edge\">\n<title>4588296496*&#45;&gt;4588296496</title>\n<path fill=\"none\" stroke=\"black\" d=\"M252.38,-73.5C259.65,-73.5 267.98,-73.5 276.75,-73.5\"/>\n<polygon fill=\"black\" stroke=\"black\" points=\"276.55,-77 286.55,-73.5 276.55,-70 276.55,-77\"/>\n</g>\n<!-- 4588297120 -->\n<g id=\"node5\" class=\"node\">\n<title>4588297120</title>\n<polygon fill=\"none\" stroke=\"black\" points=\"288,-0.5 288,-36.5 450,-36.5 450,-0.5 288,-0.5\"/>\n<text text-anchor=\"middle\" x=\"328\" y=\"-14.8\" font-family=\"Times,serif\" font-size=\"14.00\">data 2.0000</text>\n<polyline fill=\"none\" stroke=\"black\" points=\"368,-0.5 368,-36.5\"/>\n<text text-anchor=\"middle\" x=\"409\" y=\"-14.8\" font-family=\"Times,serif\" font-size=\"14.00\">grad 1.0000</text>\n</g>\n<!-- 4588297120&#45;&gt;4588297168+ -->\n<g id=\"edge6\" class=\"edge\">\n<title>4588297120&#45;&gt;4588297168+</title>\n<path fill=\"none\" stroke=\"black\" d=\"M449.72,-33.66C458.72,-35.37 467.54,-37.05 475.57,-38.57\"/>\n<polygon fill=\"black\" stroke=\"black\" points=\"474.75,-41.98 485.23,-40.41 476.06,-35.1 474.75,-41.98\"/>\n</g>\n<!-- 4588297168 -->\n<g id=\"node6\" class=\"node\">\n<title>4588297168</title>\n<polygon fill=\"none\" stroke=\"black\" points=\"576,-27.5 576,-63.5 745,-63.5 745,-27.5 576,-27.5\"/>\n<text text-anchor=\"middle\" x=\"619.5\" y=\"-41.8\" font-family=\"Times,serif\" font-size=\"14.00\">data 11.0000</text>\n<polyline fill=\"none\" stroke=\"black\" points=\"663,-27.5 663,-63.5\"/>\n<text text-anchor=\"middle\" x=\"704\" y=\"-41.8\" font-family=\"Times,serif\" font-size=\"14.00\">grad 1.0000</text>\n</g>\n<!-- 4588297168+&#45;&gt;4588297168 -->\n<g id=\"edge2\" class=\"edge\">\n<title>4588297168+&#45;&gt;4588297168</title>\n<path fill=\"none\" stroke=\"black\" d=\"M540.35,-45.5C547.6,-45.5 555.92,-45.5 564.7,-45.5\"/>\n<polygon fill=\"black\" stroke=\"black\" points=\"564.53,-49 574.53,-45.5 564.53,-42 564.53,-49\"/>\n</g>\n</g>\n</svg>\n",
      "text/plain": [
       "<graphviz.graphs.Digraph at 0x1117bd900>"
      ]
     },
     "execution_count": 40,
     "metadata": {},
     "output_type": "execute_result"
    }
   ],
   "source": [
    "draw_dot(z)"
   ]
  },
  {
   "cell_type": "code",
   "execution_count": 41,
   "id": "0497af96",
   "metadata": {},
   "outputs": [],
   "source": [
    "z = 3 * a"
   ]
  },
  {
   "cell_type": "code",
   "execution_count": 42,
   "id": "547da517",
   "metadata": {},
   "outputs": [
    {
     "data": {
      "image/svg+xml": "<?xml version=\"1.0\" encoding=\"UTF-8\" standalone=\"no\"?>\n<!DOCTYPE svg PUBLIC \"-//W3C//DTD SVG 1.1//EN\"\n \"http://www.w3.org/Graphics/SVG/1.1/DTD/svg11.dtd\">\n<!-- Generated by graphviz version 7.0.5 (20221223.1930)\n -->\n<!-- Pages: 1 -->\n<svg width=\"458pt\" height=\"100pt\"\n viewBox=\"0.00 0.00 458.00 100.00\" xmlns=\"http://www.w3.org/2000/svg\" xmlns:xlink=\"http://www.w3.org/1999/xlink\">\n<g id=\"graph0\" class=\"graph\" transform=\"scale(1 1) rotate(0) translate(4 96)\">\n<polygon fill=\"white\" stroke=\"none\" points=\"-4,4 -4,-96 454,-96 454,4 -4,4\"/>\n<!-- 4588298272 -->\n<g id=\"node1\" class=\"node\">\n<title>4588298272</title>\n<polygon fill=\"none\" stroke=\"black\" points=\"0,-55.5 0,-91.5 162,-91.5 162,-55.5 0,-55.5\"/>\n<text text-anchor=\"middle\" x=\"40\" y=\"-69.8\" font-family=\"Times,serif\" font-size=\"14.00\">data 3.0000</text>\n<polyline fill=\"none\" stroke=\"black\" points=\"80,-55.5 80,-91.5\"/>\n<text text-anchor=\"middle\" x=\"121\" y=\"-69.8\" font-family=\"Times,serif\" font-size=\"14.00\">grad 0.0000</text>\n</g>\n<!-- 4588298608* -->\n<g id=\"node4\" class=\"node\">\n<title>4588298608*</title>\n<ellipse fill=\"none\" stroke=\"black\" cx=\"225\" cy=\"-45.5\" rx=\"27\" ry=\"18\"/>\n<text text-anchor=\"middle\" x=\"225\" y=\"-41.8\" font-family=\"Times,serif\" font-size=\"14.00\">*</text>\n</g>\n<!-- 4588298272&#45;&gt;4588298608* -->\n<g id=\"edge2\" class=\"edge\">\n<title>4588298272&#45;&gt;4588298608*</title>\n<path fill=\"none\" stroke=\"black\" d=\"M161.72,-57.78C170.72,-56.01 179.54,-54.27 187.57,-52.68\"/>\n<polygon fill=\"black\" stroke=\"black\" points=\"188.09,-56.15 197.23,-50.78 186.74,-49.28 188.09,-56.15\"/>\n</g>\n<!-- 4588294864 -->\n<g id=\"node2\" class=\"node\">\n<title>4588294864</title>\n<polygon fill=\"none\" stroke=\"black\" points=\"0,-0.5 0,-36.5 162,-36.5 162,-0.5 0,-0.5\"/>\n<text text-anchor=\"middle\" x=\"40\" y=\"-14.8\" font-family=\"Times,serif\" font-size=\"14.00\">data 3.0000</text>\n<polyline fill=\"none\" stroke=\"black\" points=\"80,-0.5 80,-36.5\"/>\n<text text-anchor=\"middle\" x=\"121\" y=\"-14.8\" font-family=\"Times,serif\" font-size=\"14.00\">grad 0.0000</text>\n</g>\n<!-- 4588294864&#45;&gt;4588298608* -->\n<g id=\"edge3\" class=\"edge\">\n<title>4588294864&#45;&gt;4588298608*</title>\n<path fill=\"none\" stroke=\"black\" d=\"M161.72,-33.66C170.72,-35.37 179.54,-37.05 187.57,-38.57\"/>\n<polygon fill=\"black\" stroke=\"black\" points=\"186.75,-41.98 197.23,-40.41 188.06,-35.1 186.75,-41.98\"/>\n</g>\n<!-- 4588298608 -->\n<g id=\"node3\" class=\"node\">\n<title>4588298608</title>\n<polygon fill=\"none\" stroke=\"black\" points=\"288,-27.5 288,-63.5 450,-63.5 450,-27.5 288,-27.5\"/>\n<text text-anchor=\"middle\" x=\"328\" y=\"-41.8\" font-family=\"Times,serif\" font-size=\"14.00\">data 9.0000</text>\n<polyline fill=\"none\" stroke=\"black\" points=\"368,-27.5 368,-63.5\"/>\n<text text-anchor=\"middle\" x=\"409\" y=\"-41.8\" font-family=\"Times,serif\" font-size=\"14.00\">grad 0.0000</text>\n</g>\n<!-- 4588298608*&#45;&gt;4588298608 -->\n<g id=\"edge1\" class=\"edge\">\n<title>4588298608*&#45;&gt;4588298608</title>\n<path fill=\"none\" stroke=\"black\" d=\"M252.38,-45.5C259.65,-45.5 267.98,-45.5 276.75,-45.5\"/>\n<polygon fill=\"black\" stroke=\"black\" points=\"276.55,-49 286.55,-45.5 276.55,-42 276.55,-49\"/>\n</g>\n</g>\n</svg>\n",
      "text/plain": [
       "<graphviz.graphs.Digraph at 0x1117be530>"
      ]
     },
     "execution_count": 42,
     "metadata": {},
     "output_type": "execute_result"
    }
   ],
   "source": [
    "draw_dot(z)"
   ]
  },
  {
   "cell_type": "code",
   "execution_count": 43,
   "id": "145221cc",
   "metadata": {},
   "outputs": [],
   "source": [
    "z.grad = 1"
   ]
  },
  {
   "cell_type": "code",
   "execution_count": 44,
   "id": "390594fd",
   "metadata": {},
   "outputs": [],
   "source": [
    "z._backward()"
   ]
  },
  {
   "cell_type": "code",
   "execution_count": 45,
   "id": "ad1ef37d",
   "metadata": {},
   "outputs": [
    {
     "data": {
      "image/svg+xml": "<?xml version=\"1.0\" encoding=\"UTF-8\" standalone=\"no\"?>\n<!DOCTYPE svg PUBLIC \"-//W3C//DTD SVG 1.1//EN\"\n \"http://www.w3.org/Graphics/SVG/1.1/DTD/svg11.dtd\">\n<!-- Generated by graphviz version 7.0.5 (20221223.1930)\n -->\n<!-- Pages: 1 -->\n<svg width=\"458pt\" height=\"100pt\"\n viewBox=\"0.00 0.00 458.00 100.00\" xmlns=\"http://www.w3.org/2000/svg\" xmlns:xlink=\"http://www.w3.org/1999/xlink\">\n<g id=\"graph0\" class=\"graph\" transform=\"scale(1 1) rotate(0) translate(4 96)\">\n<polygon fill=\"white\" stroke=\"none\" points=\"-4,4 -4,-96 454,-96 454,4 -4,4\"/>\n<!-- 4588298272 -->\n<g id=\"node1\" class=\"node\">\n<title>4588298272</title>\n<polygon fill=\"none\" stroke=\"black\" points=\"0,-55.5 0,-91.5 162,-91.5 162,-55.5 0,-55.5\"/>\n<text text-anchor=\"middle\" x=\"40\" y=\"-69.8\" font-family=\"Times,serif\" font-size=\"14.00\">data 3.0000</text>\n<polyline fill=\"none\" stroke=\"black\" points=\"80,-55.5 80,-91.5\"/>\n<text text-anchor=\"middle\" x=\"121\" y=\"-69.8\" font-family=\"Times,serif\" font-size=\"14.00\">grad 3.0000</text>\n</g>\n<!-- 4588298608* -->\n<g id=\"node4\" class=\"node\">\n<title>4588298608*</title>\n<ellipse fill=\"none\" stroke=\"black\" cx=\"225\" cy=\"-45.5\" rx=\"27\" ry=\"18\"/>\n<text text-anchor=\"middle\" x=\"225\" y=\"-41.8\" font-family=\"Times,serif\" font-size=\"14.00\">*</text>\n</g>\n<!-- 4588298272&#45;&gt;4588298608* -->\n<g id=\"edge2\" class=\"edge\">\n<title>4588298272&#45;&gt;4588298608*</title>\n<path fill=\"none\" stroke=\"black\" d=\"M161.72,-57.78C170.72,-56.01 179.54,-54.27 187.57,-52.68\"/>\n<polygon fill=\"black\" stroke=\"black\" points=\"188.09,-56.15 197.23,-50.78 186.74,-49.28 188.09,-56.15\"/>\n</g>\n<!-- 4588294864 -->\n<g id=\"node2\" class=\"node\">\n<title>4588294864</title>\n<polygon fill=\"none\" stroke=\"black\" points=\"0,-0.5 0,-36.5 162,-36.5 162,-0.5 0,-0.5\"/>\n<text text-anchor=\"middle\" x=\"40\" y=\"-14.8\" font-family=\"Times,serif\" font-size=\"14.00\">data 3.0000</text>\n<polyline fill=\"none\" stroke=\"black\" points=\"80,-0.5 80,-36.5\"/>\n<text text-anchor=\"middle\" x=\"121\" y=\"-14.8\" font-family=\"Times,serif\" font-size=\"14.00\">grad 3.0000</text>\n</g>\n<!-- 4588294864&#45;&gt;4588298608* -->\n<g id=\"edge3\" class=\"edge\">\n<title>4588294864&#45;&gt;4588298608*</title>\n<path fill=\"none\" stroke=\"black\" d=\"M161.72,-33.66C170.72,-35.37 179.54,-37.05 187.57,-38.57\"/>\n<polygon fill=\"black\" stroke=\"black\" points=\"186.75,-41.98 197.23,-40.41 188.06,-35.1 186.75,-41.98\"/>\n</g>\n<!-- 4588298608 -->\n<g id=\"node3\" class=\"node\">\n<title>4588298608</title>\n<polygon fill=\"none\" stroke=\"black\" points=\"288,-27.5 288,-63.5 450,-63.5 450,-27.5 288,-27.5\"/>\n<text text-anchor=\"middle\" x=\"328\" y=\"-41.8\" font-family=\"Times,serif\" font-size=\"14.00\">data 9.0000</text>\n<polyline fill=\"none\" stroke=\"black\" points=\"368,-27.5 368,-63.5\"/>\n<text text-anchor=\"middle\" x=\"409\" y=\"-41.8\" font-family=\"Times,serif\" font-size=\"14.00\">grad 1.0000</text>\n</g>\n<!-- 4588298608*&#45;&gt;4588298608 -->\n<g id=\"edge1\" class=\"edge\">\n<title>4588298608*&#45;&gt;4588298608</title>\n<path fill=\"none\" stroke=\"black\" d=\"M252.38,-45.5C259.65,-45.5 267.98,-45.5 276.75,-45.5\"/>\n<polygon fill=\"black\" stroke=\"black\" points=\"276.55,-49 286.55,-45.5 276.55,-42 276.55,-49\"/>\n</g>\n</g>\n</svg>\n",
      "text/plain": [
       "<graphviz.graphs.Digraph at 0x1117bdb70>"
      ]
     },
     "execution_count": 45,
     "metadata": {},
     "output_type": "execute_result"
    }
   ],
   "source": [
    "draw_dot(z)"
   ]
  },
  {
   "cell_type": "code",
   "execution_count": 46,
   "id": "2885dcf6",
   "metadata": {},
   "outputs": [],
   "source": [
    "z.backward()"
   ]
  },
  {
   "cell_type": "code",
   "execution_count": 47,
   "id": "46a2c0c9",
   "metadata": {},
   "outputs": [
    {
     "data": {
      "image/svg+xml": "<?xml version=\"1.0\" encoding=\"UTF-8\" standalone=\"no\"?>\n<!DOCTYPE svg PUBLIC \"-//W3C//DTD SVG 1.1//EN\"\n \"http://www.w3.org/Graphics/SVG/1.1/DTD/svg11.dtd\">\n<!-- Generated by graphviz version 7.0.5 (20221223.1930)\n -->\n<!-- Pages: 1 -->\n<svg width=\"458pt\" height=\"100pt\"\n viewBox=\"0.00 0.00 458.00 100.00\" xmlns=\"http://www.w3.org/2000/svg\" xmlns:xlink=\"http://www.w3.org/1999/xlink\">\n<g id=\"graph0\" class=\"graph\" transform=\"scale(1 1) rotate(0) translate(4 96)\">\n<polygon fill=\"white\" stroke=\"none\" points=\"-4,4 -4,-96 454,-96 454,4 -4,4\"/>\n<!-- 4588298272 -->\n<g id=\"node1\" class=\"node\">\n<title>4588298272</title>\n<polygon fill=\"none\" stroke=\"black\" points=\"0,-55.5 0,-91.5 162,-91.5 162,-55.5 0,-55.5\"/>\n<text text-anchor=\"middle\" x=\"40\" y=\"-69.8\" font-family=\"Times,serif\" font-size=\"14.00\">data 3.0000</text>\n<polyline fill=\"none\" stroke=\"black\" points=\"80,-55.5 80,-91.5\"/>\n<text text-anchor=\"middle\" x=\"121\" y=\"-69.8\" font-family=\"Times,serif\" font-size=\"14.00\">grad 6.0000</text>\n</g>\n<!-- 4588298608* -->\n<g id=\"node4\" class=\"node\">\n<title>4588298608*</title>\n<ellipse fill=\"none\" stroke=\"black\" cx=\"225\" cy=\"-45.5\" rx=\"27\" ry=\"18\"/>\n<text text-anchor=\"middle\" x=\"225\" y=\"-41.8\" font-family=\"Times,serif\" font-size=\"14.00\">*</text>\n</g>\n<!-- 4588298272&#45;&gt;4588298608* -->\n<g id=\"edge2\" class=\"edge\">\n<title>4588298272&#45;&gt;4588298608*</title>\n<path fill=\"none\" stroke=\"black\" d=\"M161.72,-57.78C170.72,-56.01 179.54,-54.27 187.57,-52.68\"/>\n<polygon fill=\"black\" stroke=\"black\" points=\"188.09,-56.15 197.23,-50.78 186.74,-49.28 188.09,-56.15\"/>\n</g>\n<!-- 4588294864 -->\n<g id=\"node2\" class=\"node\">\n<title>4588294864</title>\n<polygon fill=\"none\" stroke=\"black\" points=\"0,-0.5 0,-36.5 162,-36.5 162,-0.5 0,-0.5\"/>\n<text text-anchor=\"middle\" x=\"40\" y=\"-14.8\" font-family=\"Times,serif\" font-size=\"14.00\">data 3.0000</text>\n<polyline fill=\"none\" stroke=\"black\" points=\"80,-0.5 80,-36.5\"/>\n<text text-anchor=\"middle\" x=\"121\" y=\"-14.8\" font-family=\"Times,serif\" font-size=\"14.00\">grad 6.0000</text>\n</g>\n<!-- 4588294864&#45;&gt;4588298608* -->\n<g id=\"edge3\" class=\"edge\">\n<title>4588294864&#45;&gt;4588298608*</title>\n<path fill=\"none\" stroke=\"black\" d=\"M161.72,-33.66C170.72,-35.37 179.54,-37.05 187.57,-38.57\"/>\n<polygon fill=\"black\" stroke=\"black\" points=\"186.75,-41.98 197.23,-40.41 188.06,-35.1 186.75,-41.98\"/>\n</g>\n<!-- 4588298608 -->\n<g id=\"node3\" class=\"node\">\n<title>4588298608</title>\n<polygon fill=\"none\" stroke=\"black\" points=\"288,-27.5 288,-63.5 450,-63.5 450,-27.5 288,-27.5\"/>\n<text text-anchor=\"middle\" x=\"328\" y=\"-41.8\" font-family=\"Times,serif\" font-size=\"14.00\">data 9.0000</text>\n<polyline fill=\"none\" stroke=\"black\" points=\"368,-27.5 368,-63.5\"/>\n<text text-anchor=\"middle\" x=\"409\" y=\"-41.8\" font-family=\"Times,serif\" font-size=\"14.00\">grad 1.0000</text>\n</g>\n<!-- 4588298608*&#45;&gt;4588298608 -->\n<g id=\"edge1\" class=\"edge\">\n<title>4588298608*&#45;&gt;4588298608</title>\n<path fill=\"none\" stroke=\"black\" d=\"M252.38,-45.5C259.65,-45.5 267.98,-45.5 276.75,-45.5\"/>\n<polygon fill=\"black\" stroke=\"black\" points=\"276.55,-49 286.55,-45.5 276.55,-42 276.55,-49\"/>\n</g>\n</g>\n</svg>\n",
      "text/plain": [
       "<graphviz.graphs.Digraph at 0x1117be2f0>"
      ]
     },
     "execution_count": 47,
     "metadata": {},
     "output_type": "execute_result"
    }
   ],
   "source": [
    "draw_dot(z)"
   ]
  },
  {
   "cell_type": "code",
   "execution_count": null,
   "id": "4f5bd68f",
   "metadata": {},
   "outputs": [],
   "source": []
  }
 ],
 "metadata": {
  "kernelspec": {
   "display_name": "Python 3 (ipykernel)",
   "language": "python",
   "name": "python3"
  },
  "language_info": {
   "codemirror_mode": {
    "name": "ipython",
    "version": 3
   },
   "file_extension": ".py",
   "mimetype": "text/x-python",
   "name": "python",
   "nbconvert_exporter": "python",
   "pygments_lexer": "ipython3",
   "version": "3.10.9"
  },
  "vscode": {
   "interpreter": {
    "hash": "aee8b7b246df8f9039afb4144a1f6fd8d2ca17a180786b69acc140d282b71a49"
   }
  }
 },
 "nbformat": 4,
 "nbformat_minor": 5
}
