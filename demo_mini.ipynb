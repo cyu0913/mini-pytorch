{
 "cells": [
  {
   "cell_type": "code",
   "execution_count": 1,
   "id": "87569c4d",
   "metadata": {},
   "outputs": [],
   "source": [
    "import numpy as np"
   ]
  },
  {
   "cell_type": "code",
   "execution_count": 2,
   "id": "6bebadc7",
   "metadata": {},
   "outputs": [],
   "source": [
    "from src.engine import Value\n",
    "from src.graph import draw_dot\n",
    "from graphviz import Digraph\n",
    "import matplotlib.pyplot as plt"
   ]
  },
  {
   "cell_type": "code",
   "execution_count": 3,
   "id": "1adc5270",
   "metadata": {},
   "outputs": [],
   "source": [
    "a = Value(3.0)"
   ]
  },
  {
   "cell_type": "code",
   "execution_count": 4,
   "id": "4fdadf0f",
   "metadata": {},
   "outputs": [
    {
     "data": {
      "text/plain": [
       "Value(data=3.0, grad=0.0)"
      ]
     },
     "execution_count": 4,
     "metadata": {},
     "output_type": "execute_result"
    }
   ],
   "source": [
    "a"
   ]
  },
  {
   "cell_type": "code",
   "execution_count": 5,
   "id": "348ed832",
   "metadata": {},
   "outputs": [],
   "source": [
    "b = Value(2.0)"
   ]
  },
  {
   "cell_type": "code",
   "execution_count": 6,
   "id": "a6afeafb",
   "metadata": {},
   "outputs": [
    {
     "data": {
      "text/plain": [
       "Value(data=9.0, grad=0.0)"
      ]
     },
     "execution_count": 6,
     "metadata": {},
     "output_type": "execute_result"
    }
   ],
   "source": [
    "a * 3"
   ]
  },
  {
   "cell_type": "code",
   "execution_count": 7,
   "id": "474c7608",
   "metadata": {},
   "outputs": [
    {
     "data": {
      "text/plain": [
       "Value(data=0.0, grad=0.0)"
      ]
     },
     "execution_count": 7,
     "metadata": {},
     "output_type": "execute_result"
    }
   ],
   "source": [
    "a - 3"
   ]
  },
  {
   "cell_type": "code",
   "execution_count": 8,
   "id": "24b122a9",
   "metadata": {},
   "outputs": [
    {
     "data": {
      "text/plain": [
       "Value(data=9.0, grad=0.0)"
      ]
     },
     "execution_count": 8,
     "metadata": {},
     "output_type": "execute_result"
    }
   ],
   "source": [
    "a * 3"
   ]
  },
  {
   "cell_type": "code",
   "execution_count": 9,
   "id": "e32d67c3",
   "metadata": {},
   "outputs": [
    {
     "data": {
      "text/plain": [
       "Value(data=9.0, grad=0.0)"
      ]
     },
     "execution_count": 9,
     "metadata": {},
     "output_type": "execute_result"
    }
   ],
   "source": [
    "3 * a"
   ]
  },
  {
   "cell_type": "code",
   "execution_count": 10,
   "id": "e1bdb4d4",
   "metadata": {},
   "outputs": [
    {
     "data": {
      "text/plain": [
       "Value(data=-3.0, grad=0.0)"
      ]
     },
     "execution_count": 10,
     "metadata": {},
     "output_type": "execute_result"
    }
   ],
   "source": [
    "a * -1"
   ]
  },
  {
   "cell_type": "code",
   "execution_count": 11,
   "id": "1fc93971",
   "metadata": {},
   "outputs": [
    {
     "data": {
      "text/plain": [
       "Value(data=-3.0, grad=0.0)"
      ]
     },
     "execution_count": 11,
     "metadata": {},
     "output_type": "execute_result"
    }
   ],
   "source": [
    "-1 * a"
   ]
  },
  {
   "cell_type": "code",
   "execution_count": 12,
   "id": "17f052ec",
   "metadata": {},
   "outputs": [
    {
     "data": {
      "text/plain": [
       "Value(data=-3.0, grad=0.0)"
      ]
     },
     "execution_count": 12,
     "metadata": {},
     "output_type": "execute_result"
    }
   ],
   "source": [
    "-a"
   ]
  },
  {
   "cell_type": "code",
   "execution_count": 13,
   "id": "bcf6990d",
   "metadata": {},
   "outputs": [
    {
     "data": {
      "text/plain": [
       "Value(data=0.75, grad=0.0)"
      ]
     },
     "execution_count": 13,
     "metadata": {},
     "output_type": "execute_result"
    }
   ],
   "source": [
    "a / 4"
   ]
  },
  {
   "cell_type": "code",
   "execution_count": 14,
   "id": "331698e2",
   "metadata": {},
   "outputs": [
    {
     "data": {
      "text/plain": [
       "Value(data=6.0, grad=0.0)"
      ]
     },
     "execution_count": 14,
     "metadata": {},
     "output_type": "execute_result"
    }
   ],
   "source": [
    "a + 3"
   ]
  },
  {
   "cell_type": "code",
   "execution_count": 15,
   "id": "7f12db9f",
   "metadata": {},
   "outputs": [
    {
     "data": {
      "text/plain": [
       "Value(data=6.0, grad=0.0)"
      ]
     },
     "execution_count": 15,
     "metadata": {},
     "output_type": "execute_result"
    }
   ],
   "source": [
    "3 + a"
   ]
  },
  {
   "cell_type": "code",
   "execution_count": 16,
   "id": "b1f9b101",
   "metadata": {},
   "outputs": [
    {
     "data": {
      "text/plain": [
       "Value(data=-3.0, grad=0.0)"
      ]
     },
     "execution_count": 16,
     "metadata": {},
     "output_type": "execute_result"
    }
   ],
   "source": [
    "-a"
   ]
  },
  {
   "cell_type": "code",
   "execution_count": 17,
   "id": "1bd0beb2",
   "metadata": {},
   "outputs": [
    {
     "data": {
      "text/plain": [
       "Value(data=0.0, grad=0.0)"
      ]
     },
     "execution_count": 17,
     "metadata": {},
     "output_type": "execute_result"
    }
   ],
   "source": [
    "3 -a"
   ]
  },
  {
   "cell_type": "code",
   "execution_count": 18,
   "id": "e3535ca5",
   "metadata": {},
   "outputs": [
    {
     "data": {
      "text/plain": [
       "Value(data=1.0, grad=0.0)"
      ]
     },
     "execution_count": 18,
     "metadata": {},
     "output_type": "execute_result"
    }
   ],
   "source": [
    "3/a"
   ]
  },
  {
   "cell_type": "code",
   "execution_count": 19,
   "id": "60573786",
   "metadata": {},
   "outputs": [
    {
     "data": {
      "text/plain": [
       "Value(data=1.0, grad=0.0)"
      ]
     },
     "execution_count": 19,
     "metadata": {},
     "output_type": "execute_result"
    }
   ],
   "source": [
    "a/3"
   ]
  },
  {
   "cell_type": "code",
   "execution_count": 20,
   "id": "0c0bc0b3",
   "metadata": {},
   "outputs": [],
   "source": [
    "x = lambda: None"
   ]
  },
  {
   "cell_type": "code",
   "execution_count": 21,
   "id": "8b5946d2",
   "metadata": {},
   "outputs": [
    {
     "data": {
      "text/plain": [
       "<function __main__.<lambda>()>"
      ]
     },
     "execution_count": 21,
     "metadata": {},
     "output_type": "execute_result"
    }
   ],
   "source": [
    "x"
   ]
  },
  {
   "cell_type": "code",
   "execution_count": 22,
   "id": "2b83f97a",
   "metadata": {},
   "outputs": [
    {
     "data": {
      "text/plain": [
       "function"
      ]
     },
     "execution_count": 22,
     "metadata": {},
     "output_type": "execute_result"
    }
   ],
   "source": [
    "type(x)"
   ]
  },
  {
   "cell_type": "code",
   "execution_count": 23,
   "id": "6ddedfb1",
   "metadata": {},
   "outputs": [
    {
     "data": {
      "text/plain": [
       "False"
      ]
     },
     "execution_count": 23,
     "metadata": {},
     "output_type": "execute_result"
    }
   ],
   "source": [
    "x is None"
   ]
  },
  {
   "cell_type": "code",
   "execution_count": 24,
   "id": "b49b895a",
   "metadata": {},
   "outputs": [],
   "source": [
    "a, b = Value(3.0), Value(5.0),"
   ]
  },
  {
   "cell_type": "code",
   "execution_count": 25,
   "id": "190927f1",
   "metadata": {},
   "outputs": [],
   "source": [
    "y = 10*a + 20*b + 30"
   ]
  },
  {
   "cell_type": "code",
   "execution_count": 26,
   "id": "18319b2f",
   "metadata": {},
   "outputs": [],
   "source": [
    "z = a**2"
   ]
  },
  {
   "cell_type": "code",
   "execution_count": 27,
   "id": "43020259",
   "metadata": {},
   "outputs": [
    {
     "data": {
      "image/svg+xml": "<?xml version=\"1.0\" encoding=\"UTF-8\" standalone=\"no\"?>\n<!DOCTYPE svg PUBLIC \"-//W3C//DTD SVG 1.1//EN\"\n \"http://www.w3.org/Graphics/SVG/1.1/DTD/svg11.dtd\">\n<!-- Generated by graphviz version 7.0.5 (20221223.1930)\n -->\n<!-- Pages: 1 -->\n<svg width=\"1083pt\" height=\"210pt\"\n viewBox=\"0.00 0.00 1083.00 210.00\" xmlns=\"http://www.w3.org/2000/svg\" xmlns:xlink=\"http://www.w3.org/1999/xlink\">\n<g id=\"graph0\" class=\"graph\" transform=\"scale(1 1) rotate(0) translate(4 206)\">\n<polygon fill=\"white\" stroke=\"none\" points=\"-4,4 -4,-206 1079,-206 1079,4 -4,4\"/>\n<!-- 4512929808 -->\n<g id=\"node1\" class=\"node\">\n<title>4512929808</title>\n<polygon fill=\"none\" stroke=\"black\" points=\"600.5,-137.5 600.5,-173.5 769.5,-173.5 769.5,-137.5 600.5,-137.5\"/>\n<text text-anchor=\"middle\" x=\"644\" y=\"-151.8\" font-family=\"Times,serif\" font-size=\"14.00\">data 30.0000</text>\n<polyline fill=\"none\" stroke=\"black\" points=\"687.5,-137.5 687.5,-173.5\"/>\n<text text-anchor=\"middle\" x=\"728.5\" y=\"-151.8\" font-family=\"Times,serif\" font-size=\"14.00\">grad 0.0000</text>\n</g>\n<!-- 4512929904+ -->\n<g id=\"node5\" class=\"node\">\n<title>4512929904+</title>\n<ellipse fill=\"none\" stroke=\"black\" cx=\"836\" cy=\"-127.5\" rx=\"27\" ry=\"18\"/>\n<text text-anchor=\"middle\" x=\"836\" y=\"-123.8\" font-family=\"Times,serif\" font-size=\"14.00\">+</text>\n</g>\n<!-- 4512929808&#45;&gt;4512929904+ -->\n<g id=\"edge10\" class=\"edge\">\n<title>4512929808&#45;&gt;4512929904+</title>\n<path fill=\"none\" stroke=\"black\" d=\"M769.21,-139.86C779.41,-137.95 789.39,-136.07 798.36,-134.38\"/>\n<polygon fill=\"black\" stroke=\"black\" points=\"798.85,-137.85 808.04,-132.57 797.56,-130.97 798.85,-137.85\"/>\n</g>\n<!-- 4512929328 -->\n<g id=\"node2\" class=\"node\">\n<title>4512929328</title>\n<polygon fill=\"none\" stroke=\"black\" points=\"295,-110.5 295,-146.5 471,-146.5 471,-110.5 295,-110.5\"/>\n<text text-anchor=\"middle\" x=\"342\" y=\"-124.8\" font-family=\"Times,serif\" font-size=\"14.00\">data 100.0000</text>\n<polyline fill=\"none\" stroke=\"black\" points=\"389,-110.5 389,-146.5\"/>\n<text text-anchor=\"middle\" x=\"430\" y=\"-124.8\" font-family=\"Times,serif\" font-size=\"14.00\">grad 0.0000</text>\n</g>\n<!-- 4512929568+ -->\n<g id=\"node11\" class=\"node\">\n<title>4512929568+</title>\n<ellipse fill=\"none\" stroke=\"black\" cx=\"534\" cy=\"-100.5\" rx=\"27\" ry=\"18\"/>\n<text text-anchor=\"middle\" x=\"534\" y=\"-96.8\" font-family=\"Times,serif\" font-size=\"14.00\">+</text>\n</g>\n<!-- 4512929328&#45;&gt;4512929568+ -->\n<g id=\"edge6\" class=\"edge\">\n<title>4512929328&#45;&gt;4512929568+</title>\n<path fill=\"none\" stroke=\"black\" d=\"M470.67,-112.21C479.71,-110.51 488.49,-108.86 496.49,-107.36\"/>\n<polygon fill=\"black\" stroke=\"black\" points=\"496.89,-110.85 506.07,-105.56 495.6,-103.97 496.89,-110.85\"/>\n</g>\n<!-- 4512929328* -->\n<g id=\"node3\" class=\"node\">\n<title>4512929328*</title>\n<ellipse fill=\"none\" stroke=\"black\" cx=\"232\" cy=\"-128.5\" rx=\"27\" ry=\"18\"/>\n<text text-anchor=\"middle\" x=\"232\" y=\"-124.8\" font-family=\"Times,serif\" font-size=\"14.00\">*</text>\n</g>\n<!-- 4512929328*&#45;&gt;4512929328 -->\n<g id=\"edge1\" class=\"edge\">\n<title>4512929328*&#45;&gt;4512929328</title>\n<path fill=\"none\" stroke=\"black\" d=\"M259.3,-128.5C266.58,-128.5 274.94,-128.5 283.8,-128.5\"/>\n<polygon fill=\"black\" stroke=\"black\" points=\"283.74,-132 293.74,-128.5 283.74,-125 283.74,-132\"/>\n</g>\n<!-- 4512929904 -->\n<g id=\"node4\" class=\"node\">\n<title>4512929904</title>\n<polygon fill=\"none\" stroke=\"black\" points=\"899,-109.5 899,-145.5 1075,-145.5 1075,-109.5 899,-109.5\"/>\n<text text-anchor=\"middle\" x=\"946\" y=\"-123.8\" font-family=\"Times,serif\" font-size=\"14.00\">data 160.0000</text>\n<polyline fill=\"none\" stroke=\"black\" points=\"993,-109.5 993,-145.5\"/>\n<text text-anchor=\"middle\" x=\"1034\" y=\"-123.8\" font-family=\"Times,serif\" font-size=\"14.00\">grad 0.0000</text>\n</g>\n<!-- 4512929904+&#45;&gt;4512929904 -->\n<g id=\"edge2\" class=\"edge\">\n<title>4512929904+&#45;&gt;4512929904</title>\n<path fill=\"none\" stroke=\"black\" d=\"M863.3,-127.5C870.58,-127.5 878.94,-127.5 887.8,-127.5\"/>\n<polygon fill=\"black\" stroke=\"black\" points=\"887.74,-131 897.74,-127.5 887.74,-124 887.74,-131\"/>\n</g>\n<!-- 4512928896 -->\n<g id=\"node6\" class=\"node\">\n<title>4512928896</title>\n<polygon fill=\"none\" stroke=\"black\" points=\"0,-55.5 0,-91.5 169,-91.5 169,-55.5 0,-55.5\"/>\n<text text-anchor=\"middle\" x=\"43.5\" y=\"-69.8\" font-family=\"Times,serif\" font-size=\"14.00\">data 10.0000</text>\n<polyline fill=\"none\" stroke=\"black\" points=\"87,-55.5 87,-91.5\"/>\n<text text-anchor=\"middle\" x=\"128\" y=\"-69.8\" font-family=\"Times,serif\" font-size=\"14.00\">grad 0.0000</text>\n</g>\n<!-- 4512928992* -->\n<g id=\"node8\" class=\"node\">\n<title>4512928992*</title>\n<ellipse fill=\"none\" stroke=\"black\" cx=\"232\" cy=\"-73.5\" rx=\"27\" ry=\"18\"/>\n<text text-anchor=\"middle\" x=\"232\" y=\"-69.8\" font-family=\"Times,serif\" font-size=\"14.00\">*</text>\n</g>\n<!-- 4512928896&#45;&gt;4512928992* -->\n<g id=\"edge8\" class=\"edge\">\n<title>4512928896&#45;&gt;4512928992*</title>\n<path fill=\"none\" stroke=\"black\" d=\"M168.87,-73.5C177.37,-73.5 185.68,-73.5 193.3,-73.5\"/>\n<polygon fill=\"black\" stroke=\"black\" points=\"193.15,-77 203.15,-73.5 193.15,-70 193.15,-77\"/>\n</g>\n<!-- 4512928992 -->\n<g id=\"node7\" class=\"node\">\n<title>4512928992</title>\n<polygon fill=\"none\" stroke=\"black\" points=\"298.5,-55.5 298.5,-91.5 467.5,-91.5 467.5,-55.5 298.5,-55.5\"/>\n<text text-anchor=\"middle\" x=\"342\" y=\"-69.8\" font-family=\"Times,serif\" font-size=\"14.00\">data 30.0000</text>\n<polyline fill=\"none\" stroke=\"black\" points=\"385.5,-55.5 385.5,-91.5\"/>\n<text text-anchor=\"middle\" x=\"426.5\" y=\"-69.8\" font-family=\"Times,serif\" font-size=\"14.00\">grad 0.0000</text>\n</g>\n<!-- 4512928992&#45;&gt;4512929568+ -->\n<g id=\"edge7\" class=\"edge\">\n<title>4512928992&#45;&gt;4512929568+</title>\n<path fill=\"none\" stroke=\"black\" d=\"M467.21,-88.58C477.41,-90.43 487.39,-92.23 496.36,-93.86\"/>\n<polygon fill=\"black\" stroke=\"black\" points=\"495.57,-97.27 506.03,-95.61 496.82,-90.39 495.57,-97.27\"/>\n</g>\n<!-- 4512928992*&#45;&gt;4512928992 -->\n<g id=\"edge3\" class=\"edge\">\n<title>4512928992*&#45;&gt;4512928992</title>\n<path fill=\"none\" stroke=\"black\" d=\"M259.3,-73.5C267.58,-73.5 277.25,-73.5 287.47,-73.5\"/>\n<polygon fill=\"black\" stroke=\"black\" points=\"287.22,-77 297.22,-73.5 287.22,-70 287.22,-77\"/>\n</g>\n<!-- 4512928512 -->\n<g id=\"node9\" class=\"node\">\n<title>4512928512</title>\n<polygon fill=\"none\" stroke=\"black\" points=\"3.5,-165.5 3.5,-201.5 165.5,-201.5 165.5,-165.5 3.5,-165.5\"/>\n<text text-anchor=\"middle\" x=\"43.5\" y=\"-179.8\" font-family=\"Times,serif\" font-size=\"14.00\">data 5.0000</text>\n<polyline fill=\"none\" stroke=\"black\" points=\"83.5,-165.5 83.5,-201.5\"/>\n<text text-anchor=\"middle\" x=\"124.5\" y=\"-179.8\" font-family=\"Times,serif\" font-size=\"14.00\">grad 0.0000</text>\n</g>\n<!-- 4512928512&#45;&gt;4512929328* -->\n<g id=\"edge12\" class=\"edge\">\n<title>4512928512&#45;&gt;4512929328*</title>\n<path fill=\"none\" stroke=\"black\" d=\"M143.74,-165.59C152.27,-162.7 160.9,-159.63 169,-156.5 178.93,-152.67 189.55,-148.06 199.14,-143.71\"/>\n<polygon fill=\"black\" stroke=\"black\" points=\"200.46,-146.95 208.07,-139.58 197.52,-140.6 200.46,-146.95\"/>\n</g>\n<!-- 4512929568 -->\n<g id=\"node10\" class=\"node\">\n<title>4512929568</title>\n<polygon fill=\"none\" stroke=\"black\" points=\"597,-82.5 597,-118.5 773,-118.5 773,-82.5 597,-82.5\"/>\n<text text-anchor=\"middle\" x=\"644\" y=\"-96.8\" font-family=\"Times,serif\" font-size=\"14.00\">data 130.0000</text>\n<polyline fill=\"none\" stroke=\"black\" points=\"691,-82.5 691,-118.5\"/>\n<text text-anchor=\"middle\" x=\"732\" y=\"-96.8\" font-family=\"Times,serif\" font-size=\"14.00\">grad 0.0000</text>\n</g>\n<!-- 4512929568&#45;&gt;4512929904+ -->\n<g id=\"edge11\" class=\"edge\">\n<title>4512929568&#45;&gt;4512929904+</title>\n<path fill=\"none\" stroke=\"black\" d=\"M772.67,-116.21C781.71,-117.84 790.49,-119.44 798.49,-120.88\"/>\n<polygon fill=\"black\" stroke=\"black\" points=\"797.61,-124.28 808.07,-122.62 798.86,-117.39 797.61,-124.28\"/>\n</g>\n<!-- 4512929568+&#45;&gt;4512929568 -->\n<g id=\"edge4\" class=\"edge\">\n<title>4512929568+&#45;&gt;4512929568</title>\n<path fill=\"none\" stroke=\"black\" d=\"M561.3,-100.5C568.58,-100.5 576.94,-100.5 585.8,-100.5\"/>\n<polygon fill=\"black\" stroke=\"black\" points=\"585.74,-104 595.74,-100.5 585.74,-97 585.74,-104\"/>\n</g>\n<!-- 4512928560 -->\n<g id=\"node12\" class=\"node\">\n<title>4512928560</title>\n<polygon fill=\"none\" stroke=\"black\" points=\"3.5,-0.5 3.5,-36.5 165.5,-36.5 165.5,-0.5 3.5,-0.5\"/>\n<text text-anchor=\"middle\" x=\"43.5\" y=\"-14.8\" font-family=\"Times,serif\" font-size=\"14.00\">data 3.0000</text>\n<polyline fill=\"none\" stroke=\"black\" points=\"83.5,-0.5 83.5,-36.5\"/>\n<text text-anchor=\"middle\" x=\"124.5\" y=\"-14.8\" font-family=\"Times,serif\" font-size=\"14.00\">grad 0.0000</text>\n</g>\n<!-- 4512928560&#45;&gt;4512928992* -->\n<g id=\"edge9\" class=\"edge\">\n<title>4512928560&#45;&gt;4512928992*</title>\n<path fill=\"none\" stroke=\"black\" d=\"M140.99,-36.35C150.39,-39.59 160.01,-43.04 169,-46.5 178.79,-50.27 189.3,-54.69 198.84,-58.86\"/>\n<polygon fill=\"black\" stroke=\"black\" points=\"197.15,-61.94 207.71,-62.79 199.99,-55.54 197.15,-61.94\"/>\n</g>\n<!-- 4512929232 -->\n<g id=\"node13\" class=\"node\">\n<title>4512929232</title>\n<polygon fill=\"none\" stroke=\"black\" points=\"0,-110.5 0,-146.5 169,-146.5 169,-110.5 0,-110.5\"/>\n<text text-anchor=\"middle\" x=\"43.5\" y=\"-124.8\" font-family=\"Times,serif\" font-size=\"14.00\">data 20.0000</text>\n<polyline fill=\"none\" stroke=\"black\" points=\"87,-110.5 87,-146.5\"/>\n<text text-anchor=\"middle\" x=\"128\" y=\"-124.8\" font-family=\"Times,serif\" font-size=\"14.00\">grad 0.0000</text>\n</g>\n<!-- 4512929232&#45;&gt;4512929328* -->\n<g id=\"edge5\" class=\"edge\">\n<title>4512929232&#45;&gt;4512929328*</title>\n<path fill=\"none\" stroke=\"black\" d=\"M168.87,-128.5C177.37,-128.5 185.68,-128.5 193.3,-128.5\"/>\n<polygon fill=\"black\" stroke=\"black\" points=\"193.15,-132 203.15,-128.5 193.15,-125 193.15,-132\"/>\n</g>\n</g>\n</svg>\n",
      "text/plain": [
       "<graphviz.graphs.Digraph at 0x10cfdd8d0>"
      ]
     },
     "execution_count": 27,
     "metadata": {},
     "output_type": "execute_result"
    }
   ],
   "source": [
    "draw_dot(y)"
   ]
  },
  {
   "cell_type": "code",
   "execution_count": 28,
   "id": "9649e8d8",
   "metadata": {},
   "outputs": [
    {
     "data": {
      "text/plain": [
       "Value(data=9.0, grad=0.0)"
      ]
     },
     "execution_count": 28,
     "metadata": {},
     "output_type": "execute_result"
    }
   ],
   "source": [
    "z"
   ]
  },
  {
   "cell_type": "code",
   "execution_count": 29,
   "id": "ac08687d",
   "metadata": {},
   "outputs": [
    {
     "data": {
      "text/plain": [
       "src.engine.Value"
      ]
     },
     "execution_count": 29,
     "metadata": {},
     "output_type": "execute_result"
    }
   ],
   "source": [
    "type(z)"
   ]
  },
  {
   "cell_type": "code",
   "execution_count": 30,
   "id": "4e8fe8f5",
   "metadata": {},
   "outputs": [
    {
     "data": {
      "text/plain": [
       "Value(data=9.0, grad=0.0)"
      ]
     },
     "execution_count": 30,
     "metadata": {},
     "output_type": "execute_result"
    }
   ],
   "source": [
    "z"
   ]
  },
  {
   "cell_type": "code",
   "execution_count": 31,
   "id": "09f1b600",
   "metadata": {},
   "outputs": [
    {
     "data": {
      "image/svg+xml": "<?xml version=\"1.0\" encoding=\"UTF-8\" standalone=\"no\"?>\n<!DOCTYPE svg PUBLIC \"-//W3C//DTD SVG 1.1//EN\"\n \"http://www.w3.org/Graphics/SVG/1.1/DTD/svg11.dtd\">\n<!-- Generated by graphviz version 7.0.5 (20221223.1930)\n -->\n<!-- Pages: 1 -->\n<svg width=\"458pt\" height=\"45pt\"\n viewBox=\"0.00 0.00 458.00 45.00\" xmlns=\"http://www.w3.org/2000/svg\" xmlns:xlink=\"http://www.w3.org/1999/xlink\">\n<g id=\"graph0\" class=\"graph\" transform=\"scale(1 1) rotate(0) translate(4 41)\">\n<polygon fill=\"white\" stroke=\"none\" points=\"-4,4 -4,-41 454,-41 454,4 -4,4\"/>\n<!-- 4512928560 -->\n<g id=\"node1\" class=\"node\">\n<title>4512928560</title>\n<polygon fill=\"none\" stroke=\"black\" points=\"0,-0.5 0,-36.5 162,-36.5 162,-0.5 0,-0.5\"/>\n<text text-anchor=\"middle\" x=\"40\" y=\"-14.8\" font-family=\"Times,serif\" font-size=\"14.00\">data 3.0000</text>\n<polyline fill=\"none\" stroke=\"black\" points=\"80,-0.5 80,-36.5\"/>\n<text text-anchor=\"middle\" x=\"121\" y=\"-14.8\" font-family=\"Times,serif\" font-size=\"14.00\">grad 0.0000</text>\n</g>\n<!-- 4512928752** -->\n<g id=\"node3\" class=\"node\">\n<title>4512928752**</title>\n<ellipse fill=\"none\" stroke=\"black\" cx=\"225\" cy=\"-18.5\" rx=\"27\" ry=\"18\"/>\n<text text-anchor=\"middle\" x=\"225\" y=\"-14.8\" font-family=\"Times,serif\" font-size=\"14.00\">**</text>\n</g>\n<!-- 4512928560&#45;&gt;4512928752** -->\n<g id=\"edge2\" class=\"edge\">\n<title>4512928560&#45;&gt;4512928752**</title>\n<path fill=\"none\" stroke=\"black\" d=\"M161.72,-18.5C170.18,-18.5 178.48,-18.5 186.11,-18.5\"/>\n<polygon fill=\"black\" stroke=\"black\" points=\"185.99,-22 195.99,-18.5 185.99,-15 185.99,-22\"/>\n</g>\n<!-- 4512928752 -->\n<g id=\"node2\" class=\"node\">\n<title>4512928752</title>\n<polygon fill=\"none\" stroke=\"black\" points=\"288,-0.5 288,-36.5 450,-36.5 450,-0.5 288,-0.5\"/>\n<text text-anchor=\"middle\" x=\"328\" y=\"-14.8\" font-family=\"Times,serif\" font-size=\"14.00\">data 9.0000</text>\n<polyline fill=\"none\" stroke=\"black\" points=\"368,-0.5 368,-36.5\"/>\n<text text-anchor=\"middle\" x=\"409\" y=\"-14.8\" font-family=\"Times,serif\" font-size=\"14.00\">grad 0.0000</text>\n</g>\n<!-- 4512928752**&#45;&gt;4512928752 -->\n<g id=\"edge1\" class=\"edge\">\n<title>4512928752**&#45;&gt;4512928752</title>\n<path fill=\"none\" stroke=\"black\" d=\"M252.38,-18.5C259.65,-18.5 267.98,-18.5 276.75,-18.5\"/>\n<polygon fill=\"black\" stroke=\"black\" points=\"276.55,-22 286.55,-18.5 276.55,-15 276.55,-22\"/>\n</g>\n</g>\n</svg>\n",
      "text/plain": [
       "<graphviz.graphs.Digraph at 0x10cfdd900>"
      ]
     },
     "execution_count": 31,
     "metadata": {},
     "output_type": "execute_result"
    }
   ],
   "source": [
    "draw_dot(z)"
   ]
  },
  {
   "cell_type": "code",
   "execution_count": 32,
   "id": "876cca90",
   "metadata": {},
   "outputs": [],
   "source": [
    "z = 3*a + 2"
   ]
  },
  {
   "cell_type": "code",
   "execution_count": 33,
   "id": "47ddf90c",
   "metadata": {},
   "outputs": [
    {
     "data": {
      "image/svg+xml": "<?xml version=\"1.0\" encoding=\"UTF-8\" standalone=\"no\"?>\n<!DOCTYPE svg PUBLIC \"-//W3C//DTD SVG 1.1//EN\"\n \"http://www.w3.org/Graphics/SVG/1.1/DTD/svg11.dtd\">\n<!-- Generated by graphviz version 7.0.5 (20221223.1930)\n -->\n<!-- Pages: 1 -->\n<svg width=\"753pt\" height=\"127pt\"\n viewBox=\"0.00 0.00 753.00 127.00\" xmlns=\"http://www.w3.org/2000/svg\" xmlns:xlink=\"http://www.w3.org/1999/xlink\">\n<g id=\"graph0\" class=\"graph\" transform=\"scale(1 1) rotate(0) translate(4 123)\">\n<polygon fill=\"white\" stroke=\"none\" points=\"-4,4 -4,-123 749,-123 749,4 -4,4\"/>\n<!-- 4512931056 -->\n<g id=\"node1\" class=\"node\">\n<title>4512931056</title>\n<polygon fill=\"none\" stroke=\"black\" points=\"288,-82.5 288,-118.5 450,-118.5 450,-82.5 288,-82.5\"/>\n<text text-anchor=\"middle\" x=\"328\" y=\"-96.8\" font-family=\"Times,serif\" font-size=\"14.00\">data 2.0000</text>\n<polyline fill=\"none\" stroke=\"black\" points=\"368,-82.5 368,-118.5\"/>\n<text text-anchor=\"middle\" x=\"409\" y=\"-96.8\" font-family=\"Times,serif\" font-size=\"14.00\">grad 0.0000</text>\n</g>\n<!-- 4512930576+ -->\n<g id=\"node3\" class=\"node\">\n<title>4512930576+</title>\n<ellipse fill=\"none\" stroke=\"black\" cx=\"513\" cy=\"-72.5\" rx=\"27\" ry=\"18\"/>\n<text text-anchor=\"middle\" x=\"513\" y=\"-68.8\" font-family=\"Times,serif\" font-size=\"14.00\">+</text>\n</g>\n<!-- 4512931056&#45;&gt;4512930576+ -->\n<g id=\"edge3\" class=\"edge\">\n<title>4512931056&#45;&gt;4512930576+</title>\n<path fill=\"none\" stroke=\"black\" d=\"M449.72,-84.78C458.72,-83.01 467.54,-81.27 475.57,-79.68\"/>\n<polygon fill=\"black\" stroke=\"black\" points=\"476.09,-83.15 485.23,-77.78 474.74,-76.28 476.09,-83.15\"/>\n</g>\n<!-- 4512930576 -->\n<g id=\"node2\" class=\"node\">\n<title>4512930576</title>\n<polygon fill=\"none\" stroke=\"black\" points=\"576,-54.5 576,-90.5 745,-90.5 745,-54.5 576,-54.5\"/>\n<text text-anchor=\"middle\" x=\"619.5\" y=\"-68.8\" font-family=\"Times,serif\" font-size=\"14.00\">data 11.0000</text>\n<polyline fill=\"none\" stroke=\"black\" points=\"663,-54.5 663,-90.5\"/>\n<text text-anchor=\"middle\" x=\"704\" y=\"-68.8\" font-family=\"Times,serif\" font-size=\"14.00\">grad 0.0000</text>\n</g>\n<!-- 4512930576+&#45;&gt;4512930576 -->\n<g id=\"edge1\" class=\"edge\">\n<title>4512930576+&#45;&gt;4512930576</title>\n<path fill=\"none\" stroke=\"black\" d=\"M540.35,-72.5C547.6,-72.5 555.92,-72.5 564.7,-72.5\"/>\n<polygon fill=\"black\" stroke=\"black\" points=\"564.53,-76 574.53,-72.5 564.53,-69 564.53,-76\"/>\n</g>\n<!-- 4512928560 -->\n<g id=\"node4\" class=\"node\">\n<title>4512928560</title>\n<polygon fill=\"none\" stroke=\"black\" points=\"0,-55.5 0,-91.5 162,-91.5 162,-55.5 0,-55.5\"/>\n<text text-anchor=\"middle\" x=\"40\" y=\"-69.8\" font-family=\"Times,serif\" font-size=\"14.00\">data 3.0000</text>\n<polyline fill=\"none\" stroke=\"black\" points=\"80,-55.5 80,-91.5\"/>\n<text text-anchor=\"middle\" x=\"121\" y=\"-69.8\" font-family=\"Times,serif\" font-size=\"14.00\">grad 0.0000</text>\n</g>\n<!-- 4512930672* -->\n<g id=\"node6\" class=\"node\">\n<title>4512930672*</title>\n<ellipse fill=\"none\" stroke=\"black\" cx=\"225\" cy=\"-45.5\" rx=\"27\" ry=\"18\"/>\n<text text-anchor=\"middle\" x=\"225\" y=\"-41.8\" font-family=\"Times,serif\" font-size=\"14.00\">*</text>\n</g>\n<!-- 4512928560&#45;&gt;4512930672* -->\n<g id=\"edge6\" class=\"edge\">\n<title>4512928560&#45;&gt;4512930672*</title>\n<path fill=\"none\" stroke=\"black\" d=\"M161.72,-57.78C170.72,-56.01 179.54,-54.27 187.57,-52.68\"/>\n<polygon fill=\"black\" stroke=\"black\" points=\"188.09,-56.15 197.23,-50.78 186.74,-49.28 188.09,-56.15\"/>\n</g>\n<!-- 4512930672 -->\n<g id=\"node5\" class=\"node\">\n<title>4512930672</title>\n<polygon fill=\"none\" stroke=\"black\" points=\"288,-27.5 288,-63.5 450,-63.5 450,-27.5 288,-27.5\"/>\n<text text-anchor=\"middle\" x=\"328\" y=\"-41.8\" font-family=\"Times,serif\" font-size=\"14.00\">data 9.0000</text>\n<polyline fill=\"none\" stroke=\"black\" points=\"368,-27.5 368,-63.5\"/>\n<text text-anchor=\"middle\" x=\"409\" y=\"-41.8\" font-family=\"Times,serif\" font-size=\"14.00\">grad 0.0000</text>\n</g>\n<!-- 4512930672&#45;&gt;4512930576+ -->\n<g id=\"edge4\" class=\"edge\">\n<title>4512930672&#45;&gt;4512930576+</title>\n<path fill=\"none\" stroke=\"black\" d=\"M449.72,-60.66C458.72,-62.37 467.54,-64.05 475.57,-65.57\"/>\n<polygon fill=\"black\" stroke=\"black\" points=\"474.75,-68.98 485.23,-67.41 476.06,-62.1 474.75,-68.98\"/>\n</g>\n<!-- 4512930672*&#45;&gt;4512930672 -->\n<g id=\"edge2\" class=\"edge\">\n<title>4512930672*&#45;&gt;4512930672</title>\n<path fill=\"none\" stroke=\"black\" d=\"M252.38,-45.5C259.65,-45.5 267.98,-45.5 276.75,-45.5\"/>\n<polygon fill=\"black\" stroke=\"black\" points=\"276.55,-49 286.55,-45.5 276.55,-42 276.55,-49\"/>\n</g>\n<!-- 4512930768 -->\n<g id=\"node7\" class=\"node\">\n<title>4512930768</title>\n<polygon fill=\"none\" stroke=\"black\" points=\"0,-0.5 0,-36.5 162,-36.5 162,-0.5 0,-0.5\"/>\n<text text-anchor=\"middle\" x=\"40\" y=\"-14.8\" font-family=\"Times,serif\" font-size=\"14.00\">data 3.0000</text>\n<polyline fill=\"none\" stroke=\"black\" points=\"80,-0.5 80,-36.5\"/>\n<text text-anchor=\"middle\" x=\"121\" y=\"-14.8\" font-family=\"Times,serif\" font-size=\"14.00\">grad 0.0000</text>\n</g>\n<!-- 4512930768&#45;&gt;4512930672* -->\n<g id=\"edge5\" class=\"edge\">\n<title>4512930768&#45;&gt;4512930672*</title>\n<path fill=\"none\" stroke=\"black\" d=\"M161.72,-33.66C170.72,-35.37 179.54,-37.05 187.57,-38.57\"/>\n<polygon fill=\"black\" stroke=\"black\" points=\"186.75,-41.98 197.23,-40.41 188.06,-35.1 186.75,-41.98\"/>\n</g>\n</g>\n</svg>\n",
      "text/plain": [
       "<graphviz.graphs.Digraph at 0x10cfddc90>"
      ]
     },
     "execution_count": 33,
     "metadata": {},
     "output_type": "execute_result"
    }
   ],
   "source": [
    "draw_dot(z)"
   ]
  },
  {
   "cell_type": "code",
   "execution_count": 34,
   "id": "6d6844a9",
   "metadata": {},
   "outputs": [
    {
     "data": {
      "text/plain": [
       "<function src.engine.Value.__add__.<locals>._backward()>"
      ]
     },
     "execution_count": 34,
     "metadata": {},
     "output_type": "execute_result"
    }
   ],
   "source": [
    "z._backward"
   ]
  },
  {
   "cell_type": "code",
   "execution_count": 35,
   "id": "4782e847",
   "metadata": {},
   "outputs": [
    {
     "data": {
      "image/svg+xml": "<?xml version=\"1.0\" encoding=\"UTF-8\" standalone=\"no\"?>\n<!DOCTYPE svg PUBLIC \"-//W3C//DTD SVG 1.1//EN\"\n \"http://www.w3.org/Graphics/SVG/1.1/DTD/svg11.dtd\">\n<!-- Generated by graphviz version 7.0.5 (20221223.1930)\n -->\n<!-- Pages: 1 -->\n<svg width=\"753pt\" height=\"127pt\"\n viewBox=\"0.00 0.00 753.00 127.00\" xmlns=\"http://www.w3.org/2000/svg\" xmlns:xlink=\"http://www.w3.org/1999/xlink\">\n<g id=\"graph0\" class=\"graph\" transform=\"scale(1 1) rotate(0) translate(4 123)\">\n<polygon fill=\"white\" stroke=\"none\" points=\"-4,4 -4,-123 749,-123 749,4 -4,4\"/>\n<!-- 4512931056 -->\n<g id=\"node1\" class=\"node\">\n<title>4512931056</title>\n<polygon fill=\"none\" stroke=\"black\" points=\"288,-82.5 288,-118.5 450,-118.5 450,-82.5 288,-82.5\"/>\n<text text-anchor=\"middle\" x=\"328\" y=\"-96.8\" font-family=\"Times,serif\" font-size=\"14.00\">data 2.0000</text>\n<polyline fill=\"none\" stroke=\"black\" points=\"368,-82.5 368,-118.5\"/>\n<text text-anchor=\"middle\" x=\"409\" y=\"-96.8\" font-family=\"Times,serif\" font-size=\"14.00\">grad 0.0000</text>\n</g>\n<!-- 4512930576+ -->\n<g id=\"node3\" class=\"node\">\n<title>4512930576+</title>\n<ellipse fill=\"none\" stroke=\"black\" cx=\"513\" cy=\"-72.5\" rx=\"27\" ry=\"18\"/>\n<text text-anchor=\"middle\" x=\"513\" y=\"-68.8\" font-family=\"Times,serif\" font-size=\"14.00\">+</text>\n</g>\n<!-- 4512931056&#45;&gt;4512930576+ -->\n<g id=\"edge3\" class=\"edge\">\n<title>4512931056&#45;&gt;4512930576+</title>\n<path fill=\"none\" stroke=\"black\" d=\"M449.72,-84.78C458.72,-83.01 467.54,-81.27 475.57,-79.68\"/>\n<polygon fill=\"black\" stroke=\"black\" points=\"476.09,-83.15 485.23,-77.78 474.74,-76.28 476.09,-83.15\"/>\n</g>\n<!-- 4512930576 -->\n<g id=\"node2\" class=\"node\">\n<title>4512930576</title>\n<polygon fill=\"none\" stroke=\"black\" points=\"576,-54.5 576,-90.5 745,-90.5 745,-54.5 576,-54.5\"/>\n<text text-anchor=\"middle\" x=\"619.5\" y=\"-68.8\" font-family=\"Times,serif\" font-size=\"14.00\">data 11.0000</text>\n<polyline fill=\"none\" stroke=\"black\" points=\"663,-54.5 663,-90.5\"/>\n<text text-anchor=\"middle\" x=\"704\" y=\"-68.8\" font-family=\"Times,serif\" font-size=\"14.00\">grad 0.0000</text>\n</g>\n<!-- 4512930576+&#45;&gt;4512930576 -->\n<g id=\"edge1\" class=\"edge\">\n<title>4512930576+&#45;&gt;4512930576</title>\n<path fill=\"none\" stroke=\"black\" d=\"M540.35,-72.5C547.6,-72.5 555.92,-72.5 564.7,-72.5\"/>\n<polygon fill=\"black\" stroke=\"black\" points=\"564.53,-76 574.53,-72.5 564.53,-69 564.53,-76\"/>\n</g>\n<!-- 4512928560 -->\n<g id=\"node4\" class=\"node\">\n<title>4512928560</title>\n<polygon fill=\"none\" stroke=\"black\" points=\"0,-55.5 0,-91.5 162,-91.5 162,-55.5 0,-55.5\"/>\n<text text-anchor=\"middle\" x=\"40\" y=\"-69.8\" font-family=\"Times,serif\" font-size=\"14.00\">data 3.0000</text>\n<polyline fill=\"none\" stroke=\"black\" points=\"80,-55.5 80,-91.5\"/>\n<text text-anchor=\"middle\" x=\"121\" y=\"-69.8\" font-family=\"Times,serif\" font-size=\"14.00\">grad 0.0000</text>\n</g>\n<!-- 4512930672* -->\n<g id=\"node6\" class=\"node\">\n<title>4512930672*</title>\n<ellipse fill=\"none\" stroke=\"black\" cx=\"225\" cy=\"-45.5\" rx=\"27\" ry=\"18\"/>\n<text text-anchor=\"middle\" x=\"225\" y=\"-41.8\" font-family=\"Times,serif\" font-size=\"14.00\">*</text>\n</g>\n<!-- 4512928560&#45;&gt;4512930672* -->\n<g id=\"edge6\" class=\"edge\">\n<title>4512928560&#45;&gt;4512930672*</title>\n<path fill=\"none\" stroke=\"black\" d=\"M161.72,-57.78C170.72,-56.01 179.54,-54.27 187.57,-52.68\"/>\n<polygon fill=\"black\" stroke=\"black\" points=\"188.09,-56.15 197.23,-50.78 186.74,-49.28 188.09,-56.15\"/>\n</g>\n<!-- 4512930672 -->\n<g id=\"node5\" class=\"node\">\n<title>4512930672</title>\n<polygon fill=\"none\" stroke=\"black\" points=\"288,-27.5 288,-63.5 450,-63.5 450,-27.5 288,-27.5\"/>\n<text text-anchor=\"middle\" x=\"328\" y=\"-41.8\" font-family=\"Times,serif\" font-size=\"14.00\">data 9.0000</text>\n<polyline fill=\"none\" stroke=\"black\" points=\"368,-27.5 368,-63.5\"/>\n<text text-anchor=\"middle\" x=\"409\" y=\"-41.8\" font-family=\"Times,serif\" font-size=\"14.00\">grad 0.0000</text>\n</g>\n<!-- 4512930672&#45;&gt;4512930576+ -->\n<g id=\"edge4\" class=\"edge\">\n<title>4512930672&#45;&gt;4512930576+</title>\n<path fill=\"none\" stroke=\"black\" d=\"M449.72,-60.66C458.72,-62.37 467.54,-64.05 475.57,-65.57\"/>\n<polygon fill=\"black\" stroke=\"black\" points=\"474.75,-68.98 485.23,-67.41 476.06,-62.1 474.75,-68.98\"/>\n</g>\n<!-- 4512930672*&#45;&gt;4512930672 -->\n<g id=\"edge2\" class=\"edge\">\n<title>4512930672*&#45;&gt;4512930672</title>\n<path fill=\"none\" stroke=\"black\" d=\"M252.38,-45.5C259.65,-45.5 267.98,-45.5 276.75,-45.5\"/>\n<polygon fill=\"black\" stroke=\"black\" points=\"276.55,-49 286.55,-45.5 276.55,-42 276.55,-49\"/>\n</g>\n<!-- 4512930768 -->\n<g id=\"node7\" class=\"node\">\n<title>4512930768</title>\n<polygon fill=\"none\" stroke=\"black\" points=\"0,-0.5 0,-36.5 162,-36.5 162,-0.5 0,-0.5\"/>\n<text text-anchor=\"middle\" x=\"40\" y=\"-14.8\" font-family=\"Times,serif\" font-size=\"14.00\">data 3.0000</text>\n<polyline fill=\"none\" stroke=\"black\" points=\"80,-0.5 80,-36.5\"/>\n<text text-anchor=\"middle\" x=\"121\" y=\"-14.8\" font-family=\"Times,serif\" font-size=\"14.00\">grad 0.0000</text>\n</g>\n<!-- 4512930768&#45;&gt;4512930672* -->\n<g id=\"edge5\" class=\"edge\">\n<title>4512930768&#45;&gt;4512930672*</title>\n<path fill=\"none\" stroke=\"black\" d=\"M161.72,-33.66C170.72,-35.37 179.54,-37.05 187.57,-38.57\"/>\n<polygon fill=\"black\" stroke=\"black\" points=\"186.75,-41.98 197.23,-40.41 188.06,-35.1 186.75,-41.98\"/>\n</g>\n</g>\n</svg>\n",
      "text/plain": [
       "<graphviz.graphs.Digraph at 0x10cfdde10>"
      ]
     },
     "execution_count": 35,
     "metadata": {},
     "output_type": "execute_result"
    }
   ],
   "source": [
    "draw_dot(z)"
   ]
  },
  {
   "cell_type": "code",
   "execution_count": 36,
   "id": "f4470285",
   "metadata": {},
   "outputs": [],
   "source": [
    "z.grad = 1.0"
   ]
  },
  {
   "cell_type": "code",
   "execution_count": 37,
   "id": "2f5be21a",
   "metadata": {},
   "outputs": [
    {
     "data": {
      "text/plain": [
       "<function src.engine.Value.__add__.<locals>._backward()>"
      ]
     },
     "execution_count": 37,
     "metadata": {},
     "output_type": "execute_result"
    }
   ],
   "source": [
    "z._backward"
   ]
  },
  {
   "cell_type": "code",
   "execution_count": 38,
   "id": "b440c7d9",
   "metadata": {},
   "outputs": [
    {
     "data": {
      "image/svg+xml": "<?xml version=\"1.0\" encoding=\"UTF-8\" standalone=\"no\"?>\n<!DOCTYPE svg PUBLIC \"-//W3C//DTD SVG 1.1//EN\"\n \"http://www.w3.org/Graphics/SVG/1.1/DTD/svg11.dtd\">\n<!-- Generated by graphviz version 7.0.5 (20221223.1930)\n -->\n<!-- Pages: 1 -->\n<svg width=\"753pt\" height=\"127pt\"\n viewBox=\"0.00 0.00 753.00 127.00\" xmlns=\"http://www.w3.org/2000/svg\" xmlns:xlink=\"http://www.w3.org/1999/xlink\">\n<g id=\"graph0\" class=\"graph\" transform=\"scale(1 1) rotate(0) translate(4 123)\">\n<polygon fill=\"white\" stroke=\"none\" points=\"-4,4 -4,-123 749,-123 749,4 -4,4\"/>\n<!-- 4512931056 -->\n<g id=\"node1\" class=\"node\">\n<title>4512931056</title>\n<polygon fill=\"none\" stroke=\"black\" points=\"288,-82.5 288,-118.5 450,-118.5 450,-82.5 288,-82.5\"/>\n<text text-anchor=\"middle\" x=\"328\" y=\"-96.8\" font-family=\"Times,serif\" font-size=\"14.00\">data 2.0000</text>\n<polyline fill=\"none\" stroke=\"black\" points=\"368,-82.5 368,-118.5\"/>\n<text text-anchor=\"middle\" x=\"409\" y=\"-96.8\" font-family=\"Times,serif\" font-size=\"14.00\">grad 0.0000</text>\n</g>\n<!-- 4512930576+ -->\n<g id=\"node3\" class=\"node\">\n<title>4512930576+</title>\n<ellipse fill=\"none\" stroke=\"black\" cx=\"513\" cy=\"-72.5\" rx=\"27\" ry=\"18\"/>\n<text text-anchor=\"middle\" x=\"513\" y=\"-68.8\" font-family=\"Times,serif\" font-size=\"14.00\">+</text>\n</g>\n<!-- 4512931056&#45;&gt;4512930576+ -->\n<g id=\"edge3\" class=\"edge\">\n<title>4512931056&#45;&gt;4512930576+</title>\n<path fill=\"none\" stroke=\"black\" d=\"M449.72,-84.78C458.72,-83.01 467.54,-81.27 475.57,-79.68\"/>\n<polygon fill=\"black\" stroke=\"black\" points=\"476.09,-83.15 485.23,-77.78 474.74,-76.28 476.09,-83.15\"/>\n</g>\n<!-- 4512930576 -->\n<g id=\"node2\" class=\"node\">\n<title>4512930576</title>\n<polygon fill=\"none\" stroke=\"black\" points=\"576,-54.5 576,-90.5 745,-90.5 745,-54.5 576,-54.5\"/>\n<text text-anchor=\"middle\" x=\"619.5\" y=\"-68.8\" font-family=\"Times,serif\" font-size=\"14.00\">data 11.0000</text>\n<polyline fill=\"none\" stroke=\"black\" points=\"663,-54.5 663,-90.5\"/>\n<text text-anchor=\"middle\" x=\"704\" y=\"-68.8\" font-family=\"Times,serif\" font-size=\"14.00\">grad 1.0000</text>\n</g>\n<!-- 4512930576+&#45;&gt;4512930576 -->\n<g id=\"edge1\" class=\"edge\">\n<title>4512930576+&#45;&gt;4512930576</title>\n<path fill=\"none\" stroke=\"black\" d=\"M540.35,-72.5C547.6,-72.5 555.92,-72.5 564.7,-72.5\"/>\n<polygon fill=\"black\" stroke=\"black\" points=\"564.53,-76 574.53,-72.5 564.53,-69 564.53,-76\"/>\n</g>\n<!-- 4512928560 -->\n<g id=\"node4\" class=\"node\">\n<title>4512928560</title>\n<polygon fill=\"none\" stroke=\"black\" points=\"0,-55.5 0,-91.5 162,-91.5 162,-55.5 0,-55.5\"/>\n<text text-anchor=\"middle\" x=\"40\" y=\"-69.8\" font-family=\"Times,serif\" font-size=\"14.00\">data 3.0000</text>\n<polyline fill=\"none\" stroke=\"black\" points=\"80,-55.5 80,-91.5\"/>\n<text text-anchor=\"middle\" x=\"121\" y=\"-69.8\" font-family=\"Times,serif\" font-size=\"14.00\">grad 0.0000</text>\n</g>\n<!-- 4512930672* -->\n<g id=\"node6\" class=\"node\">\n<title>4512930672*</title>\n<ellipse fill=\"none\" stroke=\"black\" cx=\"225\" cy=\"-45.5\" rx=\"27\" ry=\"18\"/>\n<text text-anchor=\"middle\" x=\"225\" y=\"-41.8\" font-family=\"Times,serif\" font-size=\"14.00\">*</text>\n</g>\n<!-- 4512928560&#45;&gt;4512930672* -->\n<g id=\"edge6\" class=\"edge\">\n<title>4512928560&#45;&gt;4512930672*</title>\n<path fill=\"none\" stroke=\"black\" d=\"M161.72,-57.78C170.72,-56.01 179.54,-54.27 187.57,-52.68\"/>\n<polygon fill=\"black\" stroke=\"black\" points=\"188.09,-56.15 197.23,-50.78 186.74,-49.28 188.09,-56.15\"/>\n</g>\n<!-- 4512930672 -->\n<g id=\"node5\" class=\"node\">\n<title>4512930672</title>\n<polygon fill=\"none\" stroke=\"black\" points=\"288,-27.5 288,-63.5 450,-63.5 450,-27.5 288,-27.5\"/>\n<text text-anchor=\"middle\" x=\"328\" y=\"-41.8\" font-family=\"Times,serif\" font-size=\"14.00\">data 9.0000</text>\n<polyline fill=\"none\" stroke=\"black\" points=\"368,-27.5 368,-63.5\"/>\n<text text-anchor=\"middle\" x=\"409\" y=\"-41.8\" font-family=\"Times,serif\" font-size=\"14.00\">grad 0.0000</text>\n</g>\n<!-- 4512930672&#45;&gt;4512930576+ -->\n<g id=\"edge4\" class=\"edge\">\n<title>4512930672&#45;&gt;4512930576+</title>\n<path fill=\"none\" stroke=\"black\" d=\"M449.72,-60.66C458.72,-62.37 467.54,-64.05 475.57,-65.57\"/>\n<polygon fill=\"black\" stroke=\"black\" points=\"474.75,-68.98 485.23,-67.41 476.06,-62.1 474.75,-68.98\"/>\n</g>\n<!-- 4512930672*&#45;&gt;4512930672 -->\n<g id=\"edge2\" class=\"edge\">\n<title>4512930672*&#45;&gt;4512930672</title>\n<path fill=\"none\" stroke=\"black\" d=\"M252.38,-45.5C259.65,-45.5 267.98,-45.5 276.75,-45.5\"/>\n<polygon fill=\"black\" stroke=\"black\" points=\"276.55,-49 286.55,-45.5 276.55,-42 276.55,-49\"/>\n</g>\n<!-- 4512930768 -->\n<g id=\"node7\" class=\"node\">\n<title>4512930768</title>\n<polygon fill=\"none\" stroke=\"black\" points=\"0,-0.5 0,-36.5 162,-36.5 162,-0.5 0,-0.5\"/>\n<text text-anchor=\"middle\" x=\"40\" y=\"-14.8\" font-family=\"Times,serif\" font-size=\"14.00\">data 3.0000</text>\n<polyline fill=\"none\" stroke=\"black\" points=\"80,-0.5 80,-36.5\"/>\n<text text-anchor=\"middle\" x=\"121\" y=\"-14.8\" font-family=\"Times,serif\" font-size=\"14.00\">grad 0.0000</text>\n</g>\n<!-- 4512930768&#45;&gt;4512930672* -->\n<g id=\"edge5\" class=\"edge\">\n<title>4512930768&#45;&gt;4512930672*</title>\n<path fill=\"none\" stroke=\"black\" d=\"M161.72,-33.66C170.72,-35.37 179.54,-37.05 187.57,-38.57\"/>\n<polygon fill=\"black\" stroke=\"black\" points=\"186.75,-41.98 197.23,-40.41 188.06,-35.1 186.75,-41.98\"/>\n</g>\n</g>\n</svg>\n",
      "text/plain": [
       "<graphviz.graphs.Digraph at 0x10cfddff0>"
      ]
     },
     "execution_count": 38,
     "metadata": {},
     "output_type": "execute_result"
    }
   ],
   "source": [
    "draw_dot(z)"
   ]
  },
  {
   "cell_type": "code",
   "execution_count": 39,
   "id": "3f0504fd",
   "metadata": {},
   "outputs": [],
   "source": [
    "z._backward()"
   ]
  },
  {
   "cell_type": "code",
   "execution_count": 40,
   "id": "24e2e8a7",
   "metadata": {},
   "outputs": [
    {
     "data": {
      "image/svg+xml": "<?xml version=\"1.0\" encoding=\"UTF-8\" standalone=\"no\"?>\n<!DOCTYPE svg PUBLIC \"-//W3C//DTD SVG 1.1//EN\"\n \"http://www.w3.org/Graphics/SVG/1.1/DTD/svg11.dtd\">\n<!-- Generated by graphviz version 7.0.5 (20221223.1930)\n -->\n<!-- Pages: 1 -->\n<svg width=\"753pt\" height=\"127pt\"\n viewBox=\"0.00 0.00 753.00 127.00\" xmlns=\"http://www.w3.org/2000/svg\" xmlns:xlink=\"http://www.w3.org/1999/xlink\">\n<g id=\"graph0\" class=\"graph\" transform=\"scale(1 1) rotate(0) translate(4 123)\">\n<polygon fill=\"white\" stroke=\"none\" points=\"-4,4 -4,-123 749,-123 749,4 -4,4\"/>\n<!-- 4512931056 -->\n<g id=\"node1\" class=\"node\">\n<title>4512931056</title>\n<polygon fill=\"none\" stroke=\"black\" points=\"288,-82.5 288,-118.5 450,-118.5 450,-82.5 288,-82.5\"/>\n<text text-anchor=\"middle\" x=\"328\" y=\"-96.8\" font-family=\"Times,serif\" font-size=\"14.00\">data 2.0000</text>\n<polyline fill=\"none\" stroke=\"black\" points=\"368,-82.5 368,-118.5\"/>\n<text text-anchor=\"middle\" x=\"409\" y=\"-96.8\" font-family=\"Times,serif\" font-size=\"14.00\">grad 1.0000</text>\n</g>\n<!-- 4512930576+ -->\n<g id=\"node3\" class=\"node\">\n<title>4512930576+</title>\n<ellipse fill=\"none\" stroke=\"black\" cx=\"513\" cy=\"-72.5\" rx=\"27\" ry=\"18\"/>\n<text text-anchor=\"middle\" x=\"513\" y=\"-68.8\" font-family=\"Times,serif\" font-size=\"14.00\">+</text>\n</g>\n<!-- 4512931056&#45;&gt;4512930576+ -->\n<g id=\"edge3\" class=\"edge\">\n<title>4512931056&#45;&gt;4512930576+</title>\n<path fill=\"none\" stroke=\"black\" d=\"M449.72,-84.78C458.72,-83.01 467.54,-81.27 475.57,-79.68\"/>\n<polygon fill=\"black\" stroke=\"black\" points=\"476.09,-83.15 485.23,-77.78 474.74,-76.28 476.09,-83.15\"/>\n</g>\n<!-- 4512930576 -->\n<g id=\"node2\" class=\"node\">\n<title>4512930576</title>\n<polygon fill=\"none\" stroke=\"black\" points=\"576,-54.5 576,-90.5 745,-90.5 745,-54.5 576,-54.5\"/>\n<text text-anchor=\"middle\" x=\"619.5\" y=\"-68.8\" font-family=\"Times,serif\" font-size=\"14.00\">data 11.0000</text>\n<polyline fill=\"none\" stroke=\"black\" points=\"663,-54.5 663,-90.5\"/>\n<text text-anchor=\"middle\" x=\"704\" y=\"-68.8\" font-family=\"Times,serif\" font-size=\"14.00\">grad 1.0000</text>\n</g>\n<!-- 4512930576+&#45;&gt;4512930576 -->\n<g id=\"edge1\" class=\"edge\">\n<title>4512930576+&#45;&gt;4512930576</title>\n<path fill=\"none\" stroke=\"black\" d=\"M540.35,-72.5C547.6,-72.5 555.92,-72.5 564.7,-72.5\"/>\n<polygon fill=\"black\" stroke=\"black\" points=\"564.53,-76 574.53,-72.5 564.53,-69 564.53,-76\"/>\n</g>\n<!-- 4512928560 -->\n<g id=\"node4\" class=\"node\">\n<title>4512928560</title>\n<polygon fill=\"none\" stroke=\"black\" points=\"0,-55.5 0,-91.5 162,-91.5 162,-55.5 0,-55.5\"/>\n<text text-anchor=\"middle\" x=\"40\" y=\"-69.8\" font-family=\"Times,serif\" font-size=\"14.00\">data 3.0000</text>\n<polyline fill=\"none\" stroke=\"black\" points=\"80,-55.5 80,-91.5\"/>\n<text text-anchor=\"middle\" x=\"121\" y=\"-69.8\" font-family=\"Times,serif\" font-size=\"14.00\">grad 0.0000</text>\n</g>\n<!-- 4512930672* -->\n<g id=\"node6\" class=\"node\">\n<title>4512930672*</title>\n<ellipse fill=\"none\" stroke=\"black\" cx=\"225\" cy=\"-45.5\" rx=\"27\" ry=\"18\"/>\n<text text-anchor=\"middle\" x=\"225\" y=\"-41.8\" font-family=\"Times,serif\" font-size=\"14.00\">*</text>\n</g>\n<!-- 4512928560&#45;&gt;4512930672* -->\n<g id=\"edge6\" class=\"edge\">\n<title>4512928560&#45;&gt;4512930672*</title>\n<path fill=\"none\" stroke=\"black\" d=\"M161.72,-57.78C170.72,-56.01 179.54,-54.27 187.57,-52.68\"/>\n<polygon fill=\"black\" stroke=\"black\" points=\"188.09,-56.15 197.23,-50.78 186.74,-49.28 188.09,-56.15\"/>\n</g>\n<!-- 4512930672 -->\n<g id=\"node5\" class=\"node\">\n<title>4512930672</title>\n<polygon fill=\"none\" stroke=\"black\" points=\"288,-27.5 288,-63.5 450,-63.5 450,-27.5 288,-27.5\"/>\n<text text-anchor=\"middle\" x=\"328\" y=\"-41.8\" font-family=\"Times,serif\" font-size=\"14.00\">data 9.0000</text>\n<polyline fill=\"none\" stroke=\"black\" points=\"368,-27.5 368,-63.5\"/>\n<text text-anchor=\"middle\" x=\"409\" y=\"-41.8\" font-family=\"Times,serif\" font-size=\"14.00\">grad 1.0000</text>\n</g>\n<!-- 4512930672&#45;&gt;4512930576+ -->\n<g id=\"edge4\" class=\"edge\">\n<title>4512930672&#45;&gt;4512930576+</title>\n<path fill=\"none\" stroke=\"black\" d=\"M449.72,-60.66C458.72,-62.37 467.54,-64.05 475.57,-65.57\"/>\n<polygon fill=\"black\" stroke=\"black\" points=\"474.75,-68.98 485.23,-67.41 476.06,-62.1 474.75,-68.98\"/>\n</g>\n<!-- 4512930672*&#45;&gt;4512930672 -->\n<g id=\"edge2\" class=\"edge\">\n<title>4512930672*&#45;&gt;4512930672</title>\n<path fill=\"none\" stroke=\"black\" d=\"M252.38,-45.5C259.65,-45.5 267.98,-45.5 276.75,-45.5\"/>\n<polygon fill=\"black\" stroke=\"black\" points=\"276.55,-49 286.55,-45.5 276.55,-42 276.55,-49\"/>\n</g>\n<!-- 4512930768 -->\n<g id=\"node7\" class=\"node\">\n<title>4512930768</title>\n<polygon fill=\"none\" stroke=\"black\" points=\"0,-0.5 0,-36.5 162,-36.5 162,-0.5 0,-0.5\"/>\n<text text-anchor=\"middle\" x=\"40\" y=\"-14.8\" font-family=\"Times,serif\" font-size=\"14.00\">data 3.0000</text>\n<polyline fill=\"none\" stroke=\"black\" points=\"80,-0.5 80,-36.5\"/>\n<text text-anchor=\"middle\" x=\"121\" y=\"-14.8\" font-family=\"Times,serif\" font-size=\"14.00\">grad 0.0000</text>\n</g>\n<!-- 4512930768&#45;&gt;4512930672* -->\n<g id=\"edge5\" class=\"edge\">\n<title>4512930768&#45;&gt;4512930672*</title>\n<path fill=\"none\" stroke=\"black\" d=\"M161.72,-33.66C170.72,-35.37 179.54,-37.05 187.57,-38.57\"/>\n<polygon fill=\"black\" stroke=\"black\" points=\"186.75,-41.98 197.23,-40.41 188.06,-35.1 186.75,-41.98\"/>\n</g>\n</g>\n</svg>\n",
      "text/plain": [
       "<graphviz.graphs.Digraph at 0x10cfde0e0>"
      ]
     },
     "execution_count": 40,
     "metadata": {},
     "output_type": "execute_result"
    }
   ],
   "source": [
    "draw_dot(z)"
   ]
  },
  {
   "cell_type": "code",
   "execution_count": 41,
   "id": "0497af96",
   "metadata": {},
   "outputs": [],
   "source": [
    "z = 3 * a"
   ]
  },
  {
   "cell_type": "code",
   "execution_count": 42,
   "id": "547da517",
   "metadata": {},
   "outputs": [
    {
     "data": {
      "image/svg+xml": "<?xml version=\"1.0\" encoding=\"UTF-8\" standalone=\"no\"?>\n<!DOCTYPE svg PUBLIC \"-//W3C//DTD SVG 1.1//EN\"\n \"http://www.w3.org/Graphics/SVG/1.1/DTD/svg11.dtd\">\n<!-- Generated by graphviz version 7.0.5 (20221223.1930)\n -->\n<!-- Pages: 1 -->\n<svg width=\"458pt\" height=\"100pt\"\n viewBox=\"0.00 0.00 458.00 100.00\" xmlns=\"http://www.w3.org/2000/svg\" xmlns:xlink=\"http://www.w3.org/1999/xlink\">\n<g id=\"graph0\" class=\"graph\" transform=\"scale(1 1) rotate(0) translate(4 96)\">\n<polygon fill=\"white\" stroke=\"none\" points=\"-4,4 -4,-96 454,-96 454,4 -4,4\"/>\n<!-- 4512932112 -->\n<g id=\"node1\" class=\"node\">\n<title>4512932112</title>\n<polygon fill=\"none\" stroke=\"black\" points=\"0,-55.5 0,-91.5 162,-91.5 162,-55.5 0,-55.5\"/>\n<text text-anchor=\"middle\" x=\"40\" y=\"-69.8\" font-family=\"Times,serif\" font-size=\"14.00\">data 3.0000</text>\n<polyline fill=\"none\" stroke=\"black\" points=\"80,-55.5 80,-91.5\"/>\n<text text-anchor=\"middle\" x=\"121\" y=\"-69.8\" font-family=\"Times,serif\" font-size=\"14.00\">grad 0.0000</text>\n</g>\n<!-- 4512931488* -->\n<g id=\"node3\" class=\"node\">\n<title>4512931488*</title>\n<ellipse fill=\"none\" stroke=\"black\" cx=\"225\" cy=\"-45.5\" rx=\"27\" ry=\"18\"/>\n<text text-anchor=\"middle\" x=\"225\" y=\"-41.8\" font-family=\"Times,serif\" font-size=\"14.00\">*</text>\n</g>\n<!-- 4512932112&#45;&gt;4512931488* -->\n<g id=\"edge2\" class=\"edge\">\n<title>4512932112&#45;&gt;4512931488*</title>\n<path fill=\"none\" stroke=\"black\" d=\"M161.72,-57.78C170.72,-56.01 179.54,-54.27 187.57,-52.68\"/>\n<polygon fill=\"black\" stroke=\"black\" points=\"188.09,-56.15 197.23,-50.78 186.74,-49.28 188.09,-56.15\"/>\n</g>\n<!-- 4512931488 -->\n<g id=\"node2\" class=\"node\">\n<title>4512931488</title>\n<polygon fill=\"none\" stroke=\"black\" points=\"288,-27.5 288,-63.5 450,-63.5 450,-27.5 288,-27.5\"/>\n<text text-anchor=\"middle\" x=\"328\" y=\"-41.8\" font-family=\"Times,serif\" font-size=\"14.00\">data 9.0000</text>\n<polyline fill=\"none\" stroke=\"black\" points=\"368,-27.5 368,-63.5\"/>\n<text text-anchor=\"middle\" x=\"409\" y=\"-41.8\" font-family=\"Times,serif\" font-size=\"14.00\">grad 0.0000</text>\n</g>\n<!-- 4512931488*&#45;&gt;4512931488 -->\n<g id=\"edge1\" class=\"edge\">\n<title>4512931488*&#45;&gt;4512931488</title>\n<path fill=\"none\" stroke=\"black\" d=\"M252.38,-45.5C259.65,-45.5 267.98,-45.5 276.75,-45.5\"/>\n<polygon fill=\"black\" stroke=\"black\" points=\"276.55,-49 286.55,-45.5 276.55,-42 276.55,-49\"/>\n</g>\n<!-- 4512928560 -->\n<g id=\"node4\" class=\"node\">\n<title>4512928560</title>\n<polygon fill=\"none\" stroke=\"black\" points=\"0,-0.5 0,-36.5 162,-36.5 162,-0.5 0,-0.5\"/>\n<text text-anchor=\"middle\" x=\"40\" y=\"-14.8\" font-family=\"Times,serif\" font-size=\"14.00\">data 3.0000</text>\n<polyline fill=\"none\" stroke=\"black\" points=\"80,-0.5 80,-36.5\"/>\n<text text-anchor=\"middle\" x=\"121\" y=\"-14.8\" font-family=\"Times,serif\" font-size=\"14.00\">grad 0.0000</text>\n</g>\n<!-- 4512928560&#45;&gt;4512931488* -->\n<g id=\"edge3\" class=\"edge\">\n<title>4512928560&#45;&gt;4512931488*</title>\n<path fill=\"none\" stroke=\"black\" d=\"M161.72,-33.66C170.72,-35.37 179.54,-37.05 187.57,-38.57\"/>\n<polygon fill=\"black\" stroke=\"black\" points=\"186.75,-41.98 197.23,-40.41 188.06,-35.1 186.75,-41.98\"/>\n</g>\n</g>\n</svg>\n",
      "text/plain": [
       "<graphviz.graphs.Digraph at 0x10cfde1d0>"
      ]
     },
     "execution_count": 42,
     "metadata": {},
     "output_type": "execute_result"
    }
   ],
   "source": [
    "draw_dot(z)"
   ]
  },
  {
   "cell_type": "code",
   "execution_count": 43,
   "id": "145221cc",
   "metadata": {},
   "outputs": [],
   "source": [
    "z.grad = 1"
   ]
  },
  {
   "cell_type": "code",
   "execution_count": 44,
   "id": "390594fd",
   "metadata": {},
   "outputs": [],
   "source": [
    "z._backward()"
   ]
  },
  {
   "cell_type": "code",
   "execution_count": 45,
   "id": "ad1ef37d",
   "metadata": {},
   "outputs": [
    {
     "data": {
      "image/svg+xml": "<?xml version=\"1.0\" encoding=\"UTF-8\" standalone=\"no\"?>\n<!DOCTYPE svg PUBLIC \"-//W3C//DTD SVG 1.1//EN\"\n \"http://www.w3.org/Graphics/SVG/1.1/DTD/svg11.dtd\">\n<!-- Generated by graphviz version 7.0.5 (20221223.1930)\n -->\n<!-- Pages: 1 -->\n<svg width=\"458pt\" height=\"100pt\"\n viewBox=\"0.00 0.00 458.00 100.00\" xmlns=\"http://www.w3.org/2000/svg\" xmlns:xlink=\"http://www.w3.org/1999/xlink\">\n<g id=\"graph0\" class=\"graph\" transform=\"scale(1 1) rotate(0) translate(4 96)\">\n<polygon fill=\"white\" stroke=\"none\" points=\"-4,4 -4,-96 454,-96 454,4 -4,4\"/>\n<!-- 4512932112 -->\n<g id=\"node1\" class=\"node\">\n<title>4512932112</title>\n<polygon fill=\"none\" stroke=\"black\" points=\"0,-55.5 0,-91.5 162,-91.5 162,-55.5 0,-55.5\"/>\n<text text-anchor=\"middle\" x=\"40\" y=\"-69.8\" font-family=\"Times,serif\" font-size=\"14.00\">data 3.0000</text>\n<polyline fill=\"none\" stroke=\"black\" points=\"80,-55.5 80,-91.5\"/>\n<text text-anchor=\"middle\" x=\"121\" y=\"-69.8\" font-family=\"Times,serif\" font-size=\"14.00\">grad 3.0000</text>\n</g>\n<!-- 4512931488* -->\n<g id=\"node3\" class=\"node\">\n<title>4512931488*</title>\n<ellipse fill=\"none\" stroke=\"black\" cx=\"225\" cy=\"-45.5\" rx=\"27\" ry=\"18\"/>\n<text text-anchor=\"middle\" x=\"225\" y=\"-41.8\" font-family=\"Times,serif\" font-size=\"14.00\">*</text>\n</g>\n<!-- 4512932112&#45;&gt;4512931488* -->\n<g id=\"edge2\" class=\"edge\">\n<title>4512932112&#45;&gt;4512931488*</title>\n<path fill=\"none\" stroke=\"black\" d=\"M161.72,-57.78C170.72,-56.01 179.54,-54.27 187.57,-52.68\"/>\n<polygon fill=\"black\" stroke=\"black\" points=\"188.09,-56.15 197.23,-50.78 186.74,-49.28 188.09,-56.15\"/>\n</g>\n<!-- 4512931488 -->\n<g id=\"node2\" class=\"node\">\n<title>4512931488</title>\n<polygon fill=\"none\" stroke=\"black\" points=\"288,-27.5 288,-63.5 450,-63.5 450,-27.5 288,-27.5\"/>\n<text text-anchor=\"middle\" x=\"328\" y=\"-41.8\" font-family=\"Times,serif\" font-size=\"14.00\">data 9.0000</text>\n<polyline fill=\"none\" stroke=\"black\" points=\"368,-27.5 368,-63.5\"/>\n<text text-anchor=\"middle\" x=\"409\" y=\"-41.8\" font-family=\"Times,serif\" font-size=\"14.00\">grad 1.0000</text>\n</g>\n<!-- 4512931488*&#45;&gt;4512931488 -->\n<g id=\"edge1\" class=\"edge\">\n<title>4512931488*&#45;&gt;4512931488</title>\n<path fill=\"none\" stroke=\"black\" d=\"M252.38,-45.5C259.65,-45.5 267.98,-45.5 276.75,-45.5\"/>\n<polygon fill=\"black\" stroke=\"black\" points=\"276.55,-49 286.55,-45.5 276.55,-42 276.55,-49\"/>\n</g>\n<!-- 4512928560 -->\n<g id=\"node4\" class=\"node\">\n<title>4512928560</title>\n<polygon fill=\"none\" stroke=\"black\" points=\"0,-0.5 0,-36.5 162,-36.5 162,-0.5 0,-0.5\"/>\n<text text-anchor=\"middle\" x=\"40\" y=\"-14.8\" font-family=\"Times,serif\" font-size=\"14.00\">data 3.0000</text>\n<polyline fill=\"none\" stroke=\"black\" points=\"80,-0.5 80,-36.5\"/>\n<text text-anchor=\"middle\" x=\"121\" y=\"-14.8\" font-family=\"Times,serif\" font-size=\"14.00\">grad 3.0000</text>\n</g>\n<!-- 4512928560&#45;&gt;4512931488* -->\n<g id=\"edge3\" class=\"edge\">\n<title>4512928560&#45;&gt;4512931488*</title>\n<path fill=\"none\" stroke=\"black\" d=\"M161.72,-33.66C170.72,-35.37 179.54,-37.05 187.57,-38.57\"/>\n<polygon fill=\"black\" stroke=\"black\" points=\"186.75,-41.98 197.23,-40.41 188.06,-35.1 186.75,-41.98\"/>\n</g>\n</g>\n</svg>\n",
      "text/plain": [
       "<graphviz.graphs.Digraph at 0x10cfde380>"
      ]
     },
     "execution_count": 45,
     "metadata": {},
     "output_type": "execute_result"
    }
   ],
   "source": [
    "draw_dot(z)"
   ]
  },
  {
   "cell_type": "code",
   "execution_count": 46,
   "id": "2885dcf6",
   "metadata": {},
   "outputs": [],
   "source": [
    "z.backward()"
   ]
  },
  {
   "cell_type": "code",
   "execution_count": 47,
   "id": "46a2c0c9",
   "metadata": {},
   "outputs": [
    {
     "data": {
      "image/svg+xml": "<?xml version=\"1.0\" encoding=\"UTF-8\" standalone=\"no\"?>\n<!DOCTYPE svg PUBLIC \"-//W3C//DTD SVG 1.1//EN\"\n \"http://www.w3.org/Graphics/SVG/1.1/DTD/svg11.dtd\">\n<!-- Generated by graphviz version 7.0.5 (20221223.1930)\n -->\n<!-- Pages: 1 -->\n<svg width=\"458pt\" height=\"100pt\"\n viewBox=\"0.00 0.00 458.00 100.00\" xmlns=\"http://www.w3.org/2000/svg\" xmlns:xlink=\"http://www.w3.org/1999/xlink\">\n<g id=\"graph0\" class=\"graph\" transform=\"scale(1 1) rotate(0) translate(4 96)\">\n<polygon fill=\"white\" stroke=\"none\" points=\"-4,4 -4,-96 454,-96 454,4 -4,4\"/>\n<!-- 4512932112 -->\n<g id=\"node1\" class=\"node\">\n<title>4512932112</title>\n<polygon fill=\"none\" stroke=\"black\" points=\"0,-55.5 0,-91.5 162,-91.5 162,-55.5 0,-55.5\"/>\n<text text-anchor=\"middle\" x=\"40\" y=\"-69.8\" font-family=\"Times,serif\" font-size=\"14.00\">data 3.0000</text>\n<polyline fill=\"none\" stroke=\"black\" points=\"80,-55.5 80,-91.5\"/>\n<text text-anchor=\"middle\" x=\"121\" y=\"-69.8\" font-family=\"Times,serif\" font-size=\"14.00\">grad 6.0000</text>\n</g>\n<!-- 4512931488* -->\n<g id=\"node3\" class=\"node\">\n<title>4512931488*</title>\n<ellipse fill=\"none\" stroke=\"black\" cx=\"225\" cy=\"-45.5\" rx=\"27\" ry=\"18\"/>\n<text text-anchor=\"middle\" x=\"225\" y=\"-41.8\" font-family=\"Times,serif\" font-size=\"14.00\">*</text>\n</g>\n<!-- 4512932112&#45;&gt;4512931488* -->\n<g id=\"edge2\" class=\"edge\">\n<title>4512932112&#45;&gt;4512931488*</title>\n<path fill=\"none\" stroke=\"black\" d=\"M161.72,-57.78C170.72,-56.01 179.54,-54.27 187.57,-52.68\"/>\n<polygon fill=\"black\" stroke=\"black\" points=\"188.09,-56.15 197.23,-50.78 186.74,-49.28 188.09,-56.15\"/>\n</g>\n<!-- 4512931488 -->\n<g id=\"node2\" class=\"node\">\n<title>4512931488</title>\n<polygon fill=\"none\" stroke=\"black\" points=\"288,-27.5 288,-63.5 450,-63.5 450,-27.5 288,-27.5\"/>\n<text text-anchor=\"middle\" x=\"328\" y=\"-41.8\" font-family=\"Times,serif\" font-size=\"14.00\">data 9.0000</text>\n<polyline fill=\"none\" stroke=\"black\" points=\"368,-27.5 368,-63.5\"/>\n<text text-anchor=\"middle\" x=\"409\" y=\"-41.8\" font-family=\"Times,serif\" font-size=\"14.00\">grad 1.0000</text>\n</g>\n<!-- 4512931488*&#45;&gt;4512931488 -->\n<g id=\"edge1\" class=\"edge\">\n<title>4512931488*&#45;&gt;4512931488</title>\n<path fill=\"none\" stroke=\"black\" d=\"M252.38,-45.5C259.65,-45.5 267.98,-45.5 276.75,-45.5\"/>\n<polygon fill=\"black\" stroke=\"black\" points=\"276.55,-49 286.55,-45.5 276.55,-42 276.55,-49\"/>\n</g>\n<!-- 4512928560 -->\n<g id=\"node4\" class=\"node\">\n<title>4512928560</title>\n<polygon fill=\"none\" stroke=\"black\" points=\"0,-0.5 0,-36.5 162,-36.5 162,-0.5 0,-0.5\"/>\n<text text-anchor=\"middle\" x=\"40\" y=\"-14.8\" font-family=\"Times,serif\" font-size=\"14.00\">data 3.0000</text>\n<polyline fill=\"none\" stroke=\"black\" points=\"80,-0.5 80,-36.5\"/>\n<text text-anchor=\"middle\" x=\"121\" y=\"-14.8\" font-family=\"Times,serif\" font-size=\"14.00\">grad 6.0000</text>\n</g>\n<!-- 4512928560&#45;&gt;4512931488* -->\n<g id=\"edge3\" class=\"edge\">\n<title>4512928560&#45;&gt;4512931488*</title>\n<path fill=\"none\" stroke=\"black\" d=\"M161.72,-33.66C170.72,-35.37 179.54,-37.05 187.57,-38.57\"/>\n<polygon fill=\"black\" stroke=\"black\" points=\"186.75,-41.98 197.23,-40.41 188.06,-35.1 186.75,-41.98\"/>\n</g>\n</g>\n</svg>\n",
      "text/plain": [
       "<graphviz.graphs.Digraph at 0x10cfde530>"
      ]
     },
     "execution_count": 47,
     "metadata": {},
     "output_type": "execute_result"
    }
   ],
   "source": [
    "draw_dot(z)"
   ]
  },
  {
   "cell_type": "code",
   "execution_count": 48,
   "id": "4f5bd68f",
   "metadata": {},
   "outputs": [],
   "source": [
    "zz = z.relu()"
   ]
  },
  {
   "cell_type": "code",
   "execution_count": 49,
   "id": "de83bf5d",
   "metadata": {},
   "outputs": [],
   "source": [
    "kk = max(4, 0)"
   ]
  },
  {
   "cell_type": "code",
   "execution_count": 50,
   "id": "fb93325a",
   "metadata": {},
   "outputs": [
    {
     "data": {
      "text/plain": [
       "4"
      ]
     },
     "execution_count": 50,
     "metadata": {},
     "output_type": "execute_result"
    }
   ],
   "source": [
    "kk"
   ]
  },
  {
   "cell_type": "code",
   "execution_count": 51,
   "id": "a2b90336",
   "metadata": {},
   "outputs": [
    {
     "data": {
      "image/svg+xml": "<?xml version=\"1.0\" encoding=\"UTF-8\" standalone=\"no\"?>\n<!DOCTYPE svg PUBLIC \"-//W3C//DTD SVG 1.1//EN\"\n \"http://www.w3.org/Graphics/SVG/1.1/DTD/svg11.dtd\">\n<!-- Generated by graphviz version 7.0.5 (20221223.1930)\n -->\n<!-- Pages: 1 -->\n<svg width=\"757pt\" height=\"100pt\"\n viewBox=\"0.00 0.00 756.99 100.00\" xmlns=\"http://www.w3.org/2000/svg\" xmlns:xlink=\"http://www.w3.org/1999/xlink\">\n<g id=\"graph0\" class=\"graph\" transform=\"scale(1 1) rotate(0) translate(4 96)\">\n<polygon fill=\"white\" stroke=\"none\" points=\"-4,4 -4,-96 752.99,-96 752.99,4 -4,4\"/>\n<!-- 4512932112 -->\n<g id=\"node1\" class=\"node\">\n<title>4512932112</title>\n<polygon fill=\"none\" stroke=\"black\" points=\"0,-55.5 0,-91.5 162,-91.5 162,-55.5 0,-55.5\"/>\n<text text-anchor=\"middle\" x=\"40\" y=\"-69.8\" font-family=\"Times,serif\" font-size=\"14.00\">data 3.0000</text>\n<polyline fill=\"none\" stroke=\"black\" points=\"80,-55.5 80,-91.5\"/>\n<text text-anchor=\"middle\" x=\"121\" y=\"-69.8\" font-family=\"Times,serif\" font-size=\"14.00\">grad 6.0000</text>\n</g>\n<!-- 4512931488* -->\n<g id=\"node3\" class=\"node\">\n<title>4512931488*</title>\n<ellipse fill=\"none\" stroke=\"black\" cx=\"225\" cy=\"-45.5\" rx=\"27\" ry=\"18\"/>\n<text text-anchor=\"middle\" x=\"225\" y=\"-41.8\" font-family=\"Times,serif\" font-size=\"14.00\">*</text>\n</g>\n<!-- 4512932112&#45;&gt;4512931488* -->\n<g id=\"edge4\" class=\"edge\">\n<title>4512932112&#45;&gt;4512931488*</title>\n<path fill=\"none\" stroke=\"black\" d=\"M161.72,-57.78C170.72,-56.01 179.54,-54.27 187.57,-52.68\"/>\n<polygon fill=\"black\" stroke=\"black\" points=\"188.09,-56.15 197.23,-50.78 186.74,-49.28 188.09,-56.15\"/>\n</g>\n<!-- 4512931488 -->\n<g id=\"node2\" class=\"node\">\n<title>4512931488</title>\n<polygon fill=\"none\" stroke=\"black\" points=\"288,-27.5 288,-63.5 450,-63.5 450,-27.5 288,-27.5\"/>\n<text text-anchor=\"middle\" x=\"328\" y=\"-41.8\" font-family=\"Times,serif\" font-size=\"14.00\">data 9.0000</text>\n<polyline fill=\"none\" stroke=\"black\" points=\"368,-27.5 368,-63.5\"/>\n<text text-anchor=\"middle\" x=\"409\" y=\"-41.8\" font-family=\"Times,serif\" font-size=\"14.00\">grad 1.0000</text>\n</g>\n<!-- 4512932016ReLU -->\n<g id=\"node5\" class=\"node\">\n<title>4512932016ReLU</title>\n<ellipse fill=\"none\" stroke=\"black\" cx=\"518.5\" cy=\"-45.5\" rx=\"32.49\" ry=\"18\"/>\n<text text-anchor=\"middle\" x=\"518.5\" y=\"-41.8\" font-family=\"Times,serif\" font-size=\"14.00\">ReLU</text>\n</g>\n<!-- 4512931488&#45;&gt;4512932016ReLU -->\n<g id=\"edge3\" class=\"edge\">\n<title>4512931488&#45;&gt;4512932016ReLU</title>\n<path fill=\"none\" stroke=\"black\" d=\"M449.79,-45.5C458.27,-45.5 466.63,-45.5 474.44,-45.5\"/>\n<polygon fill=\"black\" stroke=\"black\" points=\"474.29,-49 484.29,-45.5 474.29,-42 474.29,-49\"/>\n</g>\n<!-- 4512931488*&#45;&gt;4512931488 -->\n<g id=\"edge1\" class=\"edge\">\n<title>4512931488*&#45;&gt;4512931488</title>\n<path fill=\"none\" stroke=\"black\" d=\"M252.38,-45.5C259.65,-45.5 267.98,-45.5 276.75,-45.5\"/>\n<polygon fill=\"black\" stroke=\"black\" points=\"276.55,-49 286.55,-45.5 276.55,-42 276.55,-49\"/>\n</g>\n<!-- 4512932016 -->\n<g id=\"node4\" class=\"node\">\n<title>4512932016</title>\n<polygon fill=\"none\" stroke=\"black\" points=\"586.99,-27.5 586.99,-63.5 748.99,-63.5 748.99,-27.5 586.99,-27.5\"/>\n<text text-anchor=\"middle\" x=\"626.99\" y=\"-41.8\" font-family=\"Times,serif\" font-size=\"14.00\">data 9.0000</text>\n<polyline fill=\"none\" stroke=\"black\" points=\"666.99,-27.5 666.99,-63.5\"/>\n<text text-anchor=\"middle\" x=\"707.99\" y=\"-41.8\" font-family=\"Times,serif\" font-size=\"14.00\">grad 0.0000</text>\n</g>\n<!-- 4512932016ReLU&#45;&gt;4512932016 -->\n<g id=\"edge2\" class=\"edge\">\n<title>4512932016ReLU&#45;&gt;4512932016</title>\n<path fill=\"none\" stroke=\"black\" d=\"M551.14,-45.5C558.7,-45.5 567.14,-45.5 575.94,-45.5\"/>\n<polygon fill=\"black\" stroke=\"black\" points=\"575.71,-49 585.71,-45.5 575.71,-42 575.71,-49\"/>\n</g>\n<!-- 4512928560 -->\n<g id=\"node6\" class=\"node\">\n<title>4512928560</title>\n<polygon fill=\"none\" stroke=\"black\" points=\"0,-0.5 0,-36.5 162,-36.5 162,-0.5 0,-0.5\"/>\n<text text-anchor=\"middle\" x=\"40\" y=\"-14.8\" font-family=\"Times,serif\" font-size=\"14.00\">data 3.0000</text>\n<polyline fill=\"none\" stroke=\"black\" points=\"80,-0.5 80,-36.5\"/>\n<text text-anchor=\"middle\" x=\"121\" y=\"-14.8\" font-family=\"Times,serif\" font-size=\"14.00\">grad 6.0000</text>\n</g>\n<!-- 4512928560&#45;&gt;4512931488* -->\n<g id=\"edge5\" class=\"edge\">\n<title>4512928560&#45;&gt;4512931488*</title>\n<path fill=\"none\" stroke=\"black\" d=\"M161.72,-33.66C170.72,-35.37 179.54,-37.05 187.57,-38.57\"/>\n<polygon fill=\"black\" stroke=\"black\" points=\"186.75,-41.98 197.23,-40.41 188.06,-35.1 186.75,-41.98\"/>\n</g>\n</g>\n</svg>\n",
      "text/plain": [
       "<graphviz.graphs.Digraph at 0x10cfde290>"
      ]
     },
     "execution_count": 51,
     "metadata": {},
     "output_type": "execute_result"
    }
   ],
   "source": [
    "draw_dot(zz)"
   ]
  },
  {
   "cell_type": "code",
   "execution_count": 52,
   "id": "e83bb579",
   "metadata": {},
   "outputs": [
    {
     "data": {
      "text/plain": [
       "Value(data=9.0, grad=0.0)"
      ]
     },
     "execution_count": 52,
     "metadata": {},
     "output_type": "execute_result"
    }
   ],
   "source": [
    "zz"
   ]
  },
  {
   "cell_type": "code",
   "execution_count": 53,
   "id": "810c1194",
   "metadata": {},
   "outputs": [
    {
     "data": {
      "text/plain": [
       "src.engine.Value"
      ]
     },
     "execution_count": 53,
     "metadata": {},
     "output_type": "execute_result"
    }
   ],
   "source": [
    "type(zz)"
   ]
  },
  {
   "cell_type": "code",
   "execution_count": 54,
   "id": "fc6fb85e",
   "metadata": {},
   "outputs": [
    {
     "data": {
      "text/plain": [
       "Value(data=9.0, grad=1.0)"
      ]
     },
     "execution_count": 54,
     "metadata": {},
     "output_type": "execute_result"
    }
   ],
   "source": [
    "z"
   ]
  },
  {
   "cell_type": "code",
   "execution_count": 55,
   "id": "62591adf",
   "metadata": {},
   "outputs": [
    {
     "data": {
      "text/plain": [
       "Value(data=9.0, grad=0.0)"
      ]
     },
     "execution_count": 55,
     "metadata": {},
     "output_type": "execute_result"
    }
   ],
   "source": [
    "z.relu()"
   ]
  },
  {
   "cell_type": "code",
   "execution_count": 56,
   "id": "ebdb23b4",
   "metadata": {},
   "outputs": [],
   "source": [
    "zz.grad = 1.0"
   ]
  },
  {
   "cell_type": "code",
   "execution_count": 57,
   "id": "8c62136c",
   "metadata": {},
   "outputs": [],
   "source": [
    "zz.backward()"
   ]
  },
  {
   "cell_type": "code",
   "execution_count": 58,
   "id": "89b5f163",
   "metadata": {},
   "outputs": [
    {
     "data": {
      "image/svg+xml": "<?xml version=\"1.0\" encoding=\"UTF-8\" standalone=\"no\"?>\n<!DOCTYPE svg PUBLIC \"-//W3C//DTD SVG 1.1//EN\"\n \"http://www.w3.org/Graphics/SVG/1.1/DTD/svg11.dtd\">\n<!-- Generated by graphviz version 7.0.5 (20221223.1930)\n -->\n<!-- Pages: 1 -->\n<svg width=\"764pt\" height=\"100pt\"\n viewBox=\"0.00 0.00 763.99 100.00\" xmlns=\"http://www.w3.org/2000/svg\" xmlns:xlink=\"http://www.w3.org/1999/xlink\">\n<g id=\"graph0\" class=\"graph\" transform=\"scale(1 1) rotate(0) translate(4 96)\">\n<polygon fill=\"white\" stroke=\"none\" points=\"-4,4 -4,-96 759.99,-96 759.99,4 -4,4\"/>\n<!-- 4512932112 -->\n<g id=\"node1\" class=\"node\">\n<title>4512932112</title>\n<polygon fill=\"none\" stroke=\"black\" points=\"0,-55.5 0,-91.5 169,-91.5 169,-55.5 0,-55.5\"/>\n<text text-anchor=\"middle\" x=\"40\" y=\"-69.8\" font-family=\"Times,serif\" font-size=\"14.00\">data 3.0000</text>\n<polyline fill=\"none\" stroke=\"black\" points=\"80,-55.5 80,-91.5\"/>\n<text text-anchor=\"middle\" x=\"124.5\" y=\"-69.8\" font-family=\"Times,serif\" font-size=\"14.00\">grad 12.0000</text>\n</g>\n<!-- 4512931488* -->\n<g id=\"node3\" class=\"node\">\n<title>4512931488*</title>\n<ellipse fill=\"none\" stroke=\"black\" cx=\"232\" cy=\"-45.5\" rx=\"27\" ry=\"18\"/>\n<text text-anchor=\"middle\" x=\"232\" y=\"-41.8\" font-family=\"Times,serif\" font-size=\"14.00\">*</text>\n</g>\n<!-- 4512932112&#45;&gt;4512931488* -->\n<g id=\"edge4\" class=\"edge\">\n<title>4512932112&#45;&gt;4512931488*</title>\n<path fill=\"none\" stroke=\"black\" d=\"M168.87,-57.46C177.83,-55.73 186.57,-54.05 194.53,-52.52\"/>\n<polygon fill=\"black\" stroke=\"black\" points=\"194.93,-56.01 204.09,-50.68 193.6,-49.13 194.93,-56.01\"/>\n</g>\n<!-- 4512931488 -->\n<g id=\"node2\" class=\"node\">\n<title>4512931488</title>\n<polygon fill=\"none\" stroke=\"black\" points=\"295,-27.5 295,-63.5 457,-63.5 457,-27.5 295,-27.5\"/>\n<text text-anchor=\"middle\" x=\"335\" y=\"-41.8\" font-family=\"Times,serif\" font-size=\"14.00\">data 9.0000</text>\n<polyline fill=\"none\" stroke=\"black\" points=\"375,-27.5 375,-63.5\"/>\n<text text-anchor=\"middle\" x=\"416\" y=\"-41.8\" font-family=\"Times,serif\" font-size=\"14.00\">grad 2.0000</text>\n</g>\n<!-- 4512932016ReLU -->\n<g id=\"node5\" class=\"node\">\n<title>4512932016ReLU</title>\n<ellipse fill=\"none\" stroke=\"black\" cx=\"525.5\" cy=\"-45.5\" rx=\"32.49\" ry=\"18\"/>\n<text text-anchor=\"middle\" x=\"525.5\" y=\"-41.8\" font-family=\"Times,serif\" font-size=\"14.00\">ReLU</text>\n</g>\n<!-- 4512931488&#45;&gt;4512932016ReLU -->\n<g id=\"edge3\" class=\"edge\">\n<title>4512931488&#45;&gt;4512932016ReLU</title>\n<path fill=\"none\" stroke=\"black\" d=\"M456.79,-45.5C465.27,-45.5 473.63,-45.5 481.44,-45.5\"/>\n<polygon fill=\"black\" stroke=\"black\" points=\"481.29,-49 491.29,-45.5 481.29,-42 481.29,-49\"/>\n</g>\n<!-- 4512931488*&#45;&gt;4512931488 -->\n<g id=\"edge1\" class=\"edge\">\n<title>4512931488*&#45;&gt;4512931488</title>\n<path fill=\"none\" stroke=\"black\" d=\"M259.38,-45.5C266.65,-45.5 274.98,-45.5 283.75,-45.5\"/>\n<polygon fill=\"black\" stroke=\"black\" points=\"283.55,-49 293.55,-45.5 283.55,-42 283.55,-49\"/>\n</g>\n<!-- 4512932016 -->\n<g id=\"node4\" class=\"node\">\n<title>4512932016</title>\n<polygon fill=\"none\" stroke=\"black\" points=\"593.99,-27.5 593.99,-63.5 755.99,-63.5 755.99,-27.5 593.99,-27.5\"/>\n<text text-anchor=\"middle\" x=\"633.99\" y=\"-41.8\" font-family=\"Times,serif\" font-size=\"14.00\">data 9.0000</text>\n<polyline fill=\"none\" stroke=\"black\" points=\"673.99,-27.5 673.99,-63.5\"/>\n<text text-anchor=\"middle\" x=\"714.99\" y=\"-41.8\" font-family=\"Times,serif\" font-size=\"14.00\">grad 1.0000</text>\n</g>\n<!-- 4512932016ReLU&#45;&gt;4512932016 -->\n<g id=\"edge2\" class=\"edge\">\n<title>4512932016ReLU&#45;&gt;4512932016</title>\n<path fill=\"none\" stroke=\"black\" d=\"M558.14,-45.5C565.7,-45.5 574.14,-45.5 582.94,-45.5\"/>\n<polygon fill=\"black\" stroke=\"black\" points=\"582.71,-49 592.71,-45.5 582.71,-42 582.71,-49\"/>\n</g>\n<!-- 4512928560 -->\n<g id=\"node6\" class=\"node\">\n<title>4512928560</title>\n<polygon fill=\"none\" stroke=\"black\" points=\"0,-0.5 0,-36.5 169,-36.5 169,-0.5 0,-0.5\"/>\n<text text-anchor=\"middle\" x=\"40\" y=\"-14.8\" font-family=\"Times,serif\" font-size=\"14.00\">data 3.0000</text>\n<polyline fill=\"none\" stroke=\"black\" points=\"80,-0.5 80,-36.5\"/>\n<text text-anchor=\"middle\" x=\"124.5\" y=\"-14.8\" font-family=\"Times,serif\" font-size=\"14.00\">grad 12.0000</text>\n</g>\n<!-- 4512928560&#45;&gt;4512931488* -->\n<g id=\"edge5\" class=\"edge\">\n<title>4512928560&#45;&gt;4512931488*</title>\n<path fill=\"none\" stroke=\"black\" d=\"M168.87,-33.97C177.73,-35.61 186.37,-37.22 194.25,-38.68\"/>\n<polygon fill=\"black\" stroke=\"black\" points=\"193.61,-42.12 204.08,-40.51 194.89,-35.24 193.61,-42.12\"/>\n</g>\n</g>\n</svg>\n",
      "text/plain": [
       "<graphviz.graphs.Digraph at 0x10cfde4a0>"
      ]
     },
     "execution_count": 58,
     "metadata": {},
     "output_type": "execute_result"
    }
   ],
   "source": [
    "draw_dot(zz)"
   ]
  },
  {
   "cell_type": "code",
   "execution_count": 59,
   "id": "57f0d561",
   "metadata": {},
   "outputs": [],
   "source": [
    "aa = Value(-3)"
   ]
  },
  {
   "cell_type": "code",
   "execution_count": 60,
   "id": "f72fbca9",
   "metadata": {},
   "outputs": [
    {
     "data": {
      "text/plain": [
       "Value(data=-3, grad=0.0)"
      ]
     },
     "execution_count": 60,
     "metadata": {},
     "output_type": "execute_result"
    }
   ],
   "source": [
    "aa"
   ]
  },
  {
   "cell_type": "code",
   "execution_count": 61,
   "id": "c8b0841a",
   "metadata": {},
   "outputs": [],
   "source": [
    "bb = aa.relu()"
   ]
  },
  {
   "cell_type": "code",
   "execution_count": 62,
   "id": "0500937c",
   "metadata": {},
   "outputs": [
    {
     "data": {
      "image/svg+xml": "<?xml version=\"1.0\" encoding=\"UTF-8\" standalone=\"no\"?>\n<!DOCTYPE svg PUBLIC \"-//W3C//DTD SVG 1.1//EN\"\n \"http://www.w3.org/Graphics/SVG/1.1/DTD/svg11.dtd\">\n<!-- Generated by graphviz version 7.0.5 (20221223.1930)\n -->\n<!-- Pages: 1 -->\n<svg width=\"474pt\" height=\"45pt\"\n viewBox=\"0.00 0.00 473.99 45.00\" xmlns=\"http://www.w3.org/2000/svg\" xmlns:xlink=\"http://www.w3.org/1999/xlink\">\n<g id=\"graph0\" class=\"graph\" transform=\"scale(1 1) rotate(0) translate(4 41)\">\n<polygon fill=\"white\" stroke=\"none\" points=\"-4,4 -4,-41 469.99,-41 469.99,4 -4,4\"/>\n<!-- 4512933072 -->\n<g id=\"node1\" class=\"node\">\n<title>4512933072</title>\n<polygon fill=\"none\" stroke=\"black\" points=\"303.99,-0.5 303.99,-36.5 465.99,-36.5 465.99,-0.5 303.99,-0.5\"/>\n<text text-anchor=\"middle\" x=\"343.99\" y=\"-14.8\" font-family=\"Times,serif\" font-size=\"14.00\">data 0.0000</text>\n<polyline fill=\"none\" stroke=\"black\" points=\"383.99,-0.5 383.99,-36.5\"/>\n<text text-anchor=\"middle\" x=\"424.99\" y=\"-14.8\" font-family=\"Times,serif\" font-size=\"14.00\">grad 0.0000</text>\n</g>\n<!-- 4512933072ReLU -->\n<g id=\"node2\" class=\"node\">\n<title>4512933072ReLU</title>\n<ellipse fill=\"none\" stroke=\"black\" cx=\"235.5\" cy=\"-18.5\" rx=\"32.49\" ry=\"18\"/>\n<text text-anchor=\"middle\" x=\"235.5\" y=\"-14.8\" font-family=\"Times,serif\" font-size=\"14.00\">ReLU</text>\n</g>\n<!-- 4512933072ReLU&#45;&gt;4512933072 -->\n<g id=\"edge1\" class=\"edge\">\n<title>4512933072ReLU&#45;&gt;4512933072</title>\n<path fill=\"none\" stroke=\"black\" d=\"M268.14,-18.5C275.7,-18.5 284.14,-18.5 292.94,-18.5\"/>\n<polygon fill=\"black\" stroke=\"black\" points=\"292.71,-22 302.71,-18.5 292.71,-15 292.71,-22\"/>\n</g>\n<!-- 4512931440 -->\n<g id=\"node3\" class=\"node\">\n<title>4512931440</title>\n<polygon fill=\"none\" stroke=\"black\" points=\"0,-0.5 0,-36.5 167,-36.5 167,-0.5 0,-0.5\"/>\n<text text-anchor=\"middle\" x=\"42.5\" y=\"-14.8\" font-family=\"Times,serif\" font-size=\"14.00\">data &#45;3.0000</text>\n<polyline fill=\"none\" stroke=\"black\" points=\"85,-0.5 85,-36.5\"/>\n<text text-anchor=\"middle\" x=\"126\" y=\"-14.8\" font-family=\"Times,serif\" font-size=\"14.00\">grad 0.0000</text>\n</g>\n<!-- 4512931440&#45;&gt;4512933072ReLU -->\n<g id=\"edge2\" class=\"edge\">\n<title>4512931440&#45;&gt;4512933072ReLU</title>\n<path fill=\"none\" stroke=\"black\" d=\"M166.96,-18.5C175.37,-18.5 183.65,-18.5 191.38,-18.5\"/>\n<polygon fill=\"black\" stroke=\"black\" points=\"191.11,-22 201.11,-18.5 191.11,-15 191.11,-22\"/>\n</g>\n</g>\n</svg>\n",
      "text/plain": [
       "<graphviz.graphs.Digraph at 0x10cfdce80>"
      ]
     },
     "execution_count": 62,
     "metadata": {},
     "output_type": "execute_result"
    }
   ],
   "source": [
    "draw_dot(bb)"
   ]
  },
  {
   "cell_type": "code",
   "execution_count": 63,
   "id": "6ce4a9ff",
   "metadata": {},
   "outputs": [],
   "source": [
    "bb.grad = 2.0"
   ]
  },
  {
   "cell_type": "code",
   "execution_count": 64,
   "id": "23fef027",
   "metadata": {},
   "outputs": [],
   "source": [
    "bb.backward()"
   ]
  },
  {
   "cell_type": "code",
   "execution_count": 65,
   "id": "d31c12c7",
   "metadata": {},
   "outputs": [
    {
     "data": {
      "image/svg+xml": "<?xml version=\"1.0\" encoding=\"UTF-8\" standalone=\"no\"?>\n<!DOCTYPE svg PUBLIC \"-//W3C//DTD SVG 1.1//EN\"\n \"http://www.w3.org/Graphics/SVG/1.1/DTD/svg11.dtd\">\n<!-- Generated by graphviz version 7.0.5 (20221223.1930)\n -->\n<!-- Pages: 1 -->\n<svg width=\"474pt\" height=\"45pt\"\n viewBox=\"0.00 0.00 473.99 45.00\" xmlns=\"http://www.w3.org/2000/svg\" xmlns:xlink=\"http://www.w3.org/1999/xlink\">\n<g id=\"graph0\" class=\"graph\" transform=\"scale(1 1) rotate(0) translate(4 41)\">\n<polygon fill=\"white\" stroke=\"none\" points=\"-4,4 -4,-41 469.99,-41 469.99,4 -4,4\"/>\n<!-- 4512933072 -->\n<g id=\"node1\" class=\"node\">\n<title>4512933072</title>\n<polygon fill=\"none\" stroke=\"black\" points=\"303.99,-0.5 303.99,-36.5 465.99,-36.5 465.99,-0.5 303.99,-0.5\"/>\n<text text-anchor=\"middle\" x=\"343.99\" y=\"-14.8\" font-family=\"Times,serif\" font-size=\"14.00\">data 0.0000</text>\n<polyline fill=\"none\" stroke=\"black\" points=\"383.99,-0.5 383.99,-36.5\"/>\n<text text-anchor=\"middle\" x=\"424.99\" y=\"-14.8\" font-family=\"Times,serif\" font-size=\"14.00\">grad 1.0000</text>\n</g>\n<!-- 4512933072ReLU -->\n<g id=\"node2\" class=\"node\">\n<title>4512933072ReLU</title>\n<ellipse fill=\"none\" stroke=\"black\" cx=\"235.5\" cy=\"-18.5\" rx=\"32.49\" ry=\"18\"/>\n<text text-anchor=\"middle\" x=\"235.5\" y=\"-14.8\" font-family=\"Times,serif\" font-size=\"14.00\">ReLU</text>\n</g>\n<!-- 4512933072ReLU&#45;&gt;4512933072 -->\n<g id=\"edge1\" class=\"edge\">\n<title>4512933072ReLU&#45;&gt;4512933072</title>\n<path fill=\"none\" stroke=\"black\" d=\"M268.14,-18.5C275.7,-18.5 284.14,-18.5 292.94,-18.5\"/>\n<polygon fill=\"black\" stroke=\"black\" points=\"292.71,-22 302.71,-18.5 292.71,-15 292.71,-22\"/>\n</g>\n<!-- 4512931440 -->\n<g id=\"node3\" class=\"node\">\n<title>4512931440</title>\n<polygon fill=\"none\" stroke=\"black\" points=\"0,-0.5 0,-36.5 167,-36.5 167,-0.5 0,-0.5\"/>\n<text text-anchor=\"middle\" x=\"42.5\" y=\"-14.8\" font-family=\"Times,serif\" font-size=\"14.00\">data &#45;3.0000</text>\n<polyline fill=\"none\" stroke=\"black\" points=\"85,-0.5 85,-36.5\"/>\n<text text-anchor=\"middle\" x=\"126\" y=\"-14.8\" font-family=\"Times,serif\" font-size=\"14.00\">grad 0.0000</text>\n</g>\n<!-- 4512931440&#45;&gt;4512933072ReLU -->\n<g id=\"edge2\" class=\"edge\">\n<title>4512931440&#45;&gt;4512933072ReLU</title>\n<path fill=\"none\" stroke=\"black\" d=\"M166.96,-18.5C175.37,-18.5 183.65,-18.5 191.38,-18.5\"/>\n<polygon fill=\"black\" stroke=\"black\" points=\"191.11,-22 201.11,-18.5 191.11,-15 191.11,-22\"/>\n</g>\n</g>\n</svg>\n",
      "text/plain": [
       "<graphviz.graphs.Digraph at 0x10cfde830>"
      ]
     },
     "execution_count": 65,
     "metadata": {},
     "output_type": "execute_result"
    }
   ],
   "source": [
    "draw_dot(bb)"
   ]
  },
  {
   "cell_type": "code",
   "execution_count": 66,
   "id": "7443e734",
   "metadata": {},
   "outputs": [],
   "source": [
    "x = (3, 4, 5)"
   ]
  },
  {
   "cell_type": "code",
   "execution_count": 67,
   "id": "20dd0dc7",
   "metadata": {},
   "outputs": [
    {
     "data": {
      "text/plain": [
       "18"
      ]
     },
     "execution_count": 67,
     "metadata": {},
     "output_type": "execute_result"
    }
   ],
   "source": [
    "sum(x, 6)"
   ]
  },
  {
   "cell_type": "code",
   "execution_count": 68,
   "id": "d7bfb027",
   "metadata": {},
   "outputs": [],
   "source": [
    "x = [3, 4, 5]"
   ]
  },
  {
   "cell_type": "code",
   "execution_count": 69,
   "id": "87c66357",
   "metadata": {},
   "outputs": [
    {
     "data": {
      "text/plain": [
       "18"
      ]
     },
     "execution_count": 69,
     "metadata": {},
     "output_type": "execute_result"
    }
   ],
   "source": [
    "sum(x, 6)"
   ]
  },
  {
   "cell_type": "code",
   "execution_count": 70,
   "id": "3fb4c129",
   "metadata": {},
   "outputs": [
    {
     "data": {
      "text/plain": [
       "12"
      ]
     },
     "execution_count": 70,
     "metadata": {},
     "output_type": "execute_result"
    }
   ],
   "source": [
    "sum(x)"
   ]
  },
  {
   "cell_type": "code",
   "execution_count": 71,
   "id": "e4dd5339",
   "metadata": {},
   "outputs": [],
   "source": [
    "x1 = [1, 2, 3]\n",
    "y1 = [4, 5, 6]"
   ]
  },
  {
   "cell_type": "code",
   "execution_count": 72,
   "id": "a3aceced",
   "metadata": {},
   "outputs": [],
   "source": [
    "z1 = [x*y for x, y in zip(x1, y1)]"
   ]
  },
  {
   "cell_type": "code",
   "execution_count": 73,
   "id": "9ebebbed",
   "metadata": {},
   "outputs": [
    {
     "data": {
      "text/plain": [
       "[4, 10, 18]"
      ]
     },
     "execution_count": 73,
     "metadata": {},
     "output_type": "execute_result"
    }
   ],
   "source": [
    "z1"
   ]
  },
  {
   "cell_type": "code",
   "execution_count": 74,
   "id": "2c4f71ea",
   "metadata": {},
   "outputs": [],
   "source": [
    "from src import nn"
   ]
  },
  {
   "cell_type": "code",
   "execution_count": 75,
   "id": "d2a5a849",
   "metadata": {},
   "outputs": [],
   "source": [
    "k = nn.Neuron(3)"
   ]
  },
  {
   "cell_type": "code",
   "execution_count": 76,
   "id": "eac79fee",
   "metadata": {},
   "outputs": [
    {
     "data": {
      "text/plain": [
       "ReLUNeuron3"
      ]
     },
     "execution_count": 76,
     "metadata": {},
     "output_type": "execute_result"
    }
   ],
   "source": [
    "k"
   ]
  },
  {
   "cell_type": "code",
   "execution_count": 77,
   "id": "050756e5",
   "metadata": {},
   "outputs": [
    {
     "data": {
      "text/plain": [
       "[Value(data=-0.9421075200577809, grad=0.0),\n",
       " Value(data=0.5350351144696786, grad=0.0),\n",
       " Value(data=0.8878641499232949, grad=0.0),\n",
       " Value(data=0, grad=0.0)]"
      ]
     },
     "execution_count": 77,
     "metadata": {},
     "output_type": "execute_result"
    }
   ],
   "source": [
    "k.parameters()"
   ]
  },
  {
   "cell_type": "code",
   "execution_count": 78,
   "id": "8181cea7",
   "metadata": {},
   "outputs": [],
   "source": [
    "x = [1, 2, 3]"
   ]
  },
  {
   "cell_type": "code",
   "execution_count": 79,
   "id": "878387d3",
   "metadata": {},
   "outputs": [
    {
     "data": {
      "text/plain": [
       "Value(data=2.791555158651461, grad=0.0)"
      ]
     },
     "execution_count": 79,
     "metadata": {},
     "output_type": "execute_result"
    }
   ],
   "source": [
    "k(x)"
   ]
  },
  {
   "cell_type": "code",
   "execution_count": 80,
   "id": "15c39f08",
   "metadata": {},
   "outputs": [],
   "source": [
    "k(x).backward()"
   ]
  },
  {
   "cell_type": "code",
   "execution_count": 81,
   "id": "b433bf67",
   "metadata": {},
   "outputs": [
    {
     "data": {
      "text/plain": [
       "[Value(data=-0.9421075200577809, grad=1.0),\n",
       " Value(data=0.5350351144696786, grad=2.0),\n",
       " Value(data=0.8878641499232949, grad=3.0),\n",
       " Value(data=0, grad=1.0)]"
      ]
     },
     "execution_count": 81,
     "metadata": {},
     "output_type": "execute_result"
    }
   ],
   "source": [
    "k.parameters()"
   ]
  },
  {
   "cell_type": "code",
   "execution_count": 82,
   "id": "70aa0dad",
   "metadata": {},
   "outputs": [],
   "source": [
    "fc1 = nn.Layer(3, 1)"
   ]
  },
  {
   "cell_type": "code",
   "execution_count": 83,
   "id": "d5afc278",
   "metadata": {},
   "outputs": [
    {
     "data": {
      "text/plain": [
       "Layer of [ReLUNeuron3]"
      ]
     },
     "execution_count": 83,
     "metadata": {},
     "output_type": "execute_result"
    }
   ],
   "source": [
    "fc1"
   ]
  },
  {
   "cell_type": "code",
   "execution_count": 84,
   "id": "84f5ddb5",
   "metadata": {},
   "outputs": [],
   "source": [
    "fc2 = nn.Layer(3, 2)"
   ]
  },
  {
   "cell_type": "code",
   "execution_count": 85,
   "id": "60f4891e",
   "metadata": {},
   "outputs": [
    {
     "data": {
      "text/plain": [
       "Layer of [ReLUNeuron3, ReLUNeuron3]"
      ]
     },
     "execution_count": 85,
     "metadata": {},
     "output_type": "execute_result"
    }
   ],
   "source": [
    "fc2"
   ]
  },
  {
   "cell_type": "code",
   "execution_count": 86,
   "id": "1f2377d2",
   "metadata": {},
   "outputs": [],
   "source": [
    "p = fc2.parameters()"
   ]
  },
  {
   "cell_type": "code",
   "execution_count": 87,
   "id": "b2cb3a01",
   "metadata": {},
   "outputs": [
    {
     "data": {
      "text/plain": [
       "8"
      ]
     },
     "execution_count": 87,
     "metadata": {},
     "output_type": "execute_result"
    }
   ],
   "source": [
    "len(p)"
   ]
  },
  {
   "cell_type": "code",
   "execution_count": 88,
   "id": "0a622ab5",
   "metadata": {},
   "outputs": [
    {
     "data": {
      "text/plain": [
       "[Value(data=-0.06686897662358615, grad=0.0),\n",
       " Value(data=0.8568785920104349, grad=0.0),\n",
       " Value(data=0.2654769060528577, grad=0.0),\n",
       " Value(data=0, grad=0.0),\n",
       " Value(data=-0.7108878534093124, grad=0.0),\n",
       " Value(data=0.9184098918965806, grad=0.0),\n",
       " Value(data=0.8114425716840084, grad=0.0),\n",
       " Value(data=0, grad=0.0)]"
      ]
     },
     "execution_count": 88,
     "metadata": {},
     "output_type": "execute_result"
    }
   ],
   "source": [
    "p"
   ]
  },
  {
   "cell_type": "code",
   "execution_count": 89,
   "id": "31c33bd1",
   "metadata": {},
   "outputs": [
    {
     "data": {
      "text/plain": [
       "8"
      ]
     },
     "execution_count": 89,
     "metadata": {},
     "output_type": "execute_result"
    }
   ],
   "source": [
    "len(p)"
   ]
  },
  {
   "cell_type": "code",
   "execution_count": 90,
   "id": "e3454ba0",
   "metadata": {},
   "outputs": [
    {
     "data": {
      "text/plain": [
       "Value(data=-0.06686897662358615, grad=0.0)"
      ]
     },
     "execution_count": 90,
     "metadata": {},
     "output_type": "execute_result"
    }
   ],
   "source": [
    "p[0]"
   ]
  },
  {
   "cell_type": "code",
   "execution_count": 91,
   "id": "aee85d06",
   "metadata": {},
   "outputs": [
    {
     "data": {
      "text/plain": [
       "Value(data=0.8568785920104349, grad=0.0)"
      ]
     },
     "execution_count": 91,
     "metadata": {},
     "output_type": "execute_result"
    }
   ],
   "source": [
    "p[1]"
   ]
  },
  {
   "cell_type": "code",
   "execution_count": 92,
   "id": "4e55dfb3",
   "metadata": {},
   "outputs": [
    {
     "data": {
      "text/plain": [
       "Value(data=0, grad=0.0)"
      ]
     },
     "execution_count": 92,
     "metadata": {},
     "output_type": "execute_result"
    }
   ],
   "source": [
    "p[3]"
   ]
  },
  {
   "cell_type": "code",
   "execution_count": 93,
   "id": "f32a984a",
   "metadata": {},
   "outputs": [
    {
     "data": {
      "text/plain": [
       "Value(data=0.2654769060528577, grad=0.0)"
      ]
     },
     "execution_count": 93,
     "metadata": {},
     "output_type": "execute_result"
    }
   ],
   "source": [
    "p[2]"
   ]
  },
  {
   "cell_type": "code",
   "execution_count": 94,
   "id": "fd54eb74",
   "metadata": {},
   "outputs": [],
   "source": [
    "y = fc1(x)"
   ]
  },
  {
   "cell_type": "code",
   "execution_count": 95,
   "id": "614645d4",
   "metadata": {},
   "outputs": [
    {
     "data": {
      "image/svg+xml": "<?xml version=\"1.0\" encoding=\"UTF-8\" standalone=\"no\"?>\n<!DOCTYPE svg PUBLIC \"-//W3C//DTD SVG 1.1//EN\"\n \"http://www.w3.org/Graphics/SVG/1.1/DTD/svg11.dtd\">\n<!-- Generated by graphviz version 7.0.5 (20221223.1930)\n -->\n<!-- Pages: 1 -->\n<svg width=\"1636pt\" height=\"292pt\"\n viewBox=\"0.00 0.00 1635.99 292.00\" xmlns=\"http://www.w3.org/2000/svg\" xmlns:xlink=\"http://www.w3.org/1999/xlink\">\n<g id=\"graph0\" class=\"graph\" transform=\"scale(1 1) rotate(0) translate(4 288)\">\n<polygon fill=\"white\" stroke=\"none\" points=\"-4,4 -4,-288 1631.99,-288 1631.99,4 -4,4\"/>\n<!-- 4513113104 -->\n<g id=\"node1\" class=\"node\">\n<title>4513113104</title>\n<polygon fill=\"none\" stroke=\"black\" points=\"288,-27.5 288,-63.5 450,-63.5 450,-27.5 288,-27.5\"/>\n<text text-anchor=\"middle\" x=\"328\" y=\"-41.8\" font-family=\"Times,serif\" font-size=\"14.00\">data 0.0450</text>\n<polyline fill=\"none\" stroke=\"black\" points=\"368,-27.5 368,-63.5\"/>\n<text text-anchor=\"middle\" x=\"409\" y=\"-41.8\" font-family=\"Times,serif\" font-size=\"14.00\">grad 0.0000</text>\n</g>\n<!-- 4513112192+ -->\n<g id=\"node9\" class=\"node\">\n<title>4513112192+</title>\n<ellipse fill=\"none\" stroke=\"black\" cx=\"513\" cy=\"-100.5\" rx=\"27\" ry=\"18\"/>\n<text text-anchor=\"middle\" x=\"513\" y=\"-96.8\" font-family=\"Times,serif\" font-size=\"14.00\">+</text>\n</g>\n<!-- 4513113104&#45;&gt;4513112192+ -->\n<g id=\"edge17\" class=\"edge\">\n<title>4513113104&#45;&gt;4513112192+</title>\n<path fill=\"none\" stroke=\"black\" d=\"M423.13,-63.48C432.14,-66.7 441.37,-70.12 450,-73.5 459.77,-77.33 470.27,-81.78 479.81,-85.94\"/>\n<polygon fill=\"black\" stroke=\"black\" points=\"478.12,-89.03 488.69,-89.87 480.95,-82.62 478.12,-89.03\"/>\n</g>\n<!-- 4513113104* -->\n<g id=\"node2\" class=\"node\">\n<title>4513113104*</title>\n<ellipse fill=\"none\" stroke=\"black\" cx=\"225\" cy=\"-45.5\" rx=\"27\" ry=\"18\"/>\n<text text-anchor=\"middle\" x=\"225\" y=\"-41.8\" font-family=\"Times,serif\" font-size=\"14.00\">*</text>\n</g>\n<!-- 4513113104*&#45;&gt;4513113104 -->\n<g id=\"edge1\" class=\"edge\">\n<title>4513113104*&#45;&gt;4513113104</title>\n<path fill=\"none\" stroke=\"black\" d=\"M252.38,-45.5C259.65,-45.5 267.98,-45.5 276.75,-45.5\"/>\n<polygon fill=\"black\" stroke=\"black\" points=\"276.55,-49 286.55,-45.5 276.55,-42 276.55,-49\"/>\n</g>\n<!-- 4513116704 -->\n<g id=\"node3\" class=\"node\">\n<title>4513116704</title>\n<polygon fill=\"none\" stroke=\"black\" points=\"288,-82.5 288,-118.5 450,-118.5 450,-82.5 288,-82.5\"/>\n<text text-anchor=\"middle\" x=\"328\" y=\"-96.8\" font-family=\"Times,serif\" font-size=\"14.00\">data 0.0000</text>\n<polyline fill=\"none\" stroke=\"black\" points=\"368,-82.5 368,-118.5\"/>\n<text text-anchor=\"middle\" x=\"409\" y=\"-96.8\" font-family=\"Times,serif\" font-size=\"14.00\">grad 0.0000</text>\n</g>\n<!-- 4513116704&#45;&gt;4513112192+ -->\n<g id=\"edge13\" class=\"edge\">\n<title>4513116704&#45;&gt;4513112192+</title>\n<path fill=\"none\" stroke=\"black\" d=\"M449.72,-100.5C458.18,-100.5 466.48,-100.5 474.11,-100.5\"/>\n<polygon fill=\"black\" stroke=\"black\" points=\"473.99,-104 483.99,-100.5 473.99,-97 473.99,-104\"/>\n</g>\n<!-- 4513117712 -->\n<g id=\"node4\" class=\"node\">\n<title>4513117712</title>\n<polygon fill=\"none\" stroke=\"black\" points=\"288,-192.5 288,-228.5 450,-228.5 450,-192.5 288,-192.5\"/>\n<text text-anchor=\"middle\" x=\"328\" y=\"-206.8\" font-family=\"Times,serif\" font-size=\"14.00\">data 2.0000</text>\n<polyline fill=\"none\" stroke=\"black\" points=\"368,-192.5 368,-228.5\"/>\n<text text-anchor=\"middle\" x=\"409\" y=\"-206.8\" font-family=\"Times,serif\" font-size=\"14.00\">grad 0.0000</text>\n</g>\n<!-- 4513119200* -->\n<g id=\"node21\" class=\"node\">\n<title>4513119200*</title>\n<ellipse fill=\"none\" stroke=\"black\" cx=\"513\" cy=\"-155.5\" rx=\"27\" ry=\"18\"/>\n<text text-anchor=\"middle\" x=\"513\" y=\"-151.8\" font-family=\"Times,serif\" font-size=\"14.00\">*</text>\n</g>\n<!-- 4513117712&#45;&gt;4513119200* -->\n<g id=\"edge9\" class=\"edge\">\n<title>4513117712&#45;&gt;4513119200*</title>\n<path fill=\"none\" stroke=\"black\" d=\"M425.34,-192.62C433.66,-189.7 442.09,-186.61 450,-183.5 459.9,-179.6 470.51,-174.98 480.11,-170.63\"/>\n<polygon fill=\"black\" stroke=\"black\" points=\"481.42,-173.88 489.04,-166.51 478.5,-167.52 481.42,-173.88\"/>\n</g>\n<!-- 4513119152 -->\n<g id=\"node5\" class=\"node\">\n<title>4513119152</title>\n<polygon fill=\"none\" stroke=\"black\" points=\"578.5,-247.5 578.5,-283.5 740.5,-283.5 740.5,-247.5 578.5,-247.5\"/>\n<text text-anchor=\"middle\" x=\"618.5\" y=\"-261.8\" font-family=\"Times,serif\" font-size=\"14.00\">data 3.0000</text>\n<polyline fill=\"none\" stroke=\"black\" points=\"658.5,-247.5 658.5,-283.5\"/>\n<text text-anchor=\"middle\" x=\"699.5\" y=\"-261.8\" font-family=\"Times,serif\" font-size=\"14.00\">grad 0.0000</text>\n</g>\n<!-- 4513119968* -->\n<g id=\"node17\" class=\"node\">\n<title>4513119968*</title>\n<ellipse fill=\"none\" stroke=\"black\" cx=\"806\" cy=\"-210.5\" rx=\"27\" ry=\"18\"/>\n<text text-anchor=\"middle\" x=\"806\" y=\"-206.8\" font-family=\"Times,serif\" font-size=\"14.00\">*</text>\n</g>\n<!-- 4513119152&#45;&gt;4513119968* -->\n<g id=\"edge8\" class=\"edge\">\n<title>4513119152&#45;&gt;4513119968*</title>\n<path fill=\"none\" stroke=\"black\" d=\"M718.03,-247.55C726.46,-244.67 734.99,-241.61 743,-238.5 752.92,-234.65 763.54,-230.04 773.13,-225.69\"/>\n<polygon fill=\"black\" stroke=\"black\" points=\"774.45,-228.93 782.06,-221.56 771.52,-222.58 774.45,-228.93\"/>\n</g>\n<!-- 4513118816 -->\n<g id=\"node6\" class=\"node\">\n<title>4513118816</title>\n<polygon fill=\"none\" stroke=\"black\" points=\"1162,-164.5 1162,-200.5 1329,-200.5 1329,-164.5 1162,-164.5\"/>\n<text text-anchor=\"middle\" x=\"1204.5\" y=\"-178.8\" font-family=\"Times,serif\" font-size=\"14.00\">data &#45;0.4815</text>\n<polyline fill=\"none\" stroke=\"black\" points=\"1247,-164.5 1247,-200.5\"/>\n<text text-anchor=\"middle\" x=\"1288\" y=\"-178.8\" font-family=\"Times,serif\" font-size=\"14.00\">grad 0.0000</text>\n</g>\n<!-- 4513112288ReLU -->\n<g id=\"node14\" class=\"node\">\n<title>4513112288ReLU</title>\n<ellipse fill=\"none\" stroke=\"black\" cx=\"1397.5\" cy=\"-182.5\" rx=\"32.49\" ry=\"18\"/>\n<text text-anchor=\"middle\" x=\"1397.5\" y=\"-178.8\" font-family=\"Times,serif\" font-size=\"14.00\">ReLU</text>\n</g>\n<!-- 4513118816&#45;&gt;4513112288ReLU -->\n<g id=\"edge14\" class=\"edge\">\n<title>4513118816&#45;&gt;4513112288ReLU</title>\n<path fill=\"none\" stroke=\"black\" d=\"M1328.96,-182.5C1337.37,-182.5 1345.65,-182.5 1353.38,-182.5\"/>\n<polygon fill=\"black\" stroke=\"black\" points=\"1353.11,-186 1363.11,-182.5 1353.11,-179 1353.11,-186\"/>\n</g>\n<!-- 4513118816+ -->\n<g id=\"node7\" class=\"node\">\n<title>4513118816+</title>\n<ellipse fill=\"none\" stroke=\"black\" cx=\"1099\" cy=\"-182.5\" rx=\"27\" ry=\"18\"/>\n<text text-anchor=\"middle\" x=\"1099\" y=\"-178.8\" font-family=\"Times,serif\" font-size=\"14.00\">+</text>\n</g>\n<!-- 4513118816+&#45;&gt;4513118816 -->\n<g id=\"edge2\" class=\"edge\">\n<title>4513118816+&#45;&gt;4513118816</title>\n<path fill=\"none\" stroke=\"black\" d=\"M1126.17,-182.5C1133.49,-182.5 1141.89,-182.5 1150.77,-182.5\"/>\n<polygon fill=\"black\" stroke=\"black\" points=\"1150.71,-186 1160.71,-182.5 1150.71,-179 1150.71,-186\"/>\n</g>\n<!-- 4513112192 -->\n<g id=\"node8\" class=\"node\">\n<title>4513112192</title>\n<polygon fill=\"none\" stroke=\"black\" points=\"578.5,-82.5 578.5,-118.5 740.5,-118.5 740.5,-82.5 578.5,-82.5\"/>\n<text text-anchor=\"middle\" x=\"618.5\" y=\"-96.8\" font-family=\"Times,serif\" font-size=\"14.00\">data 0.0450</text>\n<polyline fill=\"none\" stroke=\"black\" points=\"658.5,-82.5 658.5,-118.5\"/>\n<text text-anchor=\"middle\" x=\"699.5\" y=\"-96.8\" font-family=\"Times,serif\" font-size=\"14.00\">grad 0.0000</text>\n</g>\n<!-- 4513117856+ -->\n<g id=\"node12\" class=\"node\">\n<title>4513117856+</title>\n<ellipse fill=\"none\" stroke=\"black\" cx=\"806\" cy=\"-155.5\" rx=\"27\" ry=\"18\"/>\n<text text-anchor=\"middle\" x=\"806\" y=\"-151.8\" font-family=\"Times,serif\" font-size=\"14.00\">+</text>\n</g>\n<!-- 4513112192&#45;&gt;4513117856+ -->\n<g id=\"edge12\" class=\"edge\">\n<title>4513112192&#45;&gt;4513117856+</title>\n<path fill=\"none\" stroke=\"black\" d=\"M715.32,-118.39C724.6,-121.62 734.11,-125.06 743,-128.5 752.79,-132.28 763.3,-136.72 772.83,-140.88\"/>\n<polygon fill=\"black\" stroke=\"black\" points=\"771.15,-143.97 781.71,-144.81 773.98,-137.56 771.15,-143.97\"/>\n</g>\n<!-- 4513112192+&#45;&gt;4513112192 -->\n<g id=\"edge3\" class=\"edge\">\n<title>4513112192+&#45;&gt;4513112192</title>\n<path fill=\"none\" stroke=\"black\" d=\"M540.17,-100.5C548.2,-100.5 557.55,-100.5 567.39,-100.5\"/>\n<polygon fill=\"black\" stroke=\"black\" points=\"567.16,-104 577.16,-100.5 567.16,-97 567.16,-104\"/>\n</g>\n<!-- 4513116800 -->\n<g id=\"node10\" class=\"node\">\n<title>4513116800</title>\n<polygon fill=\"none\" stroke=\"black\" points=\"576,-192.5 576,-228.5 743,-228.5 743,-192.5 576,-192.5\"/>\n<text text-anchor=\"middle\" x=\"618.5\" y=\"-206.8\" font-family=\"Times,serif\" font-size=\"14.00\">data &#45;0.8226</text>\n<polyline fill=\"none\" stroke=\"black\" points=\"661,-192.5 661,-228.5\"/>\n<text text-anchor=\"middle\" x=\"702\" y=\"-206.8\" font-family=\"Times,serif\" font-size=\"14.00\">grad 0.0000</text>\n</g>\n<!-- 4513116800&#45;&gt;4513119968* -->\n<g id=\"edge20\" class=\"edge\">\n<title>4513116800&#45;&gt;4513119968*</title>\n<path fill=\"none\" stroke=\"black\" d=\"M742.88,-210.5C751.37,-210.5 759.66,-210.5 767.28,-210.5\"/>\n<polygon fill=\"black\" stroke=\"black\" points=\"767.13,-214 777.13,-210.5 767.13,-207 767.13,-214\"/>\n</g>\n<!-- 4513117856 -->\n<g id=\"node11\" class=\"node\">\n<title>4513117856</title>\n<polygon fill=\"none\" stroke=\"black\" points=\"871.5,-137.5 871.5,-173.5 1033.5,-173.5 1033.5,-137.5 871.5,-137.5\"/>\n<text text-anchor=\"middle\" x=\"911.5\" y=\"-151.8\" font-family=\"Times,serif\" font-size=\"14.00\">data 1.9864</text>\n<polyline fill=\"none\" stroke=\"black\" points=\"951.5,-137.5 951.5,-173.5\"/>\n<text text-anchor=\"middle\" x=\"992.5\" y=\"-151.8\" font-family=\"Times,serif\" font-size=\"14.00\">grad 0.0000</text>\n</g>\n<!-- 4513117856&#45;&gt;4513118816+ -->\n<g id=\"edge16\" class=\"edge\">\n<title>4513117856&#45;&gt;4513118816+</title>\n<path fill=\"none\" stroke=\"black\" d=\"M1033.36,-170.42C1043.14,-172.25 1052.73,-174.04 1061.41,-175.66\"/>\n<polygon fill=\"black\" stroke=\"black\" points=\"1060.65,-179.08 1071.12,-177.48 1061.94,-172.2 1060.65,-179.08\"/>\n</g>\n<!-- 4513117856+&#45;&gt;4513117856 -->\n<g id=\"edge4\" class=\"edge\">\n<title>4513117856+&#45;&gt;4513117856</title>\n<path fill=\"none\" stroke=\"black\" d=\"M833.17,-155.5C841.2,-155.5 850.55,-155.5 860.39,-155.5\"/>\n<polygon fill=\"black\" stroke=\"black\" points=\"860.16,-159 870.16,-155.5 860.16,-152 860.16,-159\"/>\n</g>\n<!-- 4513112288 -->\n<g id=\"node13\" class=\"node\">\n<title>4513112288</title>\n<polygon fill=\"none\" stroke=\"black\" points=\"1465.99,-164.5 1465.99,-200.5 1627.99,-200.5 1627.99,-164.5 1465.99,-164.5\"/>\n<text text-anchor=\"middle\" x=\"1505.99\" y=\"-178.8\" font-family=\"Times,serif\" font-size=\"14.00\">data 0.0000</text>\n<polyline fill=\"none\" stroke=\"black\" points=\"1545.99,-164.5 1545.99,-200.5\"/>\n<text text-anchor=\"middle\" x=\"1586.99\" y=\"-178.8\" font-family=\"Times,serif\" font-size=\"14.00\">grad 0.0000</text>\n</g>\n<!-- 4513112288ReLU&#45;&gt;4513112288 -->\n<g id=\"edge5\" class=\"edge\">\n<title>4513112288ReLU&#45;&gt;4513112288</title>\n<path fill=\"none\" stroke=\"black\" d=\"M1430.14,-182.5C1437.7,-182.5 1446.14,-182.5 1454.94,-182.5\"/>\n<polygon fill=\"black\" stroke=\"black\" points=\"1454.71,-186 1464.71,-182.5 1454.71,-179 1454.71,-186\"/>\n</g>\n<!-- 4513116896 -->\n<g id=\"node15\" class=\"node\">\n<title>4513116896</title>\n<polygon fill=\"none\" stroke=\"black\" points=\"288,-137.5 288,-173.5 450,-173.5 450,-137.5 288,-137.5\"/>\n<text text-anchor=\"middle\" x=\"328\" y=\"-151.8\" font-family=\"Times,serif\" font-size=\"14.00\">data 0.9707</text>\n<polyline fill=\"none\" stroke=\"black\" points=\"368,-137.5 368,-173.5\"/>\n<text text-anchor=\"middle\" x=\"409\" y=\"-151.8\" font-family=\"Times,serif\" font-size=\"14.00\">grad 0.0000</text>\n</g>\n<!-- 4513116896&#45;&gt;4513119200* -->\n<g id=\"edge10\" class=\"edge\">\n<title>4513116896&#45;&gt;4513119200*</title>\n<path fill=\"none\" stroke=\"black\" d=\"M449.72,-155.5C458.18,-155.5 466.48,-155.5 474.11,-155.5\"/>\n<polygon fill=\"black\" stroke=\"black\" points=\"473.99,-159 483.99,-155.5 473.99,-152 473.99,-159\"/>\n</g>\n<!-- 4513119968 -->\n<g id=\"node16\" class=\"node\">\n<title>4513119968</title>\n<polygon fill=\"none\" stroke=\"black\" points=\"869,-192.5 869,-228.5 1036,-228.5 1036,-192.5 869,-192.5\"/>\n<text text-anchor=\"middle\" x=\"911.5\" y=\"-206.8\" font-family=\"Times,serif\" font-size=\"14.00\">data &#45;2.4679</text>\n<polyline fill=\"none\" stroke=\"black\" points=\"954,-192.5 954,-228.5\"/>\n<text text-anchor=\"middle\" x=\"995\" y=\"-206.8\" font-family=\"Times,serif\" font-size=\"14.00\">grad 0.0000</text>\n</g>\n<!-- 4513119968&#45;&gt;4513118816+ -->\n<g id=\"edge15\" class=\"edge\">\n<title>4513119968&#45;&gt;4513118816+</title>\n<path fill=\"none\" stroke=\"black\" d=\"M1035.88,-194.54C1044.82,-192.8 1053.55,-191.11 1061.51,-189.57\"/>\n<polygon fill=\"black\" stroke=\"black\" points=\"1061.91,-193.06 1071.06,-187.72 1060.58,-186.19 1061.91,-193.06\"/>\n</g>\n<!-- 4513119968*&#45;&gt;4513119968 -->\n<g id=\"edge6\" class=\"edge\">\n<title>4513119968*&#45;&gt;4513119968</title>\n<path fill=\"none\" stroke=\"black\" d=\"M833.17,-210.5C840.49,-210.5 848.89,-210.5 857.77,-210.5\"/>\n<polygon fill=\"black\" stroke=\"black\" points=\"857.71,-214 867.71,-210.5 857.71,-207 857.71,-214\"/>\n</g>\n<!-- 4513105328 -->\n<g id=\"node18\" class=\"node\">\n<title>4513105328</title>\n<polygon fill=\"none\" stroke=\"black\" points=\"0,-55.5 0,-91.5 162,-91.5 162,-55.5 0,-55.5\"/>\n<text text-anchor=\"middle\" x=\"40\" y=\"-69.8\" font-family=\"Times,serif\" font-size=\"14.00\">data 0.0450</text>\n<polyline fill=\"none\" stroke=\"black\" points=\"80,-55.5 80,-91.5\"/>\n<text text-anchor=\"middle\" x=\"121\" y=\"-69.8\" font-family=\"Times,serif\" font-size=\"14.00\">grad 0.0000</text>\n</g>\n<!-- 4513105328&#45;&gt;4513113104* -->\n<g id=\"edge18\" class=\"edge\">\n<title>4513105328&#45;&gt;4513113104*</title>\n<path fill=\"none\" stroke=\"black\" d=\"M161.72,-57.78C170.72,-56.01 179.54,-54.27 187.57,-52.68\"/>\n<polygon fill=\"black\" stroke=\"black\" points=\"188.09,-56.15 197.23,-50.78 186.74,-49.28 188.09,-56.15\"/>\n</g>\n<!-- 4513118672 -->\n<g id=\"node19\" class=\"node\">\n<title>4513118672</title>\n<polygon fill=\"none\" stroke=\"black\" points=\"0,-0.5 0,-36.5 162,-36.5 162,-0.5 0,-0.5\"/>\n<text text-anchor=\"middle\" x=\"40\" y=\"-14.8\" font-family=\"Times,serif\" font-size=\"14.00\">data 1.0000</text>\n<polyline fill=\"none\" stroke=\"black\" points=\"80,-0.5 80,-36.5\"/>\n<text text-anchor=\"middle\" x=\"121\" y=\"-14.8\" font-family=\"Times,serif\" font-size=\"14.00\">grad 0.0000</text>\n</g>\n<!-- 4513118672&#45;&gt;4513113104* -->\n<g id=\"edge19\" class=\"edge\">\n<title>4513118672&#45;&gt;4513113104*</title>\n<path fill=\"none\" stroke=\"black\" d=\"M161.72,-33.66C170.72,-35.37 179.54,-37.05 187.57,-38.57\"/>\n<polygon fill=\"black\" stroke=\"black\" points=\"186.75,-41.98 197.23,-40.41 188.06,-35.1 186.75,-41.98\"/>\n</g>\n<!-- 4513119200 -->\n<g id=\"node20\" class=\"node\">\n<title>4513119200</title>\n<polygon fill=\"none\" stroke=\"black\" points=\"578.5,-137.5 578.5,-173.5 740.5,-173.5 740.5,-137.5 578.5,-137.5\"/>\n<text text-anchor=\"middle\" x=\"618.5\" y=\"-151.8\" font-family=\"Times,serif\" font-size=\"14.00\">data 1.9414</text>\n<polyline fill=\"none\" stroke=\"black\" points=\"658.5,-137.5 658.5,-173.5\"/>\n<text text-anchor=\"middle\" x=\"699.5\" y=\"-151.8\" font-family=\"Times,serif\" font-size=\"14.00\">grad 0.0000</text>\n</g>\n<!-- 4513119200&#45;&gt;4513117856+ -->\n<g id=\"edge11\" class=\"edge\">\n<title>4513119200&#45;&gt;4513117856+</title>\n<path fill=\"none\" stroke=\"black\" d=\"M740.36,-155.5C749.76,-155.5 758.99,-155.5 767.4,-155.5\"/>\n<polygon fill=\"black\" stroke=\"black\" points=\"767.17,-159 777.17,-155.5 767.17,-152 767.17,-159\"/>\n</g>\n<!-- 4513119200*&#45;&gt;4513119200 -->\n<g id=\"edge7\" class=\"edge\">\n<title>4513119200*&#45;&gt;4513119200</title>\n<path fill=\"none\" stroke=\"black\" d=\"M540.17,-155.5C548.2,-155.5 557.55,-155.5 567.39,-155.5\"/>\n<polygon fill=\"black\" stroke=\"black\" points=\"567.16,-159 577.16,-155.5 567.16,-152 567.16,-159\"/>\n</g>\n</g>\n</svg>\n",
      "text/plain": [
       "<graphviz.graphs.Digraph at 0x10d00bac0>"
      ]
     },
     "execution_count": 95,
     "metadata": {},
     "output_type": "execute_result"
    }
   ],
   "source": [
    "draw_dot(y)"
   ]
  },
  {
   "cell_type": "code",
   "execution_count": 96,
   "id": "d0eb6dcb",
   "metadata": {},
   "outputs": [
    {
     "data": {
      "text/plain": [
       "Value(data=0, grad=0.0)"
      ]
     },
     "execution_count": 96,
     "metadata": {},
     "output_type": "execute_result"
    }
   ],
   "source": [
    "y"
   ]
  },
  {
   "cell_type": "code",
   "execution_count": 97,
   "id": "feb5f227",
   "metadata": {},
   "outputs": [
    {
     "data": {
      "text/plain": [
       "[1, 2, 3]"
      ]
     },
     "execution_count": 97,
     "metadata": {},
     "output_type": "execute_result"
    }
   ],
   "source": [
    "x"
   ]
  },
  {
   "cell_type": "code",
   "execution_count": 98,
   "id": "9f574f1f",
   "metadata": {},
   "outputs": [
    {
     "data": {
      "text/plain": [
       "Layer of [ReLUNeuron3]"
      ]
     },
     "execution_count": 98,
     "metadata": {},
     "output_type": "execute_result"
    }
   ],
   "source": [
    "fc1"
   ]
  },
  {
   "cell_type": "code",
   "execution_count": 99,
   "id": "c3045366",
   "metadata": {},
   "outputs": [
    {
     "data": {
      "text/plain": [
       "[Value(data=0.0450328808727809, grad=0.0),\n",
       " Value(data=0.9706985934604704, grad=0.0),\n",
       " Value(data=-0.8226348516478175, grad=0.0),\n",
       " Value(data=0, grad=0.0)]"
      ]
     },
     "execution_count": 99,
     "metadata": {},
     "output_type": "execute_result"
    }
   ],
   "source": [
    "fc1.parameters()"
   ]
  },
  {
   "cell_type": "code",
   "execution_count": 100,
   "id": "9b8848d4",
   "metadata": {},
   "outputs": [
    {
     "data": {
      "text/plain": [
       "[Value(data=2.4433189255558565, grad=0.0),\n",
       " Value(data=3.560259645435874, grad=0.0)]"
      ]
     },
     "execution_count": 100,
     "metadata": {},
     "output_type": "execute_result"
    }
   ],
   "source": [
    "fc2(x)"
   ]
  },
  {
   "cell_type": "code",
   "execution_count": null,
   "id": "c5e6a62a",
   "metadata": {},
   "outputs": [],
   "source": []
  }
 ],
 "metadata": {
  "kernelspec": {
   "display_name": "Python 3 (ipykernel)",
   "language": "python",
   "name": "python3"
  },
  "language_info": {
   "codemirror_mode": {
    "name": "ipython",
    "version": 3
   },
   "file_extension": ".py",
   "mimetype": "text/x-python",
   "name": "python",
   "nbconvert_exporter": "python",
   "pygments_lexer": "ipython3",
   "version": "3.10.9"
  },
  "vscode": {
   "interpreter": {
    "hash": "aee8b7b246df8f9039afb4144a1f6fd8d2ca17a180786b69acc140d282b71a49"
   }
  }
 },
 "nbformat": 4,
 "nbformat_minor": 5
}
